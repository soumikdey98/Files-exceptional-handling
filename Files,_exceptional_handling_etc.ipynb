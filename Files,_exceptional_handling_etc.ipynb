{
  "nbformat": 4,
  "nbformat_minor": 0,
  "metadata": {
    "colab": {
      "provenance": []
    },
    "kernelspec": {
      "name": "python3",
      "display_name": "Python 3"
    },
    "language_info": {
      "name": "python"
    }
  },
  "cells": [
    {
      "cell_type": "markdown",
      "source": [
        "##1. What is the difference between interpreted and compiled language?\n",
        "==> Interpreted languages use an interpreter to execute code line by line at runtime. This makes them easier to debug and more flexible, but generally slower in performance. Examples include Python, JavaScript, and Ruby.\n",
        "\n",
        "In contrast, compiled languages use a compiler to translate the entire source code into machine code before execution. This results in faster performance, but the process takes more time upfront and debugging can be more complex. Examples include C, C++, and Rust."
      ],
      "metadata": {
        "id": "0yvuBMJ0H-R2"
      }
    },
    {
      "cell_type": "markdown",
      "source": [
        "##2.What is exception handling in Python?\n",
        "==>Exception handling in Python is used to manage runtime errors and prevent programs from crashing. It allows the programmer to detect and respond to errors gracefully using try, except, else, and finally blocks.\n",
        "\n",
        "The try block contains code that might raise an exception. If an error occurs, the except block handles it. The else block runs if no error occurs, and finally runs no matter what — often used for cleanup."
      ],
      "metadata": {
        "id": "GVD8RqrwIzKd"
      }
    },
    {
      "cell_type": "code",
      "source": [
        "try:\n",
        "    x = int(input(\"Enter a number: \"))\n",
        "    print(10 / x)\n",
        "except ZeroDivisionError:\n",
        "    print(\"Cannot divide by zero.\")\n",
        "except ValueError:\n",
        "    print(\"Invalid input.\")\n",
        "finally:\n",
        "    print(\"Done.\")\n"
      ],
      "metadata": {
        "colab": {
          "base_uri": "https://localhost:8080/"
        },
        "id": "m-tXcBpIMkBW",
        "outputId": "f1f7da2f-b351-4125-ad3e-b466a4e4bbf6"
      },
      "execution_count": null,
      "outputs": [
        {
          "output_type": "stream",
          "name": "stdout",
          "text": [
            "Enter a number: 0\n",
            "Cannot divide by zero.\n",
            "Done.\n"
          ]
        }
      ]
    },
    {
      "cell_type": "markdown",
      "source": [
        "##3.What is the purpose of the finally block in exception handling?\n",
        "==>> The purpose of the finally block in exception handling is to define a section of code that will always execute, no matter what—whether an exception was raised or not.\n",
        "\n",
        "\n",
        "**1.** It runs after the try and except blocks.\n",
        "\n",
        "**2**. It is often used for cleanup actions, like closing a file or releasing resources.\n",
        "\n",
        "**3**.Even if there’s a return statement or an error, the finally block still executes.\n",
        "\n"
      ],
      "metadata": {
        "id": "M8eZxppVMv06"
      }
    },
    {
      "cell_type": "markdown",
      "source": [
        "##4.What is logging in Python?\n",
        "==>**Logging in Python**\n",
        "\n",
        "Logging in Python is a way to track events that happen when a program runs. It is used for debugging, monitoring, and keeping records of what the program is doing.\n",
        "\n",
        "Instead of using print() statements, Python's logging module provides a more flexible way to report messages at different levels of importance.\n",
        "\n",
        "🔹 **Why Use Logging?**\n",
        "\n",
        "Helps in debugging and error tracking.\n",
        "\n",
        "Allows saving messages to a file.\n",
        "\n",
        "Gives control over message formatting and severity levels."
      ],
      "metadata": {
        "id": "wkMd9YN4Pur4"
      }
    },
    {
      "cell_type": "code",
      "source": [
        "import logging\n",
        "\n",
        "logging.basicConfig(level=logging.INFO)\n",
        "logging.info(\"This is an info message\")\n"
      ],
      "metadata": {
        "id": "zxhDvurWQPUB"
      },
      "execution_count": null,
      "outputs": []
    },
    {
      "cell_type": "markdown",
      "source": [
        "##5.What is the significance of the __del__ method in Python?\n",
        "==> __del__ Method in Python\n",
        "The __del__ method in Python is a special method called a destructor. It is automatically invoked when an object is about to be destroyed, allowing you to perform cleanup operations like closing files or releasing resources.\n",
        "\n",
        "🔹 Important Points:\n",
        "Defined using def __del__(self):.\n",
        "\n",
        "Called automatically when an object is deleted or garbage collected.\n",
        "\n",
        "Useful for cleanup tasks (e.g., closing files, releasing memory).\n",
        "\n",
        "Its execution time is not guaranteed—so avoid relying on it for critical tasks.\n",
        "\n",
        "For better control over cleanup, use context managers (with statement)."
      ],
      "metadata": {
        "id": "s5ACYjNbNdX_"
      }
    },
    {
      "cell_type": "code",
      "source": [
        "class FileHandler:\n",
        "    def __init__(self, filename):\n",
        "        self.file = open(filename, 'w')\n",
        "\n",
        "    def __del__(self):\n",
        "        self.file.close()\n",
        "        print(\"File closed and object deleted\")\n",
        "\n",
        "obj = FileHandler(\"example.txt\")\n",
        "del obj  # This explicitly triggers __del__()\n"
      ],
      "metadata": {
        "colab": {
          "base_uri": "https://localhost:8080/"
        },
        "id": "hnaogzg2NcsU",
        "outputId": "21517c43-b623-4225-a2f0-0e59c6344222"
      },
      "execution_count": null,
      "outputs": [
        {
          "output_type": "stream",
          "name": "stdout",
          "text": [
            "File closed and object deleted\n"
          ]
        }
      ]
    },
    {
      "cell_type": "markdown",
      "source": [
        "##6.What is the difference between import and from ... import in Python?\n",
        "==>> Difference Between import and from ... import in Python\n",
        "In Python, both import and from ... import are used to access code from external modules, but they differ in how the imported elements are accessed.\n",
        "\n",
        "🔹**import Statement**:\n",
        "\n",
        "Imports the entire module.\n",
        "\n",
        "You must use the module name to access its functions or variables."
      ],
      "metadata": {
        "id": "oUO8j85wOTdn"
      }
    },
    {
      "cell_type": "code",
      "source": [
        "import math\n",
        "print(math.sqrt(16))  # Access using module name\n",
        "\n"
      ],
      "metadata": {
        "colab": {
          "base_uri": "https://localhost:8080/"
        },
        "id": "lrv-vQCBMn1z",
        "outputId": "03abf761-cbb9-437d-a11a-6587fb9b8b33"
      },
      "execution_count": null,
      "outputs": [
        {
          "output_type": "stream",
          "name": "stdout",
          "text": [
            "4.0\n"
          ]
        }
      ]
    },
    {
      "cell_type": "markdown",
      "source": [
        " **from ... import Statement:**\n",
        "\n",
        "Imports specific items (functions, variables, classes) from a module.\n",
        "\n",
        "You can use them directly without the module name."
      ],
      "metadata": {
        "id": "eXvvXyg9Ovgx"
      }
    },
    {
      "cell_type": "code",
      "source": [
        "from math import sqrt\n",
        "print(sqrt(16))  # Direct access, no 'math.'\n"
      ],
      "metadata": {
        "colab": {
          "base_uri": "https://localhost:8080/"
        },
        "id": "CG50WgiVOugp",
        "outputId": "e7e46194-ad3c-4017-9131-c1554c7db117"
      },
      "execution_count": null,
      "outputs": [
        {
          "output_type": "stream",
          "name": "stdout",
          "text": [
            "4.0\n"
          ]
        }
      ]
    },
    {
      "cell_type": "markdown",
      "source": [
        "##7.How can you handle multiple exceptions in Python?\n",
        "==> 🔹 1. **Multiple except Blocks**\n",
        "This lets you respond differently to different types of errors."
      ],
      "metadata": {
        "id": "hPXDwF9VPPHt"
      }
    },
    {
      "cell_type": "code",
      "source": [
        "try:\n",
        "    num = int(input(\"Enter a number: \"))\n",
        "    result = 10 / num\n",
        "except ZeroDivisionError:\n",
        "    print(\"Cannot divide by zero.\")\n",
        "except ValueError:\n",
        "    print(\"Invalid input. Please enter a number.\")\n"
      ],
      "metadata": {
        "colab": {
          "base_uri": "https://localhost:8080/"
        },
        "id": "c8yg843BPBln",
        "outputId": "6bac188d-ef0c-4492-f6f3-749b3e36ed2d"
      },
      "execution_count": null,
      "outputs": [
        {
          "output_type": "stream",
          "name": "stdout",
          "text": [
            "Enter a number: 0\n",
            "Cannot divide by zero.\n"
          ]
        }
      ]
    },
    {
      "cell_type": "markdown",
      "source": [
        "**2. Single except Block with a Tuple**\n",
        "\n",
        "Use this when you want the same response for multiple exceptions."
      ],
      "metadata": {
        "id": "UblPmoz0Q8yc"
      }
    },
    {
      "cell_type": "code",
      "source": [
        "try:\n",
        "    num = int(input(\"Enter a number: \"))\n",
        "    result = 10 / num\n",
        "except (ZeroDivisionError, ValueError):\n",
        "    print(\"An error occurred. Please enter a valid non-zero number.\")\n"
      ],
      "metadata": {
        "colab": {
          "base_uri": "https://localhost:8080/"
        },
        "id": "dI2fs8nzQyoh",
        "outputId": "1343f5fe-1fac-4461-fba2-70497714dd97"
      },
      "execution_count": null,
      "outputs": [
        {
          "output_type": "stream",
          "name": "stdout",
          "text": [
            "Enter a number: o\n",
            "An error occurred. Please enter a valid non-zero number.\n"
          ]
        }
      ]
    },
    {
      "cell_type": "markdown",
      "source": [
        "## 3. Catch-All Using Exception\n",
        "This catches any kind of exception, but should be used cautiously."
      ],
      "metadata": {
        "id": "rHc9Bwv6RKYe"
      }
    },
    {
      "cell_type": "code",
      "source": [
        "try:\n",
        "    # risky code\n",
        "except Exception as e:\n",
        "    print(\"Something went wrong:\", e)\n"
      ],
      "metadata": {
        "id": "uA3TlAj0RUfb"
      },
      "execution_count": null,
      "outputs": []
    },
    {
      "cell_type": "markdown",
      "source": [
        "##8.What is the purpose of the with statement when handling files in Python?\n",
        "==>> **Purpose of the with Statement When Handling Files in Python**\n",
        "\n",
        "The with statement in Python is used to manage file resources efficiently and safely. Its main purpose is to automatically handle opening and closing of files, even if an error occurs during file operations.\n",
        "\n",
        "**🔹 Key Benefits:**\n",
        "\n",
        "Ensures the file is closed automatically after the block is executed.\n",
        "\n",
        "Makes code cleaner and more readable.\n",
        "\n",
        "Helps prevent resource leaks or file corruption.\n",
        "\n"
      ],
      "metadata": {
        "id": "_XeM2y_zRfmT"
      }
    },
    {
      "cell_type": "code",
      "source": [
        "with open(\"example.txt\", \"r\") as f:\n",
        "    data = f.read()\n",
        "# No need to call f.close(); it's automatic\n"
      ],
      "metadata": {
        "id": "9h47R2oJSES0"
      },
      "execution_count": null,
      "outputs": []
    },
    {
      "cell_type": "markdown",
      "source": [
        "##9.What is the difference between multithreading and multiprocessing?\n",
        "==>> **Difference Between Multithreading and Multiprocessing in Python**\n",
        "\n",
        "Multithreading and Multiprocessing are both ways to perform multiple tasks at the same time (concurrent execution), but they differ in how they use system resources.\n",
        "\n",
        "🔹**Multithreading:**\n",
        "\n",
        "1.Involves multiple threads running within a single process.\n",
        "\n",
        "2.Threads share the same memory space.\n",
        "\n",
        "3.Useful for I/O-bound tasks (like reading files, downloading data).\n",
        "\n",
        "Limited by Python’s Global Interpreter Lock (GIL)—only one thread runs at a time in CPython.\n",
        "\n",
        "**Example Use Case: Handling multiple client requests on a web server.**\n",
        "\n",
        "🔹 **Multiprocessing:**\n",
        "Involves multiple processes, each with its own memory space.\n",
        "\n",
        "True parallelism: processes can run on multiple CPU cores.\n",
        "\n",
        "Ideal for CPU-bound tasks (like complex calculations or data processing).\n",
        "\n",
        "More memory-heavy, but bypasses the GIL.\n",
        "\n",
        "Example Use Case: Image processing, data analysis."
      ],
      "metadata": {
        "id": "720dNKhKSIL3"
      }
    },
    {
      "cell_type": "markdown",
      "source": [
        "##10.What are the advantages of using logging in a program?\n",
        "==>>\n",
        "**Advantages of Using Logging in a Program\n",
        "Using logging in a Python program offers several important benefits over simple print() statements**\n",
        "\n",
        "🔹 1. **Tracks Program Execution**\n",
        "\n",
        "Logging helps you monitor how your program runs, step by step, making it easier to trace the flow of execution.\n",
        "\n",
        "🔹 2. **Helps in Debugging**\n",
        "\n",
        "You can record error messages and variable values at different stages, which is useful when fixing bugs.\n",
        "\n",
        "🔹 3. **Supports Multiple Severity Levels**\n",
        "\n",
        "Logging allows messages to be categorized by importance—like DEBUG, INFO, WARNING, ERROR, and CRITICAL.\n",
        "\n",
        "🔹 4. **Saves Logs to Files**\n",
        "\n",
        "Unlike print(), logs can be stored in files for future reference, which is useful for large or long-running applications.\n",
        "\n",
        "🔹 5. **Configurable and Flexible**\n",
        "\n",
        "You can control the format, destination (console, file, etc.), and level of detail in your logs.\n",
        "\n",
        "🔹 6. **Better for Production Code**\n",
        "\n",
        "Logging is more professional and manageable in real-world applications, especially when diagnosing issues in deployed software."
      ],
      "metadata": {
        "id": "JSm6S17MS8GW"
      }
    },
    {
      "cell_type": "markdown",
      "source": [
        "##11.What is memory management in Python??\n",
        "==>> Python automates memory management using reference counting and a garbage collector. Each object tracks its reference count; when it drops to zero, memory is deallocated. The garbage collector handles cyclic references using a generational algorithm. Python’s pymalloc allocator optimizes small object allocation. Integers (-5 to 256) and some strings are cached for efficiency. Lists and dictionaries dynamically resize with over-allocation. Optimize memory with generators, in-place operations, and tools like tracemalloc. Memory leaks can occur from lingering references or cycles. Use sys.getsizeof() to check object sizes."
      ],
      "metadata": {
        "id": "eHEVo6qUT-6o"
      }
    },
    {
      "cell_type": "code",
      "source": [
        "import sys\n",
        "import gc\n",
        "\n",
        "# Reference Counting\n",
        "x = [1, 2, 3]  # refcount = 1\n",
        "y = x          # refcount = 2\n",
        "del y          # refcount = 1\n",
        "del x          # refcount = 0, memory freed\n",
        "\n",
        "# Cyclic Reference\n",
        "class Node:\n",
        "    def __init__(self):\n",
        "        self.ref = None\n",
        "\n",
        "a = Node()     # Create cycle\n",
        "b = Node()\n",
        "a.ref = b\n",
        "b.ref = a\n",
        "del a, b       # Garbage collector handles cycle\n",
        "gc.collect()   # Force garbage collection\n",
        "\n",
        "# Memory Usage\n",
        "obj = \"Hello\" * 1000\n",
        "print(sys.getsizeof(obj))  # Size in bytes"
      ],
      "metadata": {
        "colab": {
          "base_uri": "https://localhost:8080/"
        },
        "id": "ztt_xTsBSFRS",
        "outputId": "344dee20-e938-48e3-a035-c0f1b0366003"
      },
      "execution_count": null,
      "outputs": [
        {
          "output_type": "stream",
          "name": "stdout",
          "text": [
            "5049\n"
          ]
        }
      ]
    },
    {
      "cell_type": "markdown",
      "source": [
        "#12.What are the basic steps involved in exception handling in Python?\n",
        "==>> Exception handling in Python manages errors gracefully using the try, except, else, and finally blocks. Here are the compact steps:"
      ],
      "metadata": {
        "id": "X82ZGeYzUoIX"
      }
    },
    {
      "cell_type": "code",
      "source": [
        "try:\n",
        "    num = int(input(\"Enter a number: \"))\n",
        "    result = 10 / num\n",
        "except ValueError:\n",
        "    print(\"Invalid input, not a number!\")\n",
        "except ZeroDivisionError:\n",
        "    print(\"Cannot divide by zero!\")\n",
        "else:\n",
        "    print(\"Result:\", result)\n",
        "finally:\n",
        "    print(\"Execution complete.\")\n"
      ],
      "metadata": {
        "colab": {
          "base_uri": "https://localhost:8080/"
        },
        "id": "xzuKbZ90Umzt",
        "outputId": "973f5e1c-f9ea-43e8-dccc-988d1e226a8a"
      },
      "execution_count": null,
      "outputs": [
        {
          "output_type": "stream",
          "name": "stdout",
          "text": [
            "Enter a number: 67\n",
            "Result: 0.14925373134328357\n",
            "Execution complete.\n"
          ]
        }
      ]
    },
    {
      "cell_type": "markdown",
      "source": [
        "##13.Why is memory management important in Python?\n",
        "==>>\n",
        "Memory management in Python is crucial for the following reasons, tailored for your assignment:\n",
        "\n",
        "**1.Efficient Resource Use**:\n",
        "\n",
        " Proper memory allocation and deallocation ensure optimal use of system resources, preventing memory waste in long-running or large-scale applications.\n",
        "\n",
        "**2.Prevents Memory Leaks:**\n",
        "\n",
        "Effective management (via reference counting and garbage collection) avoids memory leaks, where unused objects linger, causing programs to consume excessive memory.\n",
        "\n",
        "**3.Handles Cyclic References**:\n",
        "\n",
        " Python’s garbage collector resolves cyclic references (e.g., objects referencing each other), ensuring memory is freed when no longer needed.\n",
        "\n",
        "**4.Improves Performance:**\n",
        "Optimized memory allocation (e.g., pymalloc for small objects) and caching (e.g., small integers) reduce overhead, speeding up execution.\n",
        "\n",
        "**5.Scalability**:\n",
        " Efficient memory use allows Python programs to handle large datasets or high user loads without crashing due to memory exhaustion.\n",
        "\n",
        "**6.Program Stability:** Automatic memory management prevents crashes from manual errors (common in languages like C), ensuring robust and reliable applications."
      ],
      "metadata": {
        "id": "QCGUij4WVCqe"
      }
    },
    {
      "cell_type": "markdown",
      "source": [
        "##14.What is the role of try and except in exception handling?\n",
        "==>> **Role of `try` and `except` in Exception Handling in Python**\n",
        "\n",
        "In Python, the `try` and `except` blocks are core components of exception handling, used to manage errors and prevent program crashes. Their roles, compact for your assignment, are:\n",
        "\n",
        "1. **`try` Block**:\n",
        "   - Contains code that might raise an exception (error).\n",
        "   - Monitors the code for any exceptions during execution.\n",
        "   - If an exception occurs, control immediately transfers to the corresponding `except` block.\n",
        "   - Example: Testing risky operations like division or file access.\n",
        "\n",
        "2. **`except` Block**:\n",
        "   - Catches and handles specific exceptions raised in the `try` block.\n",
        "   - Defines how to respond to the error (e.g., log it, show a message, or take alternative action).\n",
        "   - Can target specific exceptions (e.g., `ZeroDivisionError`) or general ones (`Exception`).\n",
        "   - Prevents the program from crashing by providing error-handling logic.\n",
        "\n",
        "\n",
        "```\n",
        "\n",
        "**Key Points**:\n",
        "- `try` isolates risky code; `except` provides recovery actions.\n",
        "- Specific exceptions should be caught before general ones to avoid masking errors.\n",
        "- Together, they ensure robust, error-tolerant programs.\n",
        "\n",
        "This enables graceful error handling, maintaining program flow and user experience."
      ],
      "metadata": {
        "id": "h4lIG7QjWd7k"
      }
    },
    {
      "cell_type": "code",
      "source": [
        "try:\n",
        "    result = 10 / int(input(\"Enter a number: \"))\n",
        "except ZeroDivisionError:\n",
        "    print(\"Cannot divide by zero!\")\n",
        "except ValueError:\n",
        "    print(\"Invalid input, must be a number!\")"
      ],
      "metadata": {
        "colab": {
          "base_uri": "https://localhost:8080/"
        },
        "id": "ghZjbUGYVATJ",
        "outputId": "65b854a1-40dc-4f00-cb7d-42d7e7799028"
      },
      "execution_count": null,
      "outputs": [
        {
          "name": "stdout",
          "output_type": "stream",
          "text": [
            "Enter a number: 7\n"
          ]
        }
      ]
    },
    {
      "cell_type": "markdown",
      "source": [
        "##15.How does Python's garbage collection system work?\n",
        "==>> **How Python's Garbage Collection System Works**\n",
        "\n",
        "Python’s garbage collection (GC) system manages memory by automatically reclaiming memory from objects no longer in use, complementing reference counting. Here’s a compact explanation for your assignment:\n",
        "\n",
        "### **Mechanism**\n",
        "1. **Primary Method: Reference Counting**:\n",
        "   - Every object has a reference count tracking how many references point to it.\n",
        "   - When the count drops to zero (e.g., after `del` or reassignment), the object’s memory is immediately freed.\n",
        "   - Limitation: Cannot handle **cyclic references** (e.g., two objects referencing each other).\n",
        "\n",
        "2. **Garbage Collection for Cycles**:\n",
        "   - Python’s GC, implemented in the `gc` module, detects and collects objects involved in cyclic references.\n",
        "   - Uses a **generational garbage collection** algorithm, dividing objects into three generations:\n",
        "     - **Generation 0**: Newly created objects.\n",
        "     - **Generation 1**: Objects surviving one GC cycle.\n",
        "     - **Generation 2**: Long-lived objects surviving multiple cycles.\n",
        "   - Younger generations are collected more frequently, as new objects are more likely to become garbage.\n",
        "\n",
        "3. **Collection Process**:\n",
        "   - GC tracks objects in containers (e.g., lists, dictionaries) that could form cycles.\n",
        "   - It identifies unreachable objects (those only referenced within cycles) by analyzing reference graphs.\n",
        "   - Unreachable objects are deallocated, freeing memory.\n",
        "\n",
        "### **Key Features**\n",
        "- **Threshold-Based Triggering**: GC runs when the number of allocations minus deallocations exceeds a threshold (e.g., 700 for Generation 0).\n",
        "- **Manual Control**: The `gc` module allows enabling/disabling GC (`gc.enable()`, `gc.disable()`) or forcing collection (`gc.collect()`).\n",
        "- **Optimization**: Long-lived objects (e.g., modules) are rarely scanned, reducing overhead.\n",
        "\n",
        "\n",
        "```\n",
        "\n",
        "### **Why It Matters**\n",
        "- Resolves memory leaks from cycles that reference counting misses.\n",
        "- Ensures efficient memory use, critical for long-running or memory-intensive programs.\n",
        "\n",
        "**Conclusion**: Python’s garbage collection complements reference counting by handling cyclic references using a generational approach, automatically reclaiming memory to maintain efficiency and prevent leaks."
      ],
      "metadata": {
        "id": "H7XuAttMW-7o"
      }
    },
    {
      "cell_type": "code",
      "source": [
        "import gc\n",
        "\n",
        "# Create a cyclic reference\n",
        "a = []\n",
        "b = []\n",
        "a.append(b)  # a references b\n",
        "b.append(a)  # b references a\n",
        "del a, b    # Reference counts non-zero due to cycle\n",
        "\n",
        "# Force garbage collection\n",
        "gc.collect()  # Cycle detected, memory freed"
      ],
      "metadata": {
        "colab": {
          "base_uri": "https://localhost:8080/"
        },
        "id": "4opVUAE9W8jD",
        "outputId": "c474297f-d24d-4e85-b358-2c0b078dc229"
      },
      "execution_count": null,
      "outputs": [
        {
          "output_type": "execute_result",
          "data": {
            "text/plain": [
              "2"
            ]
          },
          "metadata": {},
          "execution_count": 15
        }
      ]
    },
    {
      "cell_type": "markdown",
      "source": [
        "##16.What is the purpose of the else block in exception handling?\n",
        "==>> **Purpose of the `else` Block in Exception Handling in Python**\n",
        "\n",
        "The `else` block in Python's exception handling is used to execute code when **no exception** occurs in the `try` block. Here’s a compact explanation for your assignment:\n",
        "\n",
        "- **Role**: The `else` block runs only if the `try` block completes successfully without raising any exceptions.\n",
        "- **Purpose**:\n",
        "  - Separates code that should only execute on success from the `try` block, improving readability.\n",
        "  - Avoids mixing error-handling logic with normal program flow.\n",
        "  - Ensures specific actions (e.g., processing results) occur only when the `try` block succeeds.\n",
        "- **Placement**: Follows all `except` blocks, before the `finally` block (if present).\n",
        "\n",
        "```\n",
        "\n",
        "**Key Points**:\n",
        "- Enhances code clarity by isolating success-case logic.\n",
        "- Prevents unnecessary execution of success code if an exception occurs.\n",
        "- Optional but recommended for clean code structure.\n",
        "\n",
        "The `else` block ensures robust, readable exception handling by executing success-specific code only when the `try` block runs without errors."
      ],
      "metadata": {
        "id": "enB-6VLSXZ1f"
      }
    },
    {
      "cell_type": "code",
      "source": [
        "try:\n",
        "    num = int(input(\"Enter a number: \"))\n",
        "    result = 10 / num\n",
        "except ValueError:\n",
        "    print(\"Invalid input, not a number!\")\n",
        "except ZeroDivisionError:\n",
        "    print(\"Cannot divide by zero!\")\n",
        "else:\n",
        "    print(\"Result:\", result)  # Runs only if no exception"
      ],
      "metadata": {
        "colab": {
          "base_uri": "https://localhost:8080/"
        },
        "id": "D_pQeFUYXUs5",
        "outputId": "7eed5b11-5b80-47f8-b5fd-f9c5e7e8e023"
      },
      "execution_count": null,
      "outputs": [
        {
          "output_type": "stream",
          "name": "stdout",
          "text": [
            "Enter a number: 78\n",
            "Result: 0.1282051282051282\n"
          ]
        }
      ]
    },
    {
      "cell_type": "markdown",
      "source": [
        "##17.What are the common logging levels in Python?\n",
        "==>> **Common Logging Levels in Python**\n",
        "\n",
        "Python’s `logging` module provides a standard way to log messages with different severity levels. Below is a compact overview of the common logging levels, suitable for your assignment:\n",
        "\n",
        "### **Logging Levels**\n",
        "The `logging` module defines the following standard levels, each with a numeric value indicating severity (higher value = more severe):\n",
        "\n",
        "1. **DEBUG** (`10`): Detailed information for debugging, typically used during development (e.g., variable values, program flow).\n",
        "   - Example: `logging.debug(\"Variable x = %s\", x)`\n",
        "2. **INFO** (`20`): Confirmation that things are working as expected (e.g., program milestones, startup completion).\n",
        "   - Example: `logging.info(\"Application started\")`\n",
        "3. **WARNING** (`30`): Indicates potential issues or unexpected events that don’t stop execution (e.g., deprecated API usage).\n",
        "   - Example: `logging.warning(\"Low disk space\")`\n",
        "4. **ERROR** (`40`): Serious issues that prevent specific functionality but allow the program to continue (e.g., failed operation).\n",
        "   - Example: `logging.error(\"Failed to open file\")`\n",
        "5. **CRITICAL** (`50`): Severe errors that may cause the program to terminate (e.g., unrecoverable failures).\n",
        "   - Example: `logging.critical(\"System crash detected\")`\n",
        "\n",
        "### **Key Points**\n",
        "- **Default Level**: If not configured, the default logging level is `WARNING`, meaning only `WARNING`, `ERROR`, and `CRITICAL` messages are logged.\n",
        "- **Configuration**: Set the logging level using `logging.basicConfig(level=logging.DEBUG)` or logger-specific settings (e.g., `logger.setLevel(logging.INFO)`).\n",
        "- **Usage**: Levels help filter messages based on importance, making logs more manageable in production or debugging.\n",
        "\n",
        "```\n",
        "\n",
        "**Conclusion**: Python’s logging levels (`DEBUG`, `INFO`, `WARNING`, `ERROR`, `CRITICAL`) categorize messages by severity, enabling developers to control log verbosity and focus on relevant information for debugging, monitoring, or error handling."
      ],
      "metadata": {
        "id": "luX0V49IX57i"
      }
    },
    {
      "cell_type": "code",
      "source": [
        "import logging\n",
        "\n",
        "# Configure logging\n",
        "logging.basicConfig(level=logging.DEBUG)\n",
        "\n",
        "logging.debug(\"Debugging details\")\n",
        "logging.info(\"Program running\")\n",
        "logging.warning(\"Resource usage high\")\n",
        "logging.error(\"Operation failed\")\n",
        "logging.critical(\"System failure\")"
      ],
      "metadata": {
        "colab": {
          "base_uri": "https://localhost:8080/"
        },
        "id": "YbolaielXyiv",
        "outputId": "24cd508c-e9b7-4c3b-f448-df685c7ae0a6"
      },
      "execution_count": null,
      "outputs": [
        {
          "output_type": "stream",
          "name": "stderr",
          "text": [
            "WARNING:root:Resource usage high\n",
            "ERROR:root:Operation failed\n",
            "CRITICAL:root:System failure\n"
          ]
        }
      ]
    },
    {
      "cell_type": "markdown",
      "source": [
        "##18.What is the difference between os.fork() and multiprocessing in Python?\n",
        "==> **Difference Between `os.fork()` and `multiprocessing` in Python**\n",
        "\n",
        "Both `os.fork()` and the `multiprocessing` module in Python are used to create parallel processes, but they differ significantly in their approach, use cases, and behavior. Here’s a compact comparison for your assignment:\n",
        "\n",
        "### **1. Definition**\n",
        "- **`os.fork()`**:\n",
        "  - A low-level system call (available on Unix-like systems, e.g., Linux, macOS) that creates a new process by duplicating the current one.\n",
        "  - The new process (child) is a near-identical copy of the parent, sharing code but having separate memory spaces.\n",
        "- **`multiprocessing`**:\n",
        "  - A high-level Python module that provides a cross-platform way to create and manage multiple processes.\n",
        "  - Abstracts process creation and communication, supporting both Unix-like and Windows systems.\n",
        "\n",
        "### **2. Key Differences**\n",
        "| **Aspect**              | **`os.fork()`**                                                                 | **`multiprocessing`**                                                             |\n",
        "|-------------------------|--------------------------------------------------------------------------------|----------------------------------------------------------------------------------|\n",
        "| **Platform**            | Unix-like systems only (not supported on Windows).                             | Cross-platform (works on Unix, Windows, etc.).                                   |\n",
        "| **Abstraction Level**   | Low-level, direct system call requiring manual management.                     | High-level, with user-friendly APIs for process creation and communication.      |\n",
        "| **Process Creation**    | Creates a child process that inherits the parent’s memory and state (copy-on-write). | Spawns new processes with separate memory spaces, often starting fresh.           |\n",
        "| **Ease of Use**         | Requires manual handling of process logic, communication, and synchronization.  | Provides tools like `Process`, `Pool`, `Queue`, and `Pipe` for easier management. |\n",
        "| **Memory Sharing**      | Uses copy-on-write (child shares memory until modified).                       | Separate memory spaces; explicit sharing via `multiprocessing` primitives (e.g., `Value`, `Array`). |\n",
        "| **Inter-Process Communication** | Manual setup (e.g., pipes, sockets).                                           | Built-in mechanisms like `Queue`, `Pipe`, or `Manager` for data exchange.         |\n",
        "| **Safety**              | Prone to errors if not carefully managed (e.g., file descriptor issues).       | Safer, with abstractions to handle process lifecycle and communication.          |\n",
        "| **Use Case**            | Fine-grained control in Unix environments (e.g., system programming).          | General-purpose parallel processing, especially for CPU-bound tasks.             |\n",
        ".\n",
        "\n",
        "\n",
        "### **4. Key Considerations**\n",
        "- **`os.fork()`**:\n",
        "  - Lightweight but limited to Unix systems.\n",
        "  - Risky in complex programs (e.g., with open files or threads) due to shared state.\n",
        "  - Best for system-level tasks requiring direct control.\n",
        "- **`multiprocessing`**:\n",
        "  - Preferred for Python applications needing parallelism (e.g., CPU-intensive tasks like data processing).\n",
        "  - Handles Global Interpreter Lock (GIL) limitations by using separate processes.\n",
        "  - More portable and easier to use for most developers.\n",
        "\n",
        "### **Conclusion**\n",
        "Use `os.fork()` for low-level, Unix-specific process creation where fine control is needed. Use `multiprocessing` for portable, high-level process management in Python, especially for parallel computation or cross-platform applications. The `multiprocessing` module is generally recommended for most use cases due to its ease, safety, and versatility."
      ],
      "metadata": {
        "id": "UyqY5teUYcAQ"
      }
    },
    {
      "cell_type": "code",
      "source": [
        "import os\n",
        "\n",
        "pid = os.fork()\n",
        "if pid == 0:\n",
        "    print(\"Child process:\", os.getpid())  # Child\n",
        "else:\n",
        "    print(\"Parent process:\", os.getpid())  # Parent"
      ],
      "metadata": {
        "colab": {
          "base_uri": "https://localhost:8080/"
        },
        "id": "noAmhqybYTdK",
        "outputId": "29af2cb2-aa52-4761-df8d-d92281946b1b"
      },
      "execution_count": null,
      "outputs": [
        {
          "output_type": "stream",
          "name": "stdout",
          "text": [
            "Parent process: 150\n",
            "Child process:"
          ]
        }
      ]
    },
    {
      "cell_type": "code",
      "source": [
        "from multiprocessing import Process\n",
        "\n",
        "def worker():\n",
        "    print(\"Worker process:\", os.getpid())\n",
        "\n",
        "if __name__ == \"__main__\":\n",
        "    p = Process(target=worker)\n",
        "    p.start()\n",
        "    p.join()\n",
        "    print(\"Main process:\", os.getpid())"
      ],
      "metadata": {
        "id": "v-0LFA5FY-up"
      },
      "execution_count": null,
      "outputs": []
    },
    {
      "cell_type": "markdown",
      "source": [
        "##19.What is the importance of closing a file in Python?\n",
        "==>> **Importance of Closing a File in Python**\n",
        "\n",
        "Closing a file in Python is critical for efficient resource management and data integrity. Here’s a compact explanation for your assignment:\n",
        "\n",
        "1. **Releases System Resources**:\n",
        "   - Open files consume system resources (e.g., file descriptors).\n",
        "   - Failing to close files can exhaust these resources, especially in programs handling many files, leading to errors or crashes.\n",
        "\n",
        "2. **Ensures Data Integrity**:\n",
        "   - When writing to a file, data is often buffered (stored temporarily in memory).\n",
        "   - Closing the file flushes the buffer, ensuring all data is written to the disk. Not closing may result in incomplete or corrupted files.\n",
        "\n",
        "3. **Frees Locks**:\n",
        "   - Open files may hold system-level locks, preventing other processes or programs from accessing them.\n",
        "   - Closing the file releases these locks, allowing other operations to proceed.\n",
        "\n",
        "4. **Prevents Memory Leaks**:\n",
        "   - Unclosed files can keep references in memory, delaying garbage collection and increasing memory usage over time.\n",
        "\n",
        "5. **Best Practice for Robustness**:\n",
        "   - Explicitly closing files ensures predictable behavior, especially in long-running or error-prone programs.\n",
        "\n",
        "```\n",
        "\n",
        "### **Key Points**\n",
        "- Use the `with` statement (context manager) to automatically close files, even if an exception occurs.\n",
        "- Failing to close files can lead to resource exhaustion, data loss, or file access issues.\n",
        "- Closing files is especially critical in loops or programs handling multiple files.\n",
        "\n",
        "**Conclusion**: Closing a file in Python is essential to free system resources, ensure data is properly saved, release locks, and prevent memory leaks, making programs more reliable and efficient."
      ],
      "metadata": {
        "id": "ejprOOWRZmqD"
      }
    },
    {
      "cell_type": "code",
      "source": [
        "# Manual closing\n",
        "file = open(\"example.txt\", \"w\")\n",
        "file.write(\"Hello, World!\")\n",
        "file.close()  # Ensures data is written and resources freed\n",
        "\n",
        "# Using context manager (recommended)\n",
        "with open(\"example.txt\", \"w\") as file:\n",
        "    file.write(\"Hello, World!\")  # Auto-closed when block ends"
      ],
      "metadata": {
        "id": "uU05iAbvZChF"
      },
      "execution_count": null,
      "outputs": []
    },
    {
      "cell_type": "markdown",
      "source": [
        "##20.What is the difference between file.read() and file.readline() in Python?\n",
        "==>> **Difference Between `file.read()` and `file.readline()` in Python**\n",
        "\n",
        "In Python, `file.read()` and `file.readline()` are methods used to read data from a file, but they differ in how they retrieve the content. Here’s a compact comparison for your assignment:\n",
        "\n",
        "### **1. Definition**\n",
        "- **`file.read(size=-1)`**:\n",
        "  - Reads the entire file content (or up to `size` bytes if specified) into a single string.\n",
        "  - Returns all data from the current file position to the end (or until the size limit).\n",
        "- **`file.readline(size=-1)`**:\n",
        "  - Reads a single line from the file, up to a newline character (`\\n`) or the end of the file.\n",
        "  - If `size` is specified, it reads up to that many bytes in the line.\n",
        "\n",
        "### **2. Key Differences**\n",
        "| **Aspect**              | **`file.read()`**                                      | **`file.readline()`**                                  |\n",
        "|-------------------------|-------------------------------------------------------|-------------------------------------------------------|\n",
        "| **What It Reads**       | Entire file or specified bytes as a single string.    | One line at a time, up to newline or specified bytes. |\n",
        "| **Output**              | Single string containing all content (or portion).    | String containing one line (includes `\\n` unless EOF). |\n",
        "| **Use Case**            | When you need the whole file content at once.         | When processing a file line by line (e.g., parsing).  |\n",
        "| **Memory Usage**        | High for large files (loads all data into memory).    | Lower, as it reads only one line at a time.           |\n",
        "| **End of File (EOF)**   | Returns empty string (`\"\"`) when no more data.        | Returns empty string (`\"\"`) when no more lines.       |\n",
        "\n",
        "\n",
        "### **4. Key Considerations**\n",
        "- **`file.read()`**:\n",
        "  - Best for small files or when you need the entire content (e.g., configuration files).\n",
        "  - Can be memory-intensive for large files.\n",
        "- **`file.readline()`**:\n",
        "  - Ideal for large files or when processing data sequentially (e.g., log files).\n",
        "  - Use in a loop (`while line := file.readline()`) for line-by-line reading.\n",
        "- **Performance**: `readline()` is more memory-efficient for large files, while `read()` is simpler for small files.\n",
        "\n",
        "### **Conclusion**\n",
        "Use `file.read()` to load the entire file content into memory for simple access, and `file.readline()` to read files line by line, conserving memory and enabling sequential processing. Choose based on file size and processing needs."
      ],
      "metadata": {
        "id": "EaiKSLMVZ9y2"
      }
    },
    {
      "cell_type": "code",
      "source": [
        "with open(\"example.txt\", \"r\") as file:\n",
        "    # example.txt contains:\n",
        "    # Line 1\n",
        "    # Line 2\n",
        "    # Line 3\n",
        "\n",
        "    # Using read()\n",
        "    content = file.read()  # Reads \"Line 1\\nLine 2\\nLine 3\"\n",
        "    print(\"read():\", content)\n",
        "\n",
        "    file.seek(0)  # Reset file pointer to start\n",
        "\n",
        "    # Using readline()\n",
        "    line1 = file.readline()  # Reads \"Line 1\\n\"\n",
        "    line2 = file.readline()  # Reads \"Line 2\\n\"\n",
        "    print(\"readline():\", line1, line2)"
      ],
      "metadata": {
        "colab": {
          "base_uri": "https://localhost:8080/"
        },
        "id": "mDX4fJcQZ67j",
        "outputId": "b2129f00-d697-4361-b7e2-762a3047a5df"
      },
      "execution_count": null,
      "outputs": [
        {
          "output_type": "stream",
          "name": "stdout",
          "text": [
            "read(): Hello, World!\n",
            "readline(): Hello, World! \n"
          ]
        }
      ]
    },
    {
      "cell_type": "markdown",
      "source": [
        "##21.What is the logging module in Python used for?\n",
        "==>> **Purpose of the Logging Module in Python**\n",
        "\n",
        "The `logging` module in Python is used to record messages about a program’s execution, aiding in debugging, monitoring, and troubleshooting. Here’s a compact explanation for your assignment:\n",
        "\n",
        "### **Key Uses**\n",
        "1. **Debugging**: Logs detailed information (e.g., variable values, program flow) to diagnose issues, especially at the `DEBUG` level.\n",
        "   - Example: `logging.debug(\"Value of x: %s\", x)`\n",
        "\n",
        "2. **Monitoring**: Tracks program behavior, such as startup, milestones, or errors, using `INFO` or `WARNING` levels.\n",
        "   - Example: `logging.info(\"Server started\")`\n",
        "\n",
        "3. **Error Reporting**: Records errors (`ERROR`) or critical failures (`CRITICAL`) for analysis without crashing the program.\n",
        "   - Example: `logging.error(\"File not found\")`\n",
        "\n",
        "4. **Audit Trails**: Maintains logs for accountability, such as user actions or system events, useful in production environments.\n",
        "\n",
        "5. **Flexible Output**: Directs logs to various destinations (console, files, network) with customizable formats and severity levels.\n",
        "\n",
        "### **Why Use Logging?**\n",
        "- **Better than `print`**: Unlike `print`, `logging` supports severity levels, timestamps, and configurable output, making it suitable for production.\n",
        "- **Configurability**: Control log verbosity (e.g., show only `ERROR` in production, `DEBUG` in development).\n",
        "- **Scalability**: Handles complex applications with multiple components, loggers, and handlers.\n",
        "\n",
        "\n",
        "### **Key Features**\n",
        "- **Levels**: `DEBUG`, `INFO`, `WARNING`, `ERROR`, `CRITICAL` (default: `WARNING`).\n",
        "- **Handlers**: Direct logs to console (`StreamHandler`), files (`FileHandler`), or other destinations.\n",
        "- **Formatters**: Customize log message structure (e.g., include timestamps, module names).\n",
        "\n",
        "### **Conclusion**\n",
        "The `logging` module is essential for tracking program execution, debugging issues, and monitoring applications. It provides a robust, flexible alternative to `print`, enabling developers to manage logs effectively in development and production environments."
      ],
      "metadata": {
        "id": "-MWKYQ2GasuW"
      }
    },
    {
      "cell_type": "code",
      "source": [
        "import logging\n",
        "\n",
        "# Configure logging\n",
        "logging.basicConfig(level=logging.INFO, filename=\"app.log\", format=\"%(asctime)s - %(levelname)s - %(message)s\")\n",
        "\n",
        "logging.info(\"Program started\")\n",
        "logging.warning(\"Low memory detected\")\n",
        "logging.error(\"Failed to connect to database\")"
      ],
      "metadata": {
        "colab": {
          "base_uri": "https://localhost:8080/"
        },
        "id": "xICJNo5EapEJ",
        "outputId": "eb38a36a-ca9e-4125-f677-f6ccbafabb7a"
      },
      "execution_count": null,
      "outputs": [
        {
          "output_type": "stream",
          "name": "stderr",
          "text": [
            "WARNING:root:Low memory detected\n",
            "ERROR:root:Failed to connect to database\n"
          ]
        }
      ]
    },
    {
      "cell_type": "markdown",
      "source": [
        "##22.What is the os module in Python used for in file handling?\n",
        "==>> **Purpose of the `os` Module in Python for File Handling**\n",
        "\n",
        "The `os` module in Python provides functions to interact with the operating system, including file handling operations. It enables programs to manage files and directories in a platform-independent way. Here’s a compact explanation for your assignment:\n",
        "\n",
        "### **Key Uses in File Handling**\n",
        "1. **File and Directory Management**:\n",
        "   - Create, delete, or rename files and directories.\n",
        "   - Examples:\n",
        "     - `os.mkdir(\"new_folder\")`: Creates a directory.\n",
        "     - `os.remove(\"file.txt\")`: Deletes a file.\n",
        "     - `os.rename(\"old.txt\", \"new.txt\")`: Renames a file.\n",
        "\n",
        "2. **Path Manipulation**:\n",
        "   - Handle file paths across platforms (e.g., Windows, Linux).\n",
        "   - Examples:\n",
        "     - `os.path.join(\"dir\", \"file.txt\")`: Combines path components (e.g., `dir/file.txt` on Unix).\n",
        "     - `os.path.exists(\"file.txt\")`: Checks if a file exists.\n",
        "     - `os.path.abspath(\"file.txt\")`: Returns the absolute path.\n",
        "\n",
        "3. **File Information**:\n",
        "   - Retrieve metadata like file size, modification time, or permissions.\n",
        "   - Example:\n",
        "     - `os.stat(\"file.txt\").st_size`: Gets file size in bytes.\n",
        "\n",
        "4. **Directory Navigation**:\n",
        "   - List directory contents or change the current working directory.\n",
        "   - Examples:\n",
        "     - `os.listdir(\"dir\")`: Lists files and folders in a directory.\n",
        "     - `os.chdir(\"dir\")`: Changes the current directory.\n",
        "\n",
        "5. **File Permissions**:\n",
        "   - Modify access permissions for files or directories.\n",
        "   - Example:\n",
        "     - `os.chmod(\"file.txt\", 0o644)`: Sets file permissions (e.g., read/write for owner, read for others).\n",
        "\n",
        "```\n",
        "\n",
        "### **Key Points**\n",
        "- **Cross-Platform**: Works on Windows, Linux, macOS, with `os.path` handling platform-specific path formats.\n",
        "- **Complements File I/O**: While `open()` handles reading/writing, `os` manages file system operations.\n",
        "- **Safety**: Check existence (`os.path.exists`) or permissions before operations to avoid errors.\n",
        "\n",
        "### **Conclusion**\n",
        "The `os` module is essential for file handling in Python, enabling file/directory creation, deletion, renaming, path manipulation, and metadata access. It provides a portable, low-level interface to manage the file system, complementing Python’s built-in file I/O functions."
      ],
      "metadata": {
        "id": "EESxWhkrbEif"
      }
    },
    {
      "cell_type": "code",
      "source": [
        "import os\n",
        "\n",
        "# Create a directory\n",
        "os.mkdir(\"my_folder\")\n",
        "\n",
        "# Create and rename a file\n",
        "with open(\"my_folder/file.txt\", \"w\") as f:\n",
        "    f.write(\"Hello\")\n",
        "os.rename(\"my_folder/file.txt\", \"my_folder/data.txt\")\n",
        "\n",
        "# Check file existence and size\n",
        "if os.path.exists(\"my_folder/data.txt\"):\n",
        "    print(\"File size:\", os.stat(\"my_folder/data.txt\").st_size, \"bytes\")\n",
        "\n",
        "# List directory contents\n",
        "print(\"Directory contents:\", os.listdir(\"my_folder\"))"
      ],
      "metadata": {
        "colab": {
          "base_uri": "https://localhost:8080/"
        },
        "id": "ky_LJFTMbDnL",
        "outputId": "bf418143-4df6-4451-e941-b1d331414824"
      },
      "execution_count": null,
      "outputs": [
        {
          "output_type": "stream",
          "name": "stdout",
          "text": [
            "File size: 5 bytes\n",
            "Directory contents: ['data.txt']\n"
          ]
        }
      ]
    },
    {
      "cell_type": "markdown",
      "source": [
        "##23.What are the challenges associated with memory management in Python?\n",
        "==>.**Challenges Associated with Memory Management in Python**\n",
        "\n",
        "Python’s memory management, while largely automatic, presents several challenges that can impact performance and reliability. Here’s a compact overview for your assignment:\n",
        "\n",
        "1. **Memory Leaks**:\n",
        "   - **Challenge**: Objects with lingering references (e.g., in global variables, caches, or event handlers) aren’t deallocated, increasing memory usage.\n",
        "   - **Example**: A list storing data indefinitely (e.g., `cache.append(data)` without cleanup).\n",
        "   - **Impact**: Can exhaust memory in long-running applications.\n",
        "\n",
        "2. **Cyclic References**:\n",
        "   - **Challenge**: Reference counting fails when objects reference each other (e.g., `a.ref = b; b.ref = a`), requiring the garbage collector to intervene.\n",
        "   - **Example**: Two objects in a cycle (e.g., linked list nodes) may persist until `gc.collect()` runs.\n",
        "   - **Impact**: Delays memory reclamation, increasing memory footprint.\n",
        "\n",
        "3. **Garbage Collection Overhead**:\n",
        "   - **Challenge**: The garbage collector, which handles cycles, introduces performance overhead, especially when scanning many objects.\n",
        "   - **Example**: Frequent GC runs in memory-intensive programs slow execution.\n",
        "   - **Impact**: Can cause latency in real-time or high-performance applications.\n",
        "\n",
        "4. **Memory Fragmentation**:\n",
        "   - **Challenge**: Repeated allocation/deallocation creates fragmented memory, reducing efficiency.\n",
        "   - **Example**: Allocating/deallocating many small objects (e.g., strings in a loop) scatters memory.\n",
        "   - **Impact**: Wastes memory and slows allocation, as Python’s `pymalloc` struggles to reuse fragmented blocks.\n",
        "\n",
        "5. **Large Object Handling**:\n",
        "   - **Challenge**: Large objects (e.g., big lists, NumPy arrays) consume significant memory, and Python’s allocator may not release memory back to the OS promptly.\n",
        "   - **Example**: A large list (`data = [0] * 10**8`) may keep memory allocated even after `del data`.\n",
        "   - **Impact**: Increases memory usage, especially in data-intensive applications.\n",
        "\n",
        "6. **Global Interpreter Lock (GIL)**:\n",
        "   - **Challenge**: The GIL, while not directly a memory issue, complicates memory management in multi-threaded programs by serializing access to objects, affecting garbage collection.\n",
        "   - **Example**: Multi-threaded apps may face delays in memory cleanup.\n",
        "   - **Impact**: Limits scalability in concurrent applications.\n",
        "\n",
        "7. **Limited Developer Control**:\n",
        "   - **Challenge**: Python abstracts memory management, offering little direct control over allocation or deallocation compared to languages like C.\n",
        "   - **Example**: No manual way to force memory release to the OS.\n",
        "   - **Impact**: Harder to optimize memory-critical applications.\n",
        "\n",
        "\n",
        "```\n",
        "\n",
        "### **Mitigation Strategies**\n",
        "- Use `weakref` for non-owning references to avoid cycles.\n",
        "- Monitor memory with tools like `tracemalloc` or `objgraph` to detect leaks.\n",
        "- Explicitly clear collections (e.g., `cache.clear()`).\n",
        "- Use generators or `numpy` for memory-efficient data processing.\n",
        "- Manually trigger `gc.collect()` in rare cases.\n",
        "\n",
        "### **Conclusion**\n",
        "Memory management challenges in Python include leaks, cyclic references, GC overhead, fragmentation, large object handling, GIL limitations, and limited control. These can lead to increased memory usage and performance issues, but tools and best practices help mitigate them, ensuring efficient and reliable programs."
      ],
      "metadata": {
        "id": "H1XLiSJIb3A9"
      }
    },
    {
      "cell_type": "code",
      "source": [
        "# Memory leak example\n",
        "cache = []\n",
        "for i in range(1000000):\n",
        "    cache.append(str(i))  # Lingering references increase memory usage\n",
        "\n",
        "# Cyclic reference example\n",
        "a = []; b = []\n",
        "a.append(b); b.append(a)  # Cycle prevents immediate deallocation\n",
        "del a, b  # Needs garbage collector"
      ],
      "metadata": {
        "id": "NISyNFwObtOZ"
      },
      "execution_count": null,
      "outputs": []
    },
    {
      "cell_type": "markdown",
      "source": [
        "##24.How do you raise an exception manually in Python?\n",
        "==>. **Raising an Exception Manually in Python**\n",
        "\n",
        "Manually raising an exception in Python allows developers to signal errors or invalid conditions programmatically. Here’s a compact explanation for your assignment:\n",
        "\n",
        "### **How to Raise an Exception**\n",
        "- Use the `raise` keyword followed by an exception class or instance.\n",
        "- Optionally, include an error message to describe the issue.\n",
        "- Common built-in exceptions include `ValueError`, `TypeError`, `RuntimeError`, or custom exceptions.\n",
        "\n",
        "### **Syntax**\n",
        "```python\n",
        "raise ExceptionType(\"Optional error message\")\n",
        "```\n",
        "\n",
        "### **Steps**\n",
        "1. **Identify the Condition**: Check for an error or invalid state (e.g., invalid input).\n",
        "2. **Choose an Exception**: Select an appropriate built-in exception or create a custom one.\n",
        "3. **Raise the Exception**: Use `raise` to trigger the exception, stopping normal execution unless caught.\n",
        "\n",
        "\n",
        "   ```\n",
        "\n",
        "\n",
        "   ```\n",
        "\n",
        "### **Key Points**\n",
        "- **Specificity**: Use specific exceptions (e.g., `ValueError` for invalid values) for clarity and better handling.\n",
        "- **Custom Exceptions**: Define custom exception classes by inheriting from `Exception` for specialized error types.\n",
        "- **Chaining**: Use `raise from` to link exceptions (e.g., `raise ValueError(\"Invalid\") from original_error`).\n",
        "- **Use Case**: Common in input validation, API error signaling, or enforcing program constraints.\n",
        "\n",
        "### **Conclusion**\n",
        "Manually raising exceptions in Python with `raise` allows developers to handle errors explicitly, improving program robustness and clarity. By choosing appropriate exception types and messages, you can effectively signal and manage error conditions."
      ],
      "metadata": {
        "id": "kiEuiKc3gl4U"
      }
    },
    {
      "cell_type": "code",
      "source": [
        "def divide(a, b):\n",
        "    if b == 0:\n",
        "        raise ZeroDivisionError(\"Division by zero is not allowed\")\n",
        "    return a / b\n",
        "\n",
        "try:\n",
        "    result = divide(10, 0)\n",
        "except ZeroDivisionError as e:\n",
        "    print(e)  # Output: Division by zero is not allowed"
      ],
      "metadata": {
        "colab": {
          "base_uri": "https://localhost:8080/"
        },
        "id": "MzKMzKEsgjCg",
        "outputId": "24be4329-af89-45c5-9393-ed43f558801f"
      },
      "execution_count": null,
      "outputs": [
        {
          "output_type": "stream",
          "name": "stdout",
          "text": [
            "Division by zero is not allowed\n"
          ]
        }
      ]
    },
    {
      "cell_type": "code",
      "source": [
        "class CustomError(Exception):\n",
        "    pass\n",
        "\n",
        "def check_age(age):\n",
        "    if age < 18:\n",
        "        raise CustomError(\"Age must be 18 or older\")\n",
        "    return \"Access granted\"\n",
        "\n",
        "try:\n",
        "    print(check_age(16))\n",
        "except CustomError as e:\n",
        "    print(e)  # Output: Age must be 18 or older"
      ],
      "metadata": {
        "colab": {
          "base_uri": "https://localhost:8080/"
        },
        "id": "xkhlOg2ehAe_",
        "outputId": "11c9bc47-b48e-4679-9999-081fde3546a9"
      },
      "execution_count": null,
      "outputs": [
        {
          "output_type": "stream",
          "name": "stdout",
          "text": [
            "Age must be 18 or older\n"
          ]
        }
      ]
    },
    {
      "cell_type": "markdown",
      "source": [
        "##25.Why is it important to use multithreading in certain applications?\n",
        "==>>**Importance of Using Multithreading in Certain Applications**\n",
        "\n",
        "Multithreading in Python allows multiple threads to run concurrently within a single process, sharing the same memory space. While Python’s Global Interpreter Lock (GIL) limits true parallelism for CPU-bound tasks, multithreading is valuable for specific applications. Here’s a compact explanation for your assignment:\n",
        "\n",
        "### **Why Multithreading is Important**\n",
        "1. **Improved Responsiveness for I/O-Bound Tasks**:\n",
        "   - **Why**: Threads excel in I/O-bound applications (e.g., file operations, network requests) where tasks wait for external resources.\n",
        "   - **Benefit**: Threads can handle other tasks during I/O waits, keeping applications responsive.\n",
        "   - **Example**: A web server handling multiple client requests concurrently (e.g., using `threading` to process HTTP requests).\n",
        "\n",
        "2. **Enhanced User Experience in GUI Applications**:\n",
        "   - **Why**: GUI apps (e.g., using Tkinter, PyQt) need to remain responsive while performing tasks like file downloads or computations.\n",
        "   - **Benefit**: Background threads handle long-running tasks, preventing the interface from freezing.\n",
        "   - **Example**: A file download progress bar updating while downloading in a separate thread.\n",
        "\n",
        "3. **Efficient Resource Sharing**:\n",
        "   - **Why**: Threads share the same memory space, making data exchange faster and easier compared to processes.\n",
        "   - **Benefit**: Simplifies communication for tasks like updating shared state (with proper synchronization).\n",
        "   - **Example**: A real-time dashboard updating data from multiple sources in threads.\n",
        "\n",
        "4. **Parallel Task Execution for Lightweight Tasks**:\n",
        "   - **Why**: Threads are lighter than processes, requiring less overhead to create and manage.\n",
        "   - **Benefit**: Suitable for lightweight, concurrent tasks like monitoring or logging.\n",
        "   - **Example**: A monitoring app with threads checking system metrics simultaneously.\n",
        "\n",
        "5. **Scalability in Concurrent Applications**:\n",
        "   - **Why**: Multithreading allows handling multiple tasks (e.g., client connections, event loops) within one process.\n",
        "   - **Benefit**: Improves throughput in applications like servers or crawlers without needing multiple processes.\n",
        "   - **Example**: A web scraper fetching multiple pages concurrently using threads.\n",
        "\n",
        "- **Explanation**: Threads download files concurrently, reducing total wait time for I/O-bound tasks.\n",
        "\n",
        "### **Key Considerations**\n",
        "- **I/O-Bound vs. CPU-Bound**: Multithreading is ideal for I/O-bound tasks (e.g., network, file I/O). For CPU-bound tasks (e.g., computations), use `multiprocessing` to bypass the GIL.\n",
        "- **Thread Safety**: Use synchronization primitives (e.g., `threading.Lock`) to avoid race conditions when accessing shared resources.\n",
        "- **Overhead**: Excessive threads can degrade performance due to context switching.\n",
        "\n",
        "### **Conclusion**\n",
        "Multithreading is important for I/O-bound applications, GUI responsiveness, efficient resource sharing, and concurrent task execution. It enhances performance and user experience in scenarios like web servers, GUI apps, and real-time systems, making it a critical tool for specific Python applications despite GIL limitations."
      ],
      "metadata": {
        "id": "eDLX1jx7hKow"
      }
    },
    {
      "cell_type": "code",
      "source": [
        "import threading\n",
        "import time\n",
        "\n",
        "def download_file(url):\n",
        "    print(f\"Downloading {url} in thread {threading.current_thread().name}\")\n",
        "    time.sleep(2)  # Simulate I/O wait\n",
        "    print(f\"Finished {url}\")\n",
        "\n",
        "urls = [\"file1.txt\", \"file2.txt\", \"file3.txt\"]\n",
        "threads = []\n",
        "for url in urls:\n",
        "    t = threading.Thread(target=download_file, args=(url,))\n",
        "    threads.append(t)\n",
        "    t.start()\n",
        "for t in threads:\n",
        "    t.join()"
      ],
      "metadata": {
        "colab": {
          "base_uri": "https://localhost:8080/"
        },
        "id": "O5haoKTxhEgr",
        "outputId": "52ab65a5-9173-492d-ff8c-e934947ee2e8"
      },
      "execution_count": null,
      "outputs": [
        {
          "output_type": "stream",
          "name": "stdout",
          "text": [
            "Downloading file1.txt in thread Thread-8 (download_file)\n",
            "Downloading file2.txt in thread Thread-9 (download_file)\n",
            "Downloading file3.txt in thread Thread-10 (download_file)\n",
            "Finished file1.txt\n",
            "Finished file2.txt\n",
            "Finished file3.txt\n"
          ]
        }
      ]
    },
    {
      "cell_type": "markdown",
      "source": [
        "##PRACTICAL QUESTION"
      ],
      "metadata": {
        "id": "nvyQLqCFurCY"
      }
    },
    {
      "cell_type": "markdown",
      "source": [
        "##1.How can you open a file for writing in Python and write a string to it?\n",
        "==>"
      ],
      "metadata": {
        "id": "fmbKj90QuxYt"
      }
    },
    {
      "cell_type": "code",
      "source": [
        "f = open(\"example.txt\", \"w\")\n",
        "f.write(\"Hello, wrold!\")\n",
        "f.close()"
      ],
      "metadata": {
        "id": "h2rsG_oxhqFZ"
      },
      "execution_count": 2,
      "outputs": []
    },
    {
      "cell_type": "markdown",
      "source": [
        "##2.Write a Python program to read the contents of a file and print each line?\n",
        "==>"
      ],
      "metadata": {
        "id": "E2z9Fa_uv8ZO"
      }
    },
    {
      "cell_type": "code",
      "source": [
        "f = open(\"example.txt\", \"r\")\n",
        "for line in f:\n",
        "  print(line)\n",
        "f.close()"
      ],
      "metadata": {
        "colab": {
          "base_uri": "https://localhost:8080/"
        },
        "id": "tgpszjEYvEK_",
        "outputId": "1c75defa-bdc7-4639-b8dd-7b7c4203f5e0"
      },
      "execution_count": 3,
      "outputs": [
        {
          "output_type": "stream",
          "name": "stdout",
          "text": [
            "Hello, wrold!\n"
          ]
        }
      ]
    },
    {
      "cell_type": "markdown",
      "source": [
        "##3.How would you handle a case where the file doesn't exist while trying to open it for reading?"
      ],
      "metadata": {
        "id": "DfImQ4Z5wan3"
      }
    },
    {
      "cell_type": "code",
      "source": [
        "try:\n",
        "    with open(\"filename.txt\", \"r\") as file:\n",
        "        content = file.read()\n",
        "        print(content)\n",
        "except FileNotFoundError:\n",
        "    print(\"The file does not exist. Please check the filename and try again.\")\n"
      ],
      "metadata": {
        "colab": {
          "base_uri": "https://localhost:8080/"
        },
        "id": "uI6FVdyXwZUe",
        "outputId": "d4968ba8-76cf-4972-97e9-ff12b49f4b5e"
      },
      "execution_count": 4,
      "outputs": [
        {
          "output_type": "stream",
          "name": "stdout",
          "text": [
            "The file does not exist. Please check the filename and try again.\n"
          ]
        }
      ]
    },
    {
      "cell_type": "markdown",
      "source": [
        "##4.Write a Python script that reads from one file and writes its content to another file?"
      ],
      "metadata": {
        "id": "4yv9BmkgxRTB"
      }
    },
    {
      "cell_type": "code",
      "source": [
        "# File copy script in Python\n",
        "\n",
        "# Define source and destination file names\n",
        "source_file = \"source.txt\"\n",
        "destination_file = \"destination.txt\"\n",
        "\n",
        "try:\n",
        "    # Open the source file in read mode\n",
        "    with open(source_file, \"r\") as src:\n",
        "        content = src.read()\n",
        "\n",
        "    # Open the destination file in write mode\n",
        "    with open(destination_file, \"w\") as dest:\n",
        "        dest.write(content)\n",
        "\n",
        "    print(\"File content copied successfully.\")\n",
        "\n",
        "except FileNotFoundError:\n",
        "    print(f\"Error: '{source_file}' does not exist.\")\n",
        "except IOError as e:\n",
        "    print(f\"I/O error occurred: {e}\")\n"
      ],
      "metadata": {
        "colab": {
          "base_uri": "https://localhost:8080/"
        },
        "id": "w4-Q2Jx5xNDm",
        "outputId": "e74daed3-9685-4772-c318-74bf4e850daa"
      },
      "execution_count": 5,
      "outputs": [
        {
          "output_type": "stream",
          "name": "stdout",
          "text": [
            "Error: 'source.txt' does not exist.\n"
          ]
        }
      ]
    },
    {
      "cell_type": "markdown",
      "source": [
        "##5.How would you catch and handle division by zero error in Python?"
      ],
      "metadata": {
        "id": "xk6Z_CLDxmqY"
      }
    },
    {
      "cell_type": "code",
      "source": [
        "try:\n",
        "  result = 10/0\n",
        "  print(result)\n",
        "except ZeroDivisionError:\n",
        "  print(\"Error: Division by zero\")"
      ],
      "metadata": {
        "colab": {
          "base_uri": "https://localhost:8080/"
        },
        "id": "nNpt2g1TxmHM",
        "outputId": "862de102-a810-4d49-b9a5-7f6c71bae9ab"
      },
      "execution_count": 6,
      "outputs": [
        {
          "output_type": "stream",
          "name": "stdout",
          "text": [
            "Error: Division by zero\n"
          ]
        }
      ]
    },
    {
      "cell_type": "markdown",
      "source": [
        "##6. Write a Python program that logs an error message to a log file when a division by zero exception occurs\n"
      ],
      "metadata": {
        "id": "udtOI_K0yZLy"
      }
    },
    {
      "cell_type": "code",
      "source": [
        "import logging\n",
        "\n",
        "# Configure logging to write to a file\n",
        "logging.basicConfig(filename='error_log.txt', level=logging.ERROR,\n",
        "                    format='%(asctime)s - %(levelname)s - %(message)s')\n",
        "\n",
        "try:\n",
        "    num = int(input(\"Enter a number to divide 10: \"))\n",
        "    result = 10 / num\n",
        "    print(\"Result:\", result)\n",
        "except ZeroDivisionError as e:\n",
        "    logging.error(\"Attempted division by zero: %s\", e)\n",
        "    print(\"Error: Cannot divide by zero.\")\n"
      ],
      "metadata": {
        "colab": {
          "base_uri": "https://localhost:8080/"
        },
        "id": "qqDLXC57xkJv",
        "outputId": "65c13978-473f-4fd4-ccb8-3e37b48f2ca2"
      },
      "execution_count": 7,
      "outputs": [
        {
          "output_type": "stream",
          "name": "stdout",
          "text": [
            "Enter a number to divide 10: 45\n",
            "Result: 0.2222222222222222\n"
          ]
        }
      ]
    },
    {
      "cell_type": "markdown",
      "source": [
        "##7.How do you log information at different levels (INFO, ERROR, WARNING) in Python using the logging module."
      ],
      "metadata": {
        "id": "qxWp4x1uzeL_"
      }
    },
    {
      "cell_type": "code",
      "source": [
        "import logging\n",
        "\n",
        "# Configure the logging system\n",
        "logging.basicConfig(level=logging.DEBUG, format='%(levelname)s: %(message)s')\n",
        "\n",
        "# Log messages at different levels\n",
        "logging.debug(\"This is a DEBUG message – used for detailed diagnostics.\")\n",
        "logging.info(\"This is an INFO message – for general program information.\")\n",
        "logging.warning(\"This is a WARNING message – something unexpected happened.\")\n",
        "logging.error(\"This is an ERROR message – a serious issue occurred.\")\n",
        "logging.critical(\"This is a CRITICAL message – a severe error, program may not continue.\")\n"
      ],
      "metadata": {
        "colab": {
          "base_uri": "https://localhost:8080/"
        },
        "id": "s5_7tJWozWoO",
        "outputId": "04b94525-1ee4-4b05-fa11-9e6312d97e80"
      },
      "execution_count": 8,
      "outputs": [
        {
          "output_type": "stream",
          "name": "stderr",
          "text": [
            "WARNING:root:This is a WARNING message – something unexpected happened.\n",
            "ERROR:root:This is an ERROR message – a serious issue occurred.\n",
            "CRITICAL:root:This is a CRITICAL message – a severe error, program may not continue.\n"
          ]
        }
      ]
    },
    {
      "cell_type": "markdown",
      "source": [
        "##8.Write a program to handle a file opening error using exception handling"
      ],
      "metadata": {
        "id": "vmspEzWLz6cB"
      }
    },
    {
      "cell_type": "code",
      "source": [
        "try:\n",
        "    # Attempt to open a file that may not exist\n",
        "    file = open(\"non_existing_file.txt\", \"r\")\n",
        "    content = file.read()\n",
        "    print(content)\n",
        "    file.close()\n",
        "except FileNotFoundError:\n",
        "    print(\"Error: The file does not exist.\")\n"
      ],
      "metadata": {
        "colab": {
          "base_uri": "https://localhost:8080/"
        },
        "id": "M-73ZD2dz4hS",
        "outputId": "defd689b-8914-412c-eeb1-455bad1c5a71"
      },
      "execution_count": 9,
      "outputs": [
        {
          "output_type": "stream",
          "name": "stdout",
          "text": [
            "Error: The file does not exist.\n"
          ]
        }
      ]
    },
    {
      "cell_type": "markdown",
      "source": [
        "##9.How can you read a file line by line and store its content in a list in Python"
      ],
      "metadata": {
        "id": "EcipM6vM0fFO"
      }
    },
    {
      "cell_type": "code",
      "source": [
        "lines = []\n",
        "\n",
        "with open(\"example.txt\", \"r\") as file:\n",
        "    lines = file.readlines()\n",
        "\n",
        "print(lines)\n"
      ],
      "metadata": {
        "colab": {
          "base_uri": "https://localhost:8080/"
        },
        "id": "axnTImre0a5k",
        "outputId": "207846b2-387c-4396-f119-ef402efcc989"
      },
      "execution_count": 10,
      "outputs": [
        {
          "output_type": "stream",
          "name": "stdout",
          "text": [
            "['Hello, wrold!']\n"
          ]
        }
      ]
    },
    {
      "cell_type": "markdown",
      "source": [
        "##10.How can you append data to an existing file in Python?"
      ],
      "metadata": {
        "id": "NoMhRmFQ1FLS"
      }
    },
    {
      "cell_type": "code",
      "source": [
        "with open(\"example.txt\", \"a\") as file:\n",
        "    file.write(\"This is a new line.\\n\")"
      ],
      "metadata": {
        "id": "4Vxjte-k1Dzl"
      },
      "execution_count": 11,
      "outputs": []
    },
    {
      "cell_type": "markdown",
      "source": [
        "##11.Write a Python program that uses a try-except block to handle an error when attempting to access a dictionary key that doesn't exist"
      ],
      "metadata": {
        "id": "64nqoFw11krE"
      }
    },
    {
      "cell_type": "code",
      "source": [
        "# Define a sample dictionary\n",
        "student = {\n",
        "    \"name\": \"Riya\",\n",
        "    \"age\": 15,\n",
        "    \"class\": \"10th\"\n",
        "}\n",
        "\n",
        "try:\n",
        "    # Try to access a key that might not exist\n",
        "    print(\"Student's grade is:\", student[\"grade\"])\n",
        "except KeyError:\n",
        "    print(\"Error: 'grade' key does not exist in the dictionary.\")\n"
      ],
      "metadata": {
        "colab": {
          "base_uri": "https://localhost:8080/"
        },
        "id": "PYlSFaVA1jiU",
        "outputId": "99993a82-af6a-41b2-a3db-cde8f4a2d4cf"
      },
      "execution_count": 12,
      "outputs": [
        {
          "output_type": "stream",
          "name": "stdout",
          "text": [
            "Error: 'grade' key does not exist in the dictionary.\n"
          ]
        }
      ]
    },
    {
      "cell_type": "markdown",
      "source": [
        "##12.Write a program that demonstrates using multiple except blocks to handle different types of exception"
      ],
      "metadata": {
        "id": "iyJ9lJnE2Fne"
      }
    },
    {
      "cell_type": "code",
      "source": [
        "try:\n",
        "    num = int(input(\"Enter a number: \"))\n",
        "    result = 10 / num\n",
        "    print(\"Result is:\", result)\n",
        "\n",
        "    my_list = [1, 2, 3]\n",
        "    print(\"Fourth item in the list:\", my_list[3])  # IndexError\n",
        "\n",
        "except ZeroDivisionError:\n",
        "    print(\"Error: Cannot divide by zero.\")\n",
        "\n",
        "except ValueError:\n",
        "    print(\"Error: Invalid input. Please enter a number.\")\n",
        "\n",
        "except IndexError:\n",
        "    print(\"Error: List index out of range.\")\n",
        "\n",
        "except Exception as e:\n",
        "    print(\"An unexpected error occurred:\", e)\n"
      ],
      "metadata": {
        "colab": {
          "base_uri": "https://localhost:8080/"
        },
        "id": "6PA_yMxb2CMC",
        "outputId": "15c55e54-cbc1-41ef-f652-41897f5e9c39"
      },
      "execution_count": 13,
      "outputs": [
        {
          "output_type": "stream",
          "name": "stdout",
          "text": [
            "Enter a number: 7\n",
            "Result is: 1.4285714285714286\n",
            "Error: List index out of range.\n"
          ]
        }
      ]
    },
    {
      "cell_type": "markdown",
      "source": [
        "##13.How would you check if a file exists before attempting to read it in Python"
      ],
      "metadata": {
        "id": "JXeU0lv32xA_"
      }
    },
    {
      "cell_type": "code",
      "source": [
        "import os\n",
        "\n",
        "filename = \"example.txt\"\n",
        "\n",
        "if os.path.exists(filename):\n",
        "    with open(filename, \"r\") as file:\n",
        "        content = file.read()\n",
        "        print(content)\n",
        "else:\n",
        "    print(\"File does not exist.\")\n"
      ],
      "metadata": {
        "colab": {
          "base_uri": "https://localhost:8080/"
        },
        "id": "wU9O6o7E2fwj",
        "outputId": "80f0ab95-aa7c-45fe-ce51-4ef8702c0884"
      },
      "execution_count": 14,
      "outputs": [
        {
          "output_type": "stream",
          "name": "stdout",
          "text": [
            "Hello, wrold!This is a new line.\n",
            "\n"
          ]
        }
      ]
    },
    {
      "cell_type": "markdown",
      "source": [
        "##14.Write a program that uses the logging module to log both informational and error messages"
      ],
      "metadata": {
        "id": "LqpESIeu3WrU"
      }
    },
    {
      "cell_type": "code",
      "source": [
        "import logging\n",
        "\n",
        "logging.basicConfig(level=logging.INFO, format='%(asctime)s - %(levelname)s - %(message)s', filename='app.log')\n",
        "\n",
        "logger = logging.getLogger(__name__)\n",
        "\n",
        "def divide(a, b):\n",
        "    try:\n",
        "        logger.info(f\"Dividing {a} by {b}\")\n",
        "        result = a / b\n",
        "        logger.info(f\"Result: {result}\")\n",
        "        return result\n",
        "    except Exception as e:\n",
        "        logger.error(f\"Error: {str(e)}\")\n",
        "        return None\n",
        "\n",
        "if __name__ == \"__main__\":\n",
        "    logger.info(\"Start\")\n",
        "    divide(10, 2)\n",
        "    divide(8, 0)\n",
        "    logger.info(\"End\")"
      ],
      "metadata": {
        "colab": {
          "base_uri": "https://localhost:8080/"
        },
        "id": "BSF-ynM93AGL",
        "outputId": "f8205c19-403e-4b40-ae44-a1ae9491229a"
      },
      "execution_count": 15,
      "outputs": [
        {
          "output_type": "stream",
          "name": "stderr",
          "text": [
            "ERROR:__main__:Error: division by zero\n"
          ]
        }
      ]
    },
    {
      "cell_type": "markdown",
      "source": [
        "##15.Write a Python program that prints the content of a file and handles the case when the file is empty"
      ],
      "metadata": {
        "id": "pnuuigPA3_Jp"
      }
    },
    {
      "cell_type": "code",
      "source": [
        "import logging\n",
        "\n",
        "logging.basicConfig(level=logging.INFO, format='%(asctime)s - %(levelname)s - %(message)s', filename='file_ops.log')\n",
        "logger = logging.getLogger(__name__)\n",
        "\n",
        "def read_file(file_path):\n",
        "    try:\n",
        "        logger.info(f\"Reading {file_path}\")\n",
        "        with open(file_path, 'r') as file:\n",
        "            content = file.read()\n",
        "            print(\"File is empty\" if not content else f\"Content:\\n{content}\")\n",
        "            logger.info(\"Read successful\" if content else \"File is empty\")\n",
        "    except FileNotFoundError:\n",
        "        logger.error(f\"File not found: {file_path}\")\n",
        "        print(\"File not found\")\n",
        "    except Exception as e:\n",
        "        logger.error(f\"Error: {str(e)}\")\n",
        "        print(f\"Error: {str(e)}\")\n",
        "\n",
        "if __name__ == \"__main__\":\n",
        "    logger.info(\"Start\")\n",
        "    read_file(input(\"File path: \"))\n",
        "    logger.info(\"End\")"
      ],
      "metadata": {
        "colab": {
          "base_uri": "https://localhost:8080/"
        },
        "id": "Th3GSGbF39FL",
        "outputId": "3ae29894-980b-4e5c-e6ef-56b4cf7354dc"
      },
      "execution_count": 16,
      "outputs": [
        {
          "name": "stdout",
          "output_type": "stream",
          "text": [
            "File path: ex.txt\n"
          ]
        },
        {
          "output_type": "stream",
          "name": "stderr",
          "text": [
            "ERROR:__main__:File not found: ex.txt\n"
          ]
        },
        {
          "output_type": "stream",
          "name": "stdout",
          "text": [
            "File not found\n"
          ]
        }
      ]
    },
    {
      "cell_type": "markdown",
      "source": [
        "##16.Demonstrate how to use memory profiling to check the memory usage of a small program"
      ],
      "metadata": {
        "id": "84NrOiox58GL"
      }
    },
    {
      "cell_type": "code",
      "source": [
        "# memory_demo.py with profiling\n",
        "from memory_profiler import profile\n",
        "import numpy as np\n",
        "\n",
        "@profile\n",
        "def create_large_array(size):\n",
        "    \"\"\"Create a large numpy array\"\"\"\n",
        "    arr = np.random.rand(size, size)\n",
        "    return arr\n",
        "\n",
        "@profile\n",
        "def process_data():\n",
        "    \"\"\"Perform some memory-intensive operations\"\"\"\n",
        "    data1 = create_large_array(1000)\n",
        "    data2 = create_large_array(1000)\n",
        "    result = data1 * data2\n",
        "    return result.sum()\n",
        "\n",
        "if __name__ == \"__main__\":\n",
        "    print(\"Starting memory demo...\")\n",
        "    total = process_data()\n",
        "    print(f\"Result: {total}\")"
      ],
      "metadata": {
        "id": "SJlYqn9A7Iee"
      },
      "execution_count": null,
      "outputs": []
    },
    {
      "cell_type": "markdown",
      "source": [
        "##17.Write a Python program to create and write a list of numbers to a file, one number per line"
      ],
      "metadata": {
        "id": "5PrDOtiz7Qep"
      }
    },
    {
      "cell_type": "code",
      "source": [
        "def write_numbers_to_file(numbers, filename):\n",
        "    \"\"\"\n",
        "    Writes a list of numbers to a file, one number per line\n",
        "\n",
        "    Args:\n",
        "        numbers (list): List of numbers to write\n",
        "        filename (str): Name of the file to create/write to\n",
        "    \"\"\"\n",
        "    try:\n",
        "        with open(filename, 'w') as file:\n",
        "            for number in numbers:\n",
        "                file.write(f\"{number}\\n\")\n",
        "        print(f\"Successfully wrote {len(numbers)} numbers to {filename}\")\n",
        "    except IOError as e:\n",
        "        print(f\"Error writing to file: {e}\")\n",
        "\n",
        "# Example usage\n",
        "if __name__ == \"__main__\":\n",
        "    # Create a list of numbers (you can modify this)\n",
        "    numbers = [1, 2, 3, 4, 5, 10, 20, 30, 40, 50, 100, 200, 300]\n",
        "\n",
        "    # File to write to\n",
        "    output_file = \"numbers.txt\"\n",
        "\n",
        "    # Write the numbers to file\n",
        "    write_numbers_to_file(numbers, output_file)"
      ],
      "metadata": {
        "colab": {
          "base_uri": "https://localhost:8080/"
        },
        "id": "UwuopHrM7odX",
        "outputId": "b8b82cd6-761f-4e9e-d2f6-8437ecd9e7f9"
      },
      "execution_count": 19,
      "outputs": [
        {
          "output_type": "stream",
          "name": "stdout",
          "text": [
            "Successfully wrote 13 numbers to numbers.txt\n"
          ]
        }
      ]
    },
    {
      "cell_type": "markdown",
      "source": [
        "##18.How would you implement a basic logging setup that logs to a file with rotation after 1MB?"
      ],
      "metadata": {
        "id": "1A7TC8Aq8Suy"
      }
    },
    {
      "cell_type": "code",
      "source": [
        "import logging\n",
        "from logging.handlers import RotatingFileHandler\n",
        "\n",
        "def setup_logging(log_file='app.log', max_size=1, backup_count=5):\n",
        "    \"\"\"\n",
        "    Set up logging with file rotation\n",
        "\n",
        "    Args:\n",
        "        log_file (str): Path to log file\n",
        "        max_size (int): Max file size in MB before rotation\n",
        "        backup_count (int): Number of backup logs to keep\n",
        "    \"\"\"\n",
        "    # Convert MB to bytes\n",
        "    max_bytes = max_size * 1024 * 1024\n",
        "\n",
        "    # Create logger\n",
        "    logger = logging.getLogger()\n",
        "    logger.setLevel(logging.DEBUG)  # Set to lowest level\n",
        "\n",
        "    # Create formatter\n",
        "    formatter = logging.Formatter(\n",
        "        '%(asctime)s - %(name)s - %(levelname)s - %(message)s'\n",
        "    )\n",
        "\n",
        "    # Create rotating file handler\n",
        "    file_handler = RotatingFileHandler(\n",
        "        filename=log_file,\n",
        "        maxBytes=max_bytes,\n",
        "        backupCount=backup_count\n",
        "    )\n",
        "    file_handler.setFormatter(formatter)\n",
        "\n",
        "    # Add handler to logger\n",
        "    logger.addHandler(file_handler)\n",
        "\n",
        "    # Optional: Also log to console\n",
        "    console_handler = logging.StreamHandler()\n",
        "    console_handler.setFormatter(formatter)\n",
        "    logger.addHandler(console_handler)\n",
        "\n",
        "    return logger\n",
        "\n",
        "# Example usage\n",
        "if __name__ == \"__main__\":\n",
        "    logger = setup_logging('my_app.log', max_size=1, backup_count=3)\n",
        "\n",
        "    # Test logging\n",
        "    logger.debug(\"This is a debug message\")\n",
        "    logger.info(\"This is an info message\")\n",
        "    logger.warning(\"This is a warning message\")\n",
        "    logger.error(\"This is an error message\")\n",
        "    logger.critical(\"This is a critical message\")\n",
        "\n",
        "    # Generate enough logs to trigger rotation\n",
        "    for i in range(1000):\n",
        "        logger.info(f\"Test log message {i}\")"
      ],
      "metadata": {
        "colab": {
          "base_uri": "https://localhost:8080/"
        },
        "id": "iC4JM0zL7pk0",
        "outputId": "0073ce5e-1e38-45b5-d486-931451f686a7"
      },
      "execution_count": 20,
      "outputs": [
        {
          "output_type": "stream",
          "name": "stderr",
          "text": [
            "DEBUG:root:This is a debug message\n",
            "2025-05-14 03:59:48,863 - root - DEBUG - This is a debug message\n",
            "INFO:root:This is an info message\n",
            "2025-05-14 03:59:48,864 - root - INFO - This is an info message\n",
            "WARNING:root:This is a warning message\n",
            "2025-05-14 03:59:48,868 - root - WARNING - This is a warning message\n",
            "ERROR:root:This is an error message\n",
            "2025-05-14 03:59:48,869 - root - ERROR - This is an error message\n",
            "CRITICAL:root:This is a critical message\n",
            "2025-05-14 03:59:48,870 - root - CRITICAL - This is a critical message\n",
            "INFO:root:Test log message 0\n",
            "2025-05-14 03:59:48,872 - root - INFO - Test log message 0\n",
            "INFO:root:Test log message 1\n",
            "2025-05-14 03:59:48,873 - root - INFO - Test log message 1\n",
            "INFO:root:Test log message 2\n",
            "2025-05-14 03:59:48,874 - root - INFO - Test log message 2\n",
            "INFO:root:Test log message 3\n",
            "2025-05-14 03:59:48,875 - root - INFO - Test log message 3\n",
            "INFO:root:Test log message 4\n",
            "2025-05-14 03:59:48,876 - root - INFO - Test log message 4\n",
            "INFO:root:Test log message 5\n",
            "2025-05-14 03:59:48,877 - root - INFO - Test log message 5\n",
            "INFO:root:Test log message 6\n",
            "2025-05-14 03:59:48,881 - root - INFO - Test log message 6\n",
            "INFO:root:Test log message 7\n",
            "2025-05-14 03:59:48,882 - root - INFO - Test log message 7\n",
            "INFO:root:Test log message 8\n",
            "2025-05-14 03:59:48,883 - root - INFO - Test log message 8\n",
            "INFO:root:Test log message 9\n",
            "2025-05-14 03:59:48,883 - root - INFO - Test log message 9\n",
            "INFO:root:Test log message 10\n",
            "2025-05-14 03:59:48,884 - root - INFO - Test log message 10\n",
            "INFO:root:Test log message 11\n",
            "2025-05-14 03:59:48,885 - root - INFO - Test log message 11\n",
            "INFO:root:Test log message 12\n",
            "2025-05-14 03:59:48,885 - root - INFO - Test log message 12\n",
            "INFO:root:Test log message 13\n",
            "2025-05-14 03:59:48,886 - root - INFO - Test log message 13\n",
            "INFO:root:Test log message 14\n",
            "2025-05-14 03:59:48,887 - root - INFO - Test log message 14\n",
            "INFO:root:Test log message 15\n",
            "2025-05-14 03:59:48,888 - root - INFO - Test log message 15\n",
            "INFO:root:Test log message 16\n",
            "2025-05-14 03:59:48,889 - root - INFO - Test log message 16\n",
            "INFO:root:Test log message 17\n",
            "2025-05-14 03:59:48,893 - root - INFO - Test log message 17\n",
            "INFO:root:Test log message 18\n",
            "2025-05-14 03:59:48,894 - root - INFO - Test log message 18\n",
            "INFO:root:Test log message 19\n",
            "2025-05-14 03:59:48,894 - root - INFO - Test log message 19\n",
            "INFO:root:Test log message 20\n",
            "2025-05-14 03:59:48,895 - root - INFO - Test log message 20\n",
            "INFO:root:Test log message 21\n",
            "2025-05-14 03:59:48,896 - root - INFO - Test log message 21\n",
            "INFO:root:Test log message 22\n",
            "2025-05-14 03:59:48,896 - root - INFO - Test log message 22\n",
            "INFO:root:Test log message 23\n",
            "2025-05-14 03:59:48,897 - root - INFO - Test log message 23\n",
            "INFO:root:Test log message 24\n",
            "2025-05-14 03:59:48,897 - root - INFO - Test log message 24\n",
            "INFO:root:Test log message 25\n",
            "2025-05-14 03:59:48,898 - root - INFO - Test log message 25\n",
            "INFO:root:Test log message 26\n",
            "2025-05-14 03:59:48,899 - root - INFO - Test log message 26\n",
            "INFO:root:Test log message 27\n",
            "2025-05-14 03:59:48,902 - root - INFO - Test log message 27\n",
            "INFO:root:Test log message 28\n",
            "2025-05-14 03:59:48,902 - root - INFO - Test log message 28\n",
            "INFO:root:Test log message 29\n",
            "2025-05-14 03:59:48,903 - root - INFO - Test log message 29\n",
            "INFO:root:Test log message 30\n",
            "2025-05-14 03:59:48,904 - root - INFO - Test log message 30\n",
            "INFO:root:Test log message 31\n",
            "2025-05-14 03:59:48,904 - root - INFO - Test log message 31\n",
            "INFO:root:Test log message 32\n",
            "2025-05-14 03:59:48,908 - root - INFO - Test log message 32\n",
            "INFO:root:Test log message 33\n",
            "2025-05-14 03:59:48,909 - root - INFO - Test log message 33\n",
            "INFO:root:Test log message 34\n",
            "2025-05-14 03:59:48,909 - root - INFO - Test log message 34\n",
            "INFO:root:Test log message 35\n",
            "2025-05-14 03:59:48,910 - root - INFO - Test log message 35\n",
            "INFO:root:Test log message 36\n",
            "2025-05-14 03:59:48,910 - root - INFO - Test log message 36\n",
            "INFO:root:Test log message 37\n",
            "2025-05-14 03:59:48,911 - root - INFO - Test log message 37\n",
            "INFO:root:Test log message 38\n",
            "2025-05-14 03:59:48,912 - root - INFO - Test log message 38\n",
            "INFO:root:Test log message 39\n",
            "2025-05-14 03:59:48,912 - root - INFO - Test log message 39\n",
            "INFO:root:Test log message 40\n",
            "2025-05-14 03:59:48,913 - root - INFO - Test log message 40\n",
            "INFO:root:Test log message 41\n",
            "2025-05-14 03:59:48,913 - root - INFO - Test log message 41\n",
            "INFO:root:Test log message 42\n",
            "2025-05-14 03:59:48,917 - root - INFO - Test log message 42\n",
            "INFO:root:Test log message 43\n",
            "2025-05-14 03:59:48,918 - root - INFO - Test log message 43\n",
            "INFO:root:Test log message 44\n",
            "2025-05-14 03:59:48,919 - root - INFO - Test log message 44\n",
            "INFO:root:Test log message 45\n",
            "2025-05-14 03:59:48,919 - root - INFO - Test log message 45\n",
            "INFO:root:Test log message 46\n",
            "2025-05-14 03:59:48,920 - root - INFO - Test log message 46\n",
            "INFO:root:Test log message 47\n",
            "2025-05-14 03:59:48,920 - root - INFO - Test log message 47\n",
            "INFO:root:Test log message 48\n",
            "2025-05-14 03:59:48,921 - root - INFO - Test log message 48\n",
            "INFO:root:Test log message 49\n",
            "2025-05-14 03:59:48,922 - root - INFO - Test log message 49\n",
            "INFO:root:Test log message 50\n",
            "2025-05-14 03:59:48,925 - root - INFO - Test log message 50\n",
            "INFO:root:Test log message 51\n",
            "2025-05-14 03:59:48,926 - root - INFO - Test log message 51\n",
            "INFO:root:Test log message 52\n",
            "2025-05-14 03:59:48,926 - root - INFO - Test log message 52\n",
            "INFO:root:Test log message 53\n",
            "2025-05-14 03:59:48,927 - root - INFO - Test log message 53\n",
            "INFO:root:Test log message 54\n",
            "2025-05-14 03:59:48,927 - root - INFO - Test log message 54\n",
            "INFO:root:Test log message 55\n",
            "2025-05-14 03:59:48,928 - root - INFO - Test log message 55\n",
            "INFO:root:Test log message 56\n",
            "2025-05-14 03:59:48,929 - root - INFO - Test log message 56\n",
            "INFO:root:Test log message 57\n",
            "2025-05-14 03:59:48,929 - root - INFO - Test log message 57\n",
            "INFO:root:Test log message 58\n",
            "2025-05-14 03:59:48,930 - root - INFO - Test log message 58\n",
            "INFO:root:Test log message 59\n",
            "2025-05-14 03:59:48,931 - root - INFO - Test log message 59\n",
            "INFO:root:Test log message 60\n",
            "2025-05-14 03:59:48,932 - root - INFO - Test log message 60\n",
            "INFO:root:Test log message 61\n",
            "2025-05-14 03:59:48,933 - root - INFO - Test log message 61\n",
            "INFO:root:Test log message 62\n",
            "2025-05-14 03:59:48,934 - root - INFO - Test log message 62\n",
            "INFO:root:Test log message 63\n",
            "2025-05-14 03:59:48,935 - root - INFO - Test log message 63\n",
            "INFO:root:Test log message 64\n",
            "2025-05-14 03:59:48,935 - root - INFO - Test log message 64\n",
            "INFO:root:Test log message 65\n",
            "2025-05-14 03:59:48,936 - root - INFO - Test log message 65\n",
            "INFO:root:Test log message 66\n",
            "2025-05-14 03:59:48,936 - root - INFO - Test log message 66\n",
            "INFO:root:Test log message 67\n",
            "2025-05-14 03:59:48,937 - root - INFO - Test log message 67\n",
            "INFO:root:Test log message 68\n",
            "2025-05-14 03:59:48,938 - root - INFO - Test log message 68\n",
            "INFO:root:Test log message 69\n",
            "2025-05-14 03:59:48,938 - root - INFO - Test log message 69\n",
            "INFO:root:Test log message 70\n",
            "2025-05-14 03:59:48,939 - root - INFO - Test log message 70\n",
            "INFO:root:Test log message 71\n",
            "2025-05-14 03:59:48,940 - root - INFO - Test log message 71\n",
            "INFO:root:Test log message 72\n",
            "2025-05-14 03:59:48,940 - root - INFO - Test log message 72\n",
            "INFO:root:Test log message 73\n",
            "2025-05-14 03:59:48,941 - root - INFO - Test log message 73\n",
            "INFO:root:Test log message 74\n",
            "2025-05-14 03:59:48,942 - root - INFO - Test log message 74\n",
            "INFO:root:Test log message 75\n",
            "2025-05-14 03:59:48,943 - root - INFO - Test log message 75\n",
            "INFO:root:Test log message 76\n",
            "2025-05-14 03:59:48,944 - root - INFO - Test log message 76\n",
            "INFO:root:Test log message 77\n",
            "2025-05-14 03:59:48,946 - root - INFO - Test log message 77\n",
            "INFO:root:Test log message 78\n",
            "2025-05-14 03:59:48,947 - root - INFO - Test log message 78\n",
            "INFO:root:Test log message 79\n",
            "2025-05-14 03:59:48,947 - root - INFO - Test log message 79\n",
            "INFO:root:Test log message 80\n",
            "2025-05-14 03:59:48,948 - root - INFO - Test log message 80\n",
            "INFO:root:Test log message 81\n",
            "2025-05-14 03:59:48,948 - root - INFO - Test log message 81\n",
            "INFO:root:Test log message 82\n",
            "2025-05-14 03:59:48,949 - root - INFO - Test log message 82\n",
            "INFO:root:Test log message 83\n",
            "2025-05-14 03:59:48,950 - root - INFO - Test log message 83\n",
            "INFO:root:Test log message 84\n",
            "2025-05-14 03:59:48,950 - root - INFO - Test log message 84\n",
            "INFO:root:Test log message 85\n",
            "2025-05-14 03:59:48,951 - root - INFO - Test log message 85\n",
            "INFO:root:Test log message 86\n",
            "2025-05-14 03:59:48,952 - root - INFO - Test log message 86\n",
            "INFO:root:Test log message 87\n",
            "2025-05-14 03:59:48,958 - root - INFO - Test log message 87\n",
            "INFO:root:Test log message 88\n",
            "2025-05-14 03:59:48,959 - root - INFO - Test log message 88\n",
            "INFO:root:Test log message 89\n",
            "2025-05-14 03:59:48,959 - root - INFO - Test log message 89\n",
            "INFO:root:Test log message 90\n",
            "2025-05-14 03:59:48,960 - root - INFO - Test log message 90\n",
            "INFO:root:Test log message 91\n",
            "2025-05-14 03:59:48,961 - root - INFO - Test log message 91\n",
            "INFO:root:Test log message 92\n",
            "2025-05-14 03:59:48,962 - root - INFO - Test log message 92\n",
            "INFO:root:Test log message 93\n",
            "2025-05-14 03:59:48,962 - root - INFO - Test log message 93\n",
            "INFO:root:Test log message 94\n",
            "2025-05-14 03:59:48,963 - root - INFO - Test log message 94\n",
            "INFO:root:Test log message 95\n",
            "2025-05-14 03:59:48,963 - root - INFO - Test log message 95\n",
            "INFO:root:Test log message 96\n",
            "2025-05-14 03:59:48,964 - root - INFO - Test log message 96\n",
            "INFO:root:Test log message 97\n",
            "2025-05-14 03:59:48,965 - root - INFO - Test log message 97\n",
            "INFO:root:Test log message 98\n",
            "2025-05-14 03:59:48,965 - root - INFO - Test log message 98\n",
            "INFO:root:Test log message 99\n",
            "2025-05-14 03:59:48,966 - root - INFO - Test log message 99\n",
            "INFO:root:Test log message 100\n",
            "2025-05-14 03:59:48,966 - root - INFO - Test log message 100\n",
            "INFO:root:Test log message 101\n",
            "2025-05-14 03:59:48,967 - root - INFO - Test log message 101\n",
            "INFO:root:Test log message 102\n",
            "2025-05-14 03:59:48,968 - root - INFO - Test log message 102\n",
            "INFO:root:Test log message 103\n",
            "2025-05-14 03:59:48,968 - root - INFO - Test log message 103\n",
            "INFO:root:Test log message 104\n",
            "2025-05-14 03:59:48,969 - root - INFO - Test log message 104\n",
            "INFO:root:Test log message 105\n",
            "2025-05-14 03:59:48,969 - root - INFO - Test log message 105\n",
            "INFO:root:Test log message 106\n",
            "2025-05-14 03:59:48,970 - root - INFO - Test log message 106\n",
            "INFO:root:Test log message 107\n",
            "2025-05-14 03:59:48,971 - root - INFO - Test log message 107\n",
            "INFO:root:Test log message 108\n",
            "2025-05-14 03:59:48,972 - root - INFO - Test log message 108\n",
            "INFO:root:Test log message 109\n",
            "2025-05-14 03:59:48,973 - root - INFO - Test log message 109\n",
            "INFO:root:Test log message 110\n",
            "2025-05-14 03:59:48,974 - root - INFO - Test log message 110\n",
            "INFO:root:Test log message 111\n",
            "2025-05-14 03:59:48,975 - root - INFO - Test log message 111\n",
            "INFO:root:Test log message 112\n",
            "2025-05-14 03:59:48,976 - root - INFO - Test log message 112\n",
            "INFO:root:Test log message 113\n",
            "2025-05-14 03:59:48,976 - root - INFO - Test log message 113\n",
            "INFO:root:Test log message 114\n",
            "2025-05-14 03:59:48,977 - root - INFO - Test log message 114\n",
            "INFO:root:Test log message 115\n",
            "2025-05-14 03:59:48,978 - root - INFO - Test log message 115\n",
            "INFO:root:Test log message 116\n",
            "2025-05-14 03:59:48,978 - root - INFO - Test log message 116\n",
            "INFO:root:Test log message 117\n",
            "2025-05-14 03:59:48,979 - root - INFO - Test log message 117\n",
            "INFO:root:Test log message 118\n",
            "2025-05-14 03:59:48,979 - root - INFO - Test log message 118\n",
            "INFO:root:Test log message 119\n",
            "2025-05-14 03:59:48,980 - root - INFO - Test log message 119\n",
            "INFO:root:Test log message 120\n",
            "2025-05-14 03:59:48,980 - root - INFO - Test log message 120\n",
            "INFO:root:Test log message 121\n",
            "2025-05-14 03:59:48,981 - root - INFO - Test log message 121\n",
            "INFO:root:Test log message 122\n",
            "2025-05-14 03:59:48,982 - root - INFO - Test log message 122\n",
            "INFO:root:Test log message 123\n",
            "2025-05-14 03:59:48,983 - root - INFO - Test log message 123\n",
            "INFO:root:Test log message 124\n",
            "2025-05-14 03:59:48,983 - root - INFO - Test log message 124\n",
            "INFO:root:Test log message 125\n",
            "2025-05-14 03:59:48,984 - root - INFO - Test log message 125\n",
            "INFO:root:Test log message 126\n",
            "2025-05-14 03:59:48,985 - root - INFO - Test log message 126\n",
            "INFO:root:Test log message 127\n",
            "2025-05-14 03:59:48,986 - root - INFO - Test log message 127\n",
            "INFO:root:Test log message 128\n",
            "2025-05-14 03:59:48,987 - root - INFO - Test log message 128\n",
            "INFO:root:Test log message 129\n",
            "2025-05-14 03:59:48,988 - root - INFO - Test log message 129\n",
            "INFO:root:Test log message 130\n",
            "2025-05-14 03:59:48,989 - root - INFO - Test log message 130\n",
            "INFO:root:Test log message 131\n",
            "2025-05-14 03:59:48,990 - root - INFO - Test log message 131\n",
            "INFO:root:Test log message 132\n",
            "2025-05-14 03:59:48,990 - root - INFO - Test log message 132\n",
            "INFO:root:Test log message 133\n",
            "2025-05-14 03:59:48,991 - root - INFO - Test log message 133\n",
            "INFO:root:Test log message 134\n",
            "2025-05-14 03:59:48,991 - root - INFO - Test log message 134\n",
            "INFO:root:Test log message 135\n",
            "2025-05-14 03:59:48,992 - root - INFO - Test log message 135\n",
            "INFO:root:Test log message 136\n",
            "2025-05-14 03:59:48,993 - root - INFO - Test log message 136\n",
            "INFO:root:Test log message 137\n",
            "2025-05-14 03:59:48,993 - root - INFO - Test log message 137\n",
            "INFO:root:Test log message 138\n",
            "2025-05-14 03:59:48,994 - root - INFO - Test log message 138\n",
            "INFO:root:Test log message 139\n",
            "2025-05-14 03:59:48,994 - root - INFO - Test log message 139\n",
            "INFO:root:Test log message 140\n",
            "2025-05-14 03:59:48,995 - root - INFO - Test log message 140\n",
            "INFO:root:Test log message 141\n",
            "2025-05-14 03:59:48,996 - root - INFO - Test log message 141\n",
            "INFO:root:Test log message 142\n",
            "2025-05-14 03:59:48,996 - root - INFO - Test log message 142\n",
            "INFO:root:Test log message 143\n",
            "2025-05-14 03:59:48,997 - root - INFO - Test log message 143\n",
            "INFO:root:Test log message 144\n",
            "2025-05-14 03:59:48,998 - root - INFO - Test log message 144\n",
            "INFO:root:Test log message 145\n",
            "2025-05-14 03:59:48,999 - root - INFO - Test log message 145\n",
            "INFO:root:Test log message 146\n",
            "2025-05-14 03:59:49,000 - root - INFO - Test log message 146\n",
            "INFO:root:Test log message 147\n",
            "2025-05-14 03:59:49,001 - root - INFO - Test log message 147\n",
            "INFO:root:Test log message 148\n",
            "2025-05-14 03:59:49,002 - root - INFO - Test log message 148\n",
            "INFO:root:Test log message 149\n",
            "2025-05-14 03:59:49,003 - root - INFO - Test log message 149\n",
            "INFO:root:Test log message 150\n",
            "2025-05-14 03:59:49,004 - root - INFO - Test log message 150\n",
            "INFO:root:Test log message 151\n",
            "2025-05-14 03:59:49,005 - root - INFO - Test log message 151\n",
            "INFO:root:Test log message 152\n",
            "2025-05-14 03:59:49,005 - root - INFO - Test log message 152\n",
            "INFO:root:Test log message 153\n",
            "2025-05-14 03:59:49,006 - root - INFO - Test log message 153\n",
            "INFO:root:Test log message 154\n",
            "2025-05-14 03:59:49,007 - root - INFO - Test log message 154\n",
            "INFO:root:Test log message 155\n",
            "2025-05-14 03:59:49,007 - root - INFO - Test log message 155\n",
            "INFO:root:Test log message 156\n",
            "2025-05-14 03:59:49,008 - root - INFO - Test log message 156\n",
            "INFO:root:Test log message 157\n",
            "2025-05-14 03:59:49,008 - root - INFO - Test log message 157\n",
            "INFO:root:Test log message 158\n",
            "2025-05-14 03:59:49,009 - root - INFO - Test log message 158\n",
            "INFO:root:Test log message 159\n",
            "2025-05-14 03:59:49,010 - root - INFO - Test log message 159\n",
            "INFO:root:Test log message 160\n",
            "2025-05-14 03:59:49,010 - root - INFO - Test log message 160\n",
            "INFO:root:Test log message 161\n",
            "2025-05-14 03:59:49,011 - root - INFO - Test log message 161\n",
            "INFO:root:Test log message 162\n",
            "2025-05-14 03:59:49,011 - root - INFO - Test log message 162\n",
            "INFO:root:Test log message 163\n",
            "2025-05-14 03:59:49,012 - root - INFO - Test log message 163\n",
            "INFO:root:Test log message 164\n",
            "2025-05-14 03:59:49,013 - root - INFO - Test log message 164\n",
            "INFO:root:Test log message 165\n",
            "2025-05-14 03:59:49,014 - root - INFO - Test log message 165\n",
            "INFO:root:Test log message 166\n",
            "2025-05-14 03:59:49,015 - root - INFO - Test log message 166\n",
            "INFO:root:Test log message 167\n",
            "2025-05-14 03:59:49,016 - root - INFO - Test log message 167\n",
            "INFO:root:Test log message 168\n",
            "2025-05-14 03:59:49,017 - root - INFO - Test log message 168\n",
            "INFO:root:Test log message 169\n",
            "2025-05-14 03:59:49,018 - root - INFO - Test log message 169\n",
            "INFO:root:Test log message 170\n",
            "2025-05-14 03:59:49,019 - root - INFO - Test log message 170\n",
            "INFO:root:Test log message 171\n",
            "2025-05-14 03:59:49,019 - root - INFO - Test log message 171\n",
            "INFO:root:Test log message 172\n",
            "2025-05-14 03:59:49,020 - root - INFO - Test log message 172\n",
            "INFO:root:Test log message 173\n",
            "2025-05-14 03:59:49,021 - root - INFO - Test log message 173\n",
            "INFO:root:Test log message 174\n",
            "2025-05-14 03:59:49,021 - root - INFO - Test log message 174\n",
            "INFO:root:Test log message 175\n",
            "2025-05-14 03:59:49,022 - root - INFO - Test log message 175\n",
            "INFO:root:Test log message 176\n",
            "2025-05-14 03:59:49,023 - root - INFO - Test log message 176\n",
            "INFO:root:Test log message 177\n",
            "2025-05-14 03:59:49,023 - root - INFO - Test log message 177\n",
            "INFO:root:Test log message 178\n",
            "2025-05-14 03:59:49,024 - root - INFO - Test log message 178\n",
            "INFO:root:Test log message 179\n",
            "2025-05-14 03:59:49,025 - root - INFO - Test log message 179\n",
            "INFO:root:Test log message 180\n",
            "2025-05-14 03:59:49,026 - root - INFO - Test log message 180\n",
            "INFO:root:Test log message 181\n",
            "2025-05-14 03:59:49,027 - root - INFO - Test log message 181\n",
            "INFO:root:Test log message 182\n",
            "2025-05-14 03:59:49,027 - root - INFO - Test log message 182\n",
            "INFO:root:Test log message 183\n",
            "2025-05-14 03:59:49,028 - root - INFO - Test log message 183\n",
            "INFO:root:Test log message 184\n",
            "2025-05-14 03:59:49,029 - root - INFO - Test log message 184\n",
            "INFO:root:Test log message 185\n",
            "2025-05-14 03:59:49,029 - root - INFO - Test log message 185\n",
            "INFO:root:Test log message 186\n",
            "2025-05-14 03:59:49,030 - root - INFO - Test log message 186\n",
            "INFO:root:Test log message 187\n",
            "2025-05-14 03:59:49,031 - root - INFO - Test log message 187\n",
            "INFO:root:Test log message 188\n",
            "2025-05-14 03:59:49,031 - root - INFO - Test log message 188\n",
            "INFO:root:Test log message 189\n",
            "2025-05-14 03:59:49,032 - root - INFO - Test log message 189\n",
            "INFO:root:Test log message 190\n",
            "2025-05-14 03:59:49,032 - root - INFO - Test log message 190\n",
            "INFO:root:Test log message 191\n",
            "2025-05-14 03:59:49,033 - root - INFO - Test log message 191\n",
            "INFO:root:Test log message 192\n",
            "2025-05-14 03:59:49,033 - root - INFO - Test log message 192\n",
            "INFO:root:Test log message 193\n",
            "2025-05-14 03:59:49,034 - root - INFO - Test log message 193\n",
            "INFO:root:Test log message 194\n",
            "2025-05-14 03:59:49,035 - root - INFO - Test log message 194\n",
            "INFO:root:Test log message 195\n",
            "2025-05-14 03:59:49,035 - root - INFO - Test log message 195\n",
            "INFO:root:Test log message 196\n",
            "2025-05-14 03:59:49,036 - root - INFO - Test log message 196\n",
            "INFO:root:Test log message 197\n",
            "2025-05-14 03:59:49,037 - root - INFO - Test log message 197\n",
            "INFO:root:Test log message 198\n",
            "2025-05-14 03:59:49,038 - root - INFO - Test log message 198\n",
            "INFO:root:Test log message 199\n",
            "2025-05-14 03:59:49,038 - root - INFO - Test log message 199\n",
            "INFO:root:Test log message 200\n",
            "2025-05-14 03:59:49,039 - root - INFO - Test log message 200\n",
            "INFO:root:Test log message 201\n",
            "2025-05-14 03:59:49,040 - root - INFO - Test log message 201\n",
            "INFO:root:Test log message 202\n",
            "2025-05-14 03:59:49,041 - root - INFO - Test log message 202\n",
            "INFO:root:Test log message 203\n",
            "2025-05-14 03:59:49,042 - root - INFO - Test log message 203\n",
            "INFO:root:Test log message 204\n",
            "2025-05-14 03:59:49,042 - root - INFO - Test log message 204\n",
            "INFO:root:Test log message 205\n",
            "2025-05-14 03:59:49,043 - root - INFO - Test log message 205\n",
            "INFO:root:Test log message 206\n",
            "2025-05-14 03:59:49,043 - root - INFO - Test log message 206\n",
            "INFO:root:Test log message 207\n",
            "2025-05-14 03:59:49,044 - root - INFO - Test log message 207\n",
            "INFO:root:Test log message 208\n",
            "2025-05-14 03:59:49,045 - root - INFO - Test log message 208\n",
            "INFO:root:Test log message 209\n",
            "2025-05-14 03:59:49,045 - root - INFO - Test log message 209\n",
            "INFO:root:Test log message 210\n",
            "2025-05-14 03:59:49,046 - root - INFO - Test log message 210\n",
            "INFO:root:Test log message 211\n",
            "2025-05-14 03:59:49,046 - root - INFO - Test log message 211\n",
            "INFO:root:Test log message 212\n",
            "2025-05-14 03:59:49,047 - root - INFO - Test log message 212\n",
            "INFO:root:Test log message 213\n",
            "2025-05-14 03:59:49,048 - root - INFO - Test log message 213\n",
            "INFO:root:Test log message 214\n",
            "2025-05-14 03:59:49,048 - root - INFO - Test log message 214\n",
            "INFO:root:Test log message 215\n",
            "2025-05-14 03:59:49,049 - root - INFO - Test log message 215\n",
            "INFO:root:Test log message 216\n",
            "2025-05-14 03:59:49,050 - root - INFO - Test log message 216\n",
            "INFO:root:Test log message 217\n",
            "2025-05-14 03:59:49,051 - root - INFO - Test log message 217\n",
            "INFO:root:Test log message 218\n",
            "2025-05-14 03:59:49,052 - root - INFO - Test log message 218\n",
            "INFO:root:Test log message 219\n",
            "2025-05-14 03:59:49,052 - root - INFO - Test log message 219\n",
            "INFO:root:Test log message 220\n",
            "2025-05-14 03:59:49,053 - root - INFO - Test log message 220\n",
            "INFO:root:Test log message 221\n",
            "2025-05-14 03:59:49,054 - root - INFO - Test log message 221\n",
            "INFO:root:Test log message 222\n",
            "2025-05-14 03:59:49,055 - root - INFO - Test log message 222\n",
            "INFO:root:Test log message 223\n",
            "2025-05-14 03:59:49,056 - root - INFO - Test log message 223\n",
            "INFO:root:Test log message 224\n",
            "2025-05-14 03:59:49,056 - root - INFO - Test log message 224\n",
            "INFO:root:Test log message 225\n",
            "2025-05-14 03:59:49,057 - root - INFO - Test log message 225\n",
            "INFO:root:Test log message 226\n",
            "2025-05-14 03:59:49,058 - root - INFO - Test log message 226\n",
            "INFO:root:Test log message 227\n",
            "2025-05-14 03:59:49,058 - root - INFO - Test log message 227\n",
            "INFO:root:Test log message 228\n",
            "2025-05-14 03:59:49,059 - root - INFO - Test log message 228\n",
            "INFO:root:Test log message 229\n",
            "2025-05-14 03:59:49,059 - root - INFO - Test log message 229\n",
            "INFO:root:Test log message 230\n",
            "2025-05-14 03:59:49,060 - root - INFO - Test log message 230\n",
            "INFO:root:Test log message 231\n",
            "2025-05-14 03:59:49,061 - root - INFO - Test log message 231\n",
            "INFO:root:Test log message 232\n",
            "2025-05-14 03:59:49,061 - root - INFO - Test log message 232\n",
            "INFO:root:Test log message 233\n",
            "2025-05-14 03:59:49,062 - root - INFO - Test log message 233\n",
            "INFO:root:Test log message 234\n",
            "2025-05-14 03:59:49,063 - root - INFO - Test log message 234\n",
            "INFO:root:Test log message 235\n",
            "2025-05-14 03:59:49,063 - root - INFO - Test log message 235\n",
            "INFO:root:Test log message 236\n",
            "2025-05-14 03:59:49,064 - root - INFO - Test log message 236\n",
            "INFO:root:Test log message 237\n",
            "2025-05-14 03:59:49,065 - root - INFO - Test log message 237\n",
            "INFO:root:Test log message 238\n",
            "2025-05-14 03:59:49,066 - root - INFO - Test log message 238\n",
            "INFO:root:Test log message 239\n",
            "2025-05-14 03:59:49,067 - root - INFO - Test log message 239\n",
            "INFO:root:Test log message 240\n",
            "2025-05-14 03:59:49,068 - root - INFO - Test log message 240\n",
            "INFO:root:Test log message 241\n",
            "2025-05-14 03:59:49,068 - root - INFO - Test log message 241\n",
            "INFO:root:Test log message 242\n",
            "2025-05-14 03:59:49,069 - root - INFO - Test log message 242\n",
            "INFO:root:Test log message 243\n",
            "2025-05-14 03:59:49,070 - root - INFO - Test log message 243\n",
            "INFO:root:Test log message 244\n",
            "2025-05-14 03:59:49,071 - root - INFO - Test log message 244\n",
            "INFO:root:Test log message 245\n",
            "2025-05-14 03:59:49,071 - root - INFO - Test log message 245\n",
            "INFO:root:Test log message 246\n",
            "2025-05-14 03:59:49,072 - root - INFO - Test log message 246\n",
            "INFO:root:Test log message 247\n",
            "2025-05-14 03:59:49,073 - root - INFO - Test log message 247\n",
            "INFO:root:Test log message 248\n",
            "2025-05-14 03:59:49,073 - root - INFO - Test log message 248\n",
            "INFO:root:Test log message 249\n",
            "2025-05-14 03:59:49,074 - root - INFO - Test log message 249\n",
            "INFO:root:Test log message 250\n",
            "2025-05-14 03:59:49,074 - root - INFO - Test log message 250\n",
            "INFO:root:Test log message 251\n",
            "2025-05-14 03:59:49,075 - root - INFO - Test log message 251\n",
            "INFO:root:Test log message 252\n",
            "2025-05-14 03:59:49,076 - root - INFO - Test log message 252\n",
            "INFO:root:Test log message 253\n",
            "2025-05-14 03:59:49,076 - root - INFO - Test log message 253\n",
            "INFO:root:Test log message 254\n",
            "2025-05-14 03:59:49,077 - root - INFO - Test log message 254\n",
            "INFO:root:Test log message 255\n",
            "2025-05-14 03:59:49,077 - root - INFO - Test log message 255\n",
            "INFO:root:Test log message 256\n",
            "2025-05-14 03:59:49,078 - root - INFO - Test log message 256\n",
            "INFO:root:Test log message 257\n",
            "2025-05-14 03:59:49,079 - root - INFO - Test log message 257\n",
            "INFO:root:Test log message 258\n",
            "2025-05-14 03:59:49,079 - root - INFO - Test log message 258\n",
            "INFO:root:Test log message 259\n",
            "2025-05-14 03:59:49,080 - root - INFO - Test log message 259\n",
            "INFO:root:Test log message 260\n",
            "2025-05-14 03:59:49,081 - root - INFO - Test log message 260\n",
            "INFO:root:Test log message 261\n",
            "2025-05-14 03:59:49,081 - root - INFO - Test log message 261\n",
            "INFO:root:Test log message 262\n",
            "2025-05-14 03:59:49,082 - root - INFO - Test log message 262\n",
            "INFO:root:Test log message 263\n",
            "2025-05-14 03:59:49,083 - root - INFO - Test log message 263\n",
            "INFO:root:Test log message 264\n",
            "2025-05-14 03:59:49,084 - root - INFO - Test log message 264\n",
            "INFO:root:Test log message 265\n",
            "2025-05-14 03:59:49,084 - root - INFO - Test log message 265\n",
            "INFO:root:Test log message 266\n",
            "2025-05-14 03:59:49,085 - root - INFO - Test log message 266\n",
            "INFO:root:Test log message 267\n",
            "2025-05-14 03:59:49,085 - root - INFO - Test log message 267\n",
            "INFO:root:Test log message 268\n",
            "2025-05-14 03:59:49,086 - root - INFO - Test log message 268\n",
            "INFO:root:Test log message 269\n",
            "2025-05-14 03:59:49,087 - root - INFO - Test log message 269\n",
            "INFO:root:Test log message 270\n",
            "2025-05-14 03:59:49,087 - root - INFO - Test log message 270\n",
            "INFO:root:Test log message 271\n",
            "2025-05-14 03:59:49,088 - root - INFO - Test log message 271\n",
            "INFO:root:Test log message 272\n",
            "2025-05-14 03:59:49,088 - root - INFO - Test log message 272\n",
            "INFO:root:Test log message 273\n",
            "2025-05-14 03:59:49,089 - root - INFO - Test log message 273\n",
            "INFO:root:Test log message 274\n",
            "2025-05-14 03:59:49,090 - root - INFO - Test log message 274\n",
            "INFO:root:Test log message 275\n",
            "2025-05-14 03:59:49,090 - root - INFO - Test log message 275\n",
            "INFO:root:Test log message 276\n",
            "2025-05-14 03:59:49,091 - root - INFO - Test log message 276\n",
            "INFO:root:Test log message 277\n",
            "2025-05-14 03:59:49,092 - root - INFO - Test log message 277\n",
            "INFO:root:Test log message 278\n",
            "2025-05-14 03:59:49,093 - root - INFO - Test log message 278\n",
            "INFO:root:Test log message 279\n",
            "2025-05-14 03:59:49,094 - root - INFO - Test log message 279\n",
            "INFO:root:Test log message 280\n",
            "2025-05-14 03:59:49,095 - root - INFO - Test log message 280\n",
            "INFO:root:Test log message 281\n",
            "2025-05-14 03:59:49,096 - root - INFO - Test log message 281\n",
            "INFO:root:Test log message 282\n",
            "2025-05-14 03:59:49,097 - root - INFO - Test log message 282\n",
            "INFO:root:Test log message 283\n",
            "2025-05-14 03:59:49,097 - root - INFO - Test log message 283\n",
            "INFO:root:Test log message 284\n",
            "2025-05-14 03:59:49,098 - root - INFO - Test log message 284\n",
            "INFO:root:Test log message 285\n",
            "2025-05-14 03:59:49,099 - root - INFO - Test log message 285\n",
            "INFO:root:Test log message 286\n",
            "2025-05-14 03:59:49,099 - root - INFO - Test log message 286\n",
            "INFO:root:Test log message 287\n",
            "2025-05-14 03:59:49,100 - root - INFO - Test log message 287\n",
            "INFO:root:Test log message 288\n",
            "2025-05-14 03:59:49,101 - root - INFO - Test log message 288\n",
            "INFO:root:Test log message 289\n",
            "2025-05-14 03:59:49,101 - root - INFO - Test log message 289\n",
            "INFO:root:Test log message 290\n",
            "2025-05-14 03:59:49,102 - root - INFO - Test log message 290\n",
            "INFO:root:Test log message 291\n",
            "2025-05-14 03:59:49,102 - root - INFO - Test log message 291\n",
            "INFO:root:Test log message 292\n",
            "2025-05-14 03:59:49,103 - root - INFO - Test log message 292\n",
            "INFO:root:Test log message 293\n",
            "2025-05-14 03:59:49,104 - root - INFO - Test log message 293\n",
            "INFO:root:Test log message 294\n",
            "2025-05-14 03:59:49,105 - root - INFO - Test log message 294\n",
            "INFO:root:Test log message 295\n",
            "2025-05-14 03:59:49,106 - root - INFO - Test log message 295\n",
            "INFO:root:Test log message 296\n",
            "2025-05-14 03:59:49,106 - root - INFO - Test log message 296\n",
            "INFO:root:Test log message 297\n",
            "2025-05-14 03:59:49,107 - root - INFO - Test log message 297\n",
            "INFO:root:Test log message 298\n",
            "2025-05-14 03:59:49,108 - root - INFO - Test log message 298\n",
            "INFO:root:Test log message 299\n",
            "2025-05-14 03:59:49,109 - root - INFO - Test log message 299\n",
            "INFO:root:Test log message 300\n",
            "2025-05-14 03:59:49,110 - root - INFO - Test log message 300\n",
            "INFO:root:Test log message 301\n",
            "2025-05-14 03:59:49,111 - root - INFO - Test log message 301\n",
            "INFO:root:Test log message 302\n",
            "2025-05-14 03:59:49,112 - root - INFO - Test log message 302\n",
            "INFO:root:Test log message 303\n",
            "2025-05-14 03:59:49,112 - root - INFO - Test log message 303\n",
            "INFO:root:Test log message 304\n",
            "2025-05-14 03:59:49,113 - root - INFO - Test log message 304\n",
            "INFO:root:Test log message 305\n",
            "2025-05-14 03:59:49,113 - root - INFO - Test log message 305\n",
            "INFO:root:Test log message 306\n",
            "2025-05-14 03:59:49,114 - root - INFO - Test log message 306\n",
            "INFO:root:Test log message 307\n",
            "2025-05-14 03:59:49,115 - root - INFO - Test log message 307\n",
            "INFO:root:Test log message 308\n",
            "2025-05-14 03:59:49,115 - root - INFO - Test log message 308\n",
            "INFO:root:Test log message 309\n",
            "2025-05-14 03:59:49,116 - root - INFO - Test log message 309\n",
            "INFO:root:Test log message 310\n",
            "2025-05-14 03:59:49,116 - root - INFO - Test log message 310\n",
            "INFO:root:Test log message 311\n",
            "2025-05-14 03:59:49,117 - root - INFO - Test log message 311\n",
            "INFO:root:Test log message 312\n",
            "2025-05-14 03:59:49,118 - root - INFO - Test log message 312\n",
            "INFO:root:Test log message 313\n",
            "2025-05-14 03:59:49,119 - root - INFO - Test log message 313\n",
            "INFO:root:Test log message 314\n",
            "2025-05-14 03:59:49,119 - root - INFO - Test log message 314\n",
            "INFO:root:Test log message 315\n",
            "2025-05-14 03:59:49,120 - root - INFO - Test log message 315\n",
            "INFO:root:Test log message 316\n",
            "2025-05-14 03:59:49,121 - root - INFO - Test log message 316\n",
            "INFO:root:Test log message 317\n",
            "2025-05-14 03:59:49,122 - root - INFO - Test log message 317\n",
            "INFO:root:Test log message 318\n",
            "2025-05-14 03:59:49,123 - root - INFO - Test log message 318\n",
            "INFO:root:Test log message 319\n",
            "2025-05-14 03:59:49,124 - root - INFO - Test log message 319\n",
            "INFO:root:Test log message 320\n",
            "2025-05-14 03:59:49,125 - root - INFO - Test log message 320\n",
            "INFO:root:Test log message 321\n",
            "2025-05-14 03:59:49,125 - root - INFO - Test log message 321\n",
            "INFO:root:Test log message 322\n",
            "2025-05-14 03:59:49,126 - root - INFO - Test log message 322\n",
            "INFO:root:Test log message 323\n",
            "2025-05-14 03:59:49,127 - root - INFO - Test log message 323\n",
            "INFO:root:Test log message 324\n",
            "2025-05-14 03:59:49,128 - root - INFO - Test log message 324\n",
            "INFO:root:Test log message 325\n",
            "2025-05-14 03:59:49,129 - root - INFO - Test log message 325\n",
            "INFO:root:Test log message 326\n",
            "2025-05-14 03:59:49,130 - root - INFO - Test log message 326\n",
            "INFO:root:Test log message 327\n",
            "2025-05-14 03:59:49,130 - root - INFO - Test log message 327\n",
            "INFO:root:Test log message 328\n",
            "2025-05-14 03:59:49,131 - root - INFO - Test log message 328\n",
            "INFO:root:Test log message 329\n",
            "2025-05-14 03:59:49,132 - root - INFO - Test log message 329\n",
            "INFO:root:Test log message 330\n",
            "2025-05-14 03:59:49,133 - root - INFO - Test log message 330\n",
            "INFO:root:Test log message 331\n",
            "2025-05-14 03:59:49,134 - root - INFO - Test log message 331\n",
            "INFO:root:Test log message 332\n",
            "2025-05-14 03:59:49,134 - root - INFO - Test log message 332\n",
            "INFO:root:Test log message 333\n",
            "2025-05-14 03:59:49,135 - root - INFO - Test log message 333\n",
            "INFO:root:Test log message 334\n",
            "2025-05-14 03:59:49,136 - root - INFO - Test log message 334\n",
            "INFO:root:Test log message 335\n",
            "2025-05-14 03:59:49,137 - root - INFO - Test log message 335\n",
            "INFO:root:Test log message 336\n",
            "2025-05-14 03:59:49,139 - root - INFO - Test log message 336\n",
            "INFO:root:Test log message 337\n",
            "2025-05-14 03:59:49,140 - root - INFO - Test log message 337\n",
            "INFO:root:Test log message 338\n",
            "2025-05-14 03:59:49,141 - root - INFO - Test log message 338\n",
            "INFO:root:Test log message 339\n",
            "2025-05-14 03:59:49,145 - root - INFO - Test log message 339\n",
            "INFO:root:Test log message 340\n",
            "2025-05-14 03:59:49,146 - root - INFO - Test log message 340\n",
            "INFO:root:Test log message 341\n",
            "2025-05-14 03:59:49,146 - root - INFO - Test log message 341\n",
            "INFO:root:Test log message 342\n",
            "2025-05-14 03:59:49,147 - root - INFO - Test log message 342\n",
            "INFO:root:Test log message 343\n",
            "2025-05-14 03:59:49,149 - root - INFO - Test log message 343\n",
            "INFO:root:Test log message 344\n",
            "2025-05-14 03:59:49,150 - root - INFO - Test log message 344\n",
            "INFO:root:Test log message 345\n",
            "2025-05-14 03:59:49,152 - root - INFO - Test log message 345\n",
            "INFO:root:Test log message 346\n",
            "2025-05-14 03:59:49,153 - root - INFO - Test log message 346\n",
            "INFO:root:Test log message 347\n",
            "2025-05-14 03:59:49,154 - root - INFO - Test log message 347\n",
            "INFO:root:Test log message 348\n",
            "2025-05-14 03:59:49,155 - root - INFO - Test log message 348\n",
            "INFO:root:Test log message 349\n",
            "2025-05-14 03:59:49,155 - root - INFO - Test log message 349\n",
            "INFO:root:Test log message 350\n",
            "2025-05-14 03:59:49,156 - root - INFO - Test log message 350\n",
            "INFO:root:Test log message 351\n",
            "2025-05-14 03:59:49,157 - root - INFO - Test log message 351\n",
            "INFO:root:Test log message 352\n",
            "2025-05-14 03:59:49,160 - root - INFO - Test log message 352\n",
            "INFO:root:Test log message 353\n",
            "2025-05-14 03:59:49,161 - root - INFO - Test log message 353\n",
            "INFO:root:Test log message 354\n",
            "2025-05-14 03:59:49,162 - root - INFO - Test log message 354\n",
            "INFO:root:Test log message 355\n",
            "2025-05-14 03:59:49,163 - root - INFO - Test log message 355\n",
            "INFO:root:Test log message 356\n",
            "2025-05-14 03:59:49,163 - root - INFO - Test log message 356\n",
            "INFO:root:Test log message 357\n",
            "2025-05-14 03:59:49,166 - root - INFO - Test log message 357\n",
            "INFO:root:Test log message 358\n",
            "2025-05-14 03:59:49,167 - root - INFO - Test log message 358\n",
            "INFO:root:Test log message 359\n",
            "2025-05-14 03:59:49,168 - root - INFO - Test log message 359\n",
            "INFO:root:Test log message 360\n",
            "2025-05-14 03:59:49,169 - root - INFO - Test log message 360\n",
            "INFO:root:Test log message 361\n",
            "2025-05-14 03:59:49,169 - root - INFO - Test log message 361\n",
            "INFO:root:Test log message 362\n",
            "2025-05-14 03:59:49,170 - root - INFO - Test log message 362\n",
            "INFO:root:Test log message 363\n",
            "2025-05-14 03:59:49,171 - root - INFO - Test log message 363\n",
            "INFO:root:Test log message 364\n",
            "2025-05-14 03:59:49,172 - root - INFO - Test log message 364\n",
            "INFO:root:Test log message 365\n",
            "2025-05-14 03:59:49,175 - root - INFO - Test log message 365\n",
            "INFO:root:Test log message 366\n",
            "2025-05-14 03:59:49,176 - root - INFO - Test log message 366\n",
            "INFO:root:Test log message 367\n",
            "2025-05-14 03:59:49,177 - root - INFO - Test log message 367\n",
            "INFO:root:Test log message 368\n",
            "2025-05-14 03:59:49,177 - root - INFO - Test log message 368\n",
            "INFO:root:Test log message 369\n",
            "2025-05-14 03:59:49,178 - root - INFO - Test log message 369\n",
            "INFO:root:Test log message 370\n",
            "2025-05-14 03:59:49,178 - root - INFO - Test log message 370\n",
            "INFO:root:Test log message 371\n",
            "2025-05-14 03:59:49,179 - root - INFO - Test log message 371\n",
            "INFO:root:Test log message 372\n",
            "2025-05-14 03:59:49,180 - root - INFO - Test log message 372\n",
            "INFO:root:Test log message 373\n",
            "2025-05-14 03:59:49,180 - root - INFO - Test log message 373\n",
            "INFO:root:Test log message 374\n",
            "2025-05-14 03:59:49,181 - root - INFO - Test log message 374\n",
            "INFO:root:Test log message 375\n",
            "2025-05-14 03:59:49,185 - root - INFO - Test log message 375\n",
            "INFO:root:Test log message 376\n",
            "2025-05-14 03:59:49,186 - root - INFO - Test log message 376\n",
            "INFO:root:Test log message 377\n",
            "2025-05-14 03:59:49,186 - root - INFO - Test log message 377\n",
            "INFO:root:Test log message 378\n",
            "2025-05-14 03:59:49,187 - root - INFO - Test log message 378\n",
            "INFO:root:Test log message 379\n",
            "2025-05-14 03:59:49,188 - root - INFO - Test log message 379\n",
            "INFO:root:Test log message 380\n",
            "2025-05-14 03:59:49,189 - root - INFO - Test log message 380\n",
            "INFO:root:Test log message 381\n",
            "2025-05-14 03:59:49,189 - root - INFO - Test log message 381\n",
            "INFO:root:Test log message 382\n",
            "2025-05-14 03:59:49,190 - root - INFO - Test log message 382\n",
            "INFO:root:Test log message 383\n",
            "2025-05-14 03:59:49,192 - root - INFO - Test log message 383\n",
            "INFO:root:Test log message 384\n",
            "2025-05-14 03:59:49,194 - root - INFO - Test log message 384\n",
            "INFO:root:Test log message 385\n",
            "2025-05-14 03:59:49,195 - root - INFO - Test log message 385\n",
            "INFO:root:Test log message 386\n",
            "2025-05-14 03:59:49,195 - root - INFO - Test log message 386\n",
            "INFO:root:Test log message 387\n",
            "2025-05-14 03:59:49,196 - root - INFO - Test log message 387\n",
            "INFO:root:Test log message 388\n",
            "2025-05-14 03:59:49,197 - root - INFO - Test log message 388\n",
            "INFO:root:Test log message 389\n",
            "2025-05-14 03:59:49,197 - root - INFO - Test log message 389\n",
            "INFO:root:Test log message 390\n",
            "2025-05-14 03:59:49,198 - root - INFO - Test log message 390\n",
            "INFO:root:Test log message 391\n",
            "2025-05-14 03:59:49,199 - root - INFO - Test log message 391\n",
            "INFO:root:Test log message 392\n",
            "2025-05-14 03:59:49,199 - root - INFO - Test log message 392\n",
            "INFO:root:Test log message 393\n",
            "2025-05-14 03:59:49,200 - root - INFO - Test log message 393\n",
            "INFO:root:Test log message 394\n",
            "2025-05-14 03:59:49,201 - root - INFO - Test log message 394\n",
            "INFO:root:Test log message 395\n",
            "2025-05-14 03:59:49,204 - root - INFO - Test log message 395\n",
            "INFO:root:Test log message 396\n",
            "2025-05-14 03:59:49,205 - root - INFO - Test log message 396\n",
            "INFO:root:Test log message 397\n",
            "2025-05-14 03:59:49,206 - root - INFO - Test log message 397\n",
            "INFO:root:Test log message 398\n",
            "2025-05-14 03:59:49,207 - root - INFO - Test log message 398\n",
            "INFO:root:Test log message 399\n",
            "2025-05-14 03:59:49,207 - root - INFO - Test log message 399\n",
            "INFO:root:Test log message 400\n",
            "2025-05-14 03:59:49,208 - root - INFO - Test log message 400\n",
            "INFO:root:Test log message 401\n",
            "2025-05-14 03:59:49,209 - root - INFO - Test log message 401\n",
            "INFO:root:Test log message 402\n",
            "2025-05-14 03:59:49,209 - root - INFO - Test log message 402\n",
            "INFO:root:Test log message 403\n",
            "2025-05-14 03:59:49,210 - root - INFO - Test log message 403\n",
            "INFO:root:Test log message 404\n",
            "2025-05-14 03:59:49,211 - root - INFO - Test log message 404\n",
            "INFO:root:Test log message 405\n",
            "2025-05-14 03:59:49,211 - root - INFO - Test log message 405\n",
            "INFO:root:Test log message 406\n",
            "2025-05-14 03:59:49,212 - root - INFO - Test log message 406\n",
            "INFO:root:Test log message 407\n",
            "2025-05-14 03:59:49,214 - root - INFO - Test log message 407\n",
            "INFO:root:Test log message 408\n",
            "2025-05-14 03:59:49,215 - root - INFO - Test log message 408\n",
            "INFO:root:Test log message 409\n",
            "2025-05-14 03:59:49,219 - root - INFO - Test log message 409\n",
            "INFO:root:Test log message 410\n",
            "2025-05-14 03:59:49,220 - root - INFO - Test log message 410\n",
            "INFO:root:Test log message 411\n",
            "2025-05-14 03:59:49,221 - root - INFO - Test log message 411\n",
            "INFO:root:Test log message 412\n",
            "2025-05-14 03:59:49,222 - root - INFO - Test log message 412\n",
            "INFO:root:Test log message 413\n",
            "2025-05-14 03:59:49,222 - root - INFO - Test log message 413\n",
            "INFO:root:Test log message 414\n",
            "2025-05-14 03:59:49,223 - root - INFO - Test log message 414\n",
            "INFO:root:Test log message 415\n",
            "2025-05-14 03:59:49,224 - root - INFO - Test log message 415\n",
            "INFO:root:Test log message 416\n",
            "2025-05-14 03:59:49,224 - root - INFO - Test log message 416\n",
            "INFO:root:Test log message 417\n",
            "2025-05-14 03:59:49,225 - root - INFO - Test log message 417\n",
            "INFO:root:Test log message 418\n",
            "2025-05-14 03:59:49,225 - root - INFO - Test log message 418\n",
            "INFO:root:Test log message 419\n",
            "2025-05-14 03:59:49,226 - root - INFO - Test log message 419\n",
            "INFO:root:Test log message 420\n",
            "2025-05-14 03:59:49,227 - root - INFO - Test log message 420\n",
            "INFO:root:Test log message 421\n",
            "2025-05-14 03:59:49,227 - root - INFO - Test log message 421\n",
            "INFO:root:Test log message 422\n",
            "2025-05-14 03:59:49,228 - root - INFO - Test log message 422\n",
            "INFO:root:Test log message 423\n",
            "2025-05-14 03:59:49,231 - root - INFO - Test log message 423\n",
            "INFO:root:Test log message 424\n",
            "2025-05-14 03:59:49,232 - root - INFO - Test log message 424\n",
            "INFO:root:Test log message 425\n",
            "2025-05-14 03:59:49,234 - root - INFO - Test log message 425\n",
            "INFO:root:Test log message 426\n",
            "2025-05-14 03:59:49,234 - root - INFO - Test log message 426\n",
            "INFO:root:Test log message 427\n",
            "2025-05-14 03:59:49,235 - root - INFO - Test log message 427\n",
            "INFO:root:Test log message 428\n",
            "2025-05-14 03:59:49,235 - root - INFO - Test log message 428\n",
            "INFO:root:Test log message 429\n",
            "2025-05-14 03:59:49,236 - root - INFO - Test log message 429\n",
            "INFO:root:Test log message 430\n",
            "2025-05-14 03:59:49,237 - root - INFO - Test log message 430\n",
            "INFO:root:Test log message 431\n",
            "2025-05-14 03:59:49,237 - root - INFO - Test log message 431\n",
            "INFO:root:Test log message 432\n",
            "2025-05-14 03:59:49,241 - root - INFO - Test log message 432\n",
            "INFO:root:Test log message 433\n",
            "2025-05-14 03:59:49,241 - root - INFO - Test log message 433\n",
            "INFO:root:Test log message 434\n",
            "2025-05-14 03:59:49,242 - root - INFO - Test log message 434\n",
            "INFO:root:Test log message 435\n",
            "2025-05-14 03:59:49,243 - root - INFO - Test log message 435\n",
            "INFO:root:Test log message 436\n",
            "2025-05-14 03:59:49,245 - root - INFO - Test log message 436\n",
            "INFO:root:Test log message 437\n",
            "2025-05-14 03:59:49,245 - root - INFO - Test log message 437\n",
            "INFO:root:Test log message 438\n",
            "2025-05-14 03:59:49,246 - root - INFO - Test log message 438\n",
            "INFO:root:Test log message 439\n",
            "2025-05-14 03:59:49,247 - root - INFO - Test log message 439\n",
            "INFO:root:Test log message 440\n",
            "2025-05-14 03:59:49,249 - root - INFO - Test log message 440\n",
            "INFO:root:Test log message 441\n",
            "2025-05-14 03:59:49,250 - root - INFO - Test log message 441\n",
            "INFO:root:Test log message 442\n",
            "2025-05-14 03:59:49,250 - root - INFO - Test log message 442\n",
            "INFO:root:Test log message 443\n",
            "2025-05-14 03:59:49,251 - root - INFO - Test log message 443\n",
            "INFO:root:Test log message 444\n",
            "2025-05-14 03:59:49,252 - root - INFO - Test log message 444\n",
            "INFO:root:Test log message 445\n",
            "2025-05-14 03:59:49,255 - root - INFO - Test log message 445\n",
            "INFO:root:Test log message 446\n",
            "2025-05-14 03:59:49,256 - root - INFO - Test log message 446\n",
            "INFO:root:Test log message 447\n",
            "2025-05-14 03:59:49,258 - root - INFO - Test log message 447\n",
            "INFO:root:Test log message 448\n",
            "2025-05-14 03:59:49,260 - root - INFO - Test log message 448\n",
            "INFO:root:Test log message 449\n",
            "2025-05-14 03:59:49,261 - root - INFO - Test log message 449\n",
            "INFO:root:Test log message 450\n",
            "2025-05-14 03:59:49,262 - root - INFO - Test log message 450\n",
            "INFO:root:Test log message 451\n",
            "2025-05-14 03:59:49,263 - root - INFO - Test log message 451\n",
            "INFO:root:Test log message 452\n",
            "2025-05-14 03:59:49,264 - root - INFO - Test log message 452\n",
            "INFO:root:Test log message 453\n",
            "2025-05-14 03:59:49,275 - root - INFO - Test log message 453\n",
            "INFO:root:Test log message 454\n",
            "2025-05-14 03:59:49,277 - root - INFO - Test log message 454\n",
            "INFO:root:Test log message 455\n",
            "2025-05-14 03:59:49,284 - root - INFO - Test log message 455\n",
            "INFO:root:Test log message 456\n",
            "2025-05-14 03:59:49,285 - root - INFO - Test log message 456\n",
            "INFO:root:Test log message 457\n",
            "2025-05-14 03:59:49,287 - root - INFO - Test log message 457\n",
            "INFO:root:Test log message 458\n",
            "2025-05-14 03:59:49,288 - root - INFO - Test log message 458\n",
            "INFO:root:Test log message 459\n",
            "2025-05-14 03:59:49,289 - root - INFO - Test log message 459\n",
            "INFO:root:Test log message 460\n",
            "2025-05-14 03:59:49,304 - root - INFO - Test log message 460\n",
            "INFO:root:Test log message 461\n",
            "2025-05-14 03:59:49,305 - root - INFO - Test log message 461\n",
            "INFO:root:Test log message 462\n",
            "2025-05-14 03:59:49,306 - root - INFO - Test log message 462\n",
            "INFO:root:Test log message 463\n",
            "2025-05-14 03:59:49,307 - root - INFO - Test log message 463\n",
            "INFO:root:Test log message 464\n",
            "2025-05-14 03:59:49,307 - root - INFO - Test log message 464\n",
            "INFO:root:Test log message 465\n",
            "2025-05-14 03:59:49,308 - root - INFO - Test log message 465\n",
            "INFO:root:Test log message 466\n",
            "2025-05-14 03:59:49,309 - root - INFO - Test log message 466\n",
            "INFO:root:Test log message 467\n",
            "2025-05-14 03:59:49,310 - root - INFO - Test log message 467\n",
            "INFO:root:Test log message 468\n",
            "2025-05-14 03:59:49,311 - root - INFO - Test log message 468\n",
            "INFO:root:Test log message 469\n",
            "2025-05-14 03:59:49,312 - root - INFO - Test log message 469\n",
            "INFO:root:Test log message 470\n",
            "2025-05-14 03:59:49,312 - root - INFO - Test log message 470\n",
            "INFO:root:Test log message 471\n",
            "2025-05-14 03:59:49,313 - root - INFO - Test log message 471\n",
            "INFO:root:Test log message 472\n",
            "2025-05-14 03:59:49,314 - root - INFO - Test log message 472\n",
            "INFO:root:Test log message 473\n",
            "2025-05-14 03:59:49,315 - root - INFO - Test log message 473\n",
            "INFO:root:Test log message 474\n",
            "2025-05-14 03:59:49,318 - root - INFO - Test log message 474\n",
            "INFO:root:Test log message 475\n",
            "2025-05-14 03:59:49,319 - root - INFO - Test log message 475\n",
            "INFO:root:Test log message 476\n",
            "2025-05-14 03:59:49,320 - root - INFO - Test log message 476\n",
            "INFO:root:Test log message 477\n",
            "2025-05-14 03:59:49,320 - root - INFO - Test log message 477\n",
            "INFO:root:Test log message 478\n",
            "2025-05-14 03:59:49,321 - root - INFO - Test log message 478\n",
            "INFO:root:Test log message 479\n",
            "2025-05-14 03:59:49,322 - root - INFO - Test log message 479\n",
            "INFO:root:Test log message 480\n",
            "2025-05-14 03:59:49,326 - root - INFO - Test log message 480\n",
            "INFO:root:Test log message 481\n",
            "2025-05-14 03:59:49,327 - root - INFO - Test log message 481\n",
            "INFO:root:Test log message 482\n",
            "2025-05-14 03:59:49,327 - root - INFO - Test log message 482\n",
            "INFO:root:Test log message 483\n",
            "2025-05-14 03:59:49,328 - root - INFO - Test log message 483\n",
            "INFO:root:Test log message 484\n",
            "2025-05-14 03:59:49,329 - root - INFO - Test log message 484\n",
            "INFO:root:Test log message 485\n",
            "2025-05-14 03:59:49,330 - root - INFO - Test log message 485\n",
            "INFO:root:Test log message 486\n",
            "2025-05-14 03:59:49,331 - root - INFO - Test log message 486\n",
            "INFO:root:Test log message 487\n",
            "2025-05-14 03:59:49,331 - root - INFO - Test log message 487\n",
            "INFO:root:Test log message 488\n",
            "2025-05-14 03:59:49,332 - root - INFO - Test log message 488\n",
            "INFO:root:Test log message 489\n",
            "2025-05-14 03:59:49,336 - root - INFO - Test log message 489\n",
            "INFO:root:Test log message 490\n",
            "2025-05-14 03:59:49,337 - root - INFO - Test log message 490\n",
            "INFO:root:Test log message 491\n",
            "2025-05-14 03:59:49,338 - root - INFO - Test log message 491\n",
            "INFO:root:Test log message 492\n",
            "2025-05-14 03:59:49,339 - root - INFO - Test log message 492\n",
            "INFO:root:Test log message 493\n",
            "2025-05-14 03:59:49,340 - root - INFO - Test log message 493\n",
            "INFO:root:Test log message 494\n",
            "2025-05-14 03:59:49,341 - root - INFO - Test log message 494\n",
            "INFO:root:Test log message 495\n",
            "2025-05-14 03:59:49,341 - root - INFO - Test log message 495\n",
            "INFO:root:Test log message 496\n",
            "2025-05-14 03:59:49,342 - root - INFO - Test log message 496\n",
            "INFO:root:Test log message 497\n",
            "2025-05-14 03:59:49,343 - root - INFO - Test log message 497\n",
            "INFO:root:Test log message 498\n",
            "2025-05-14 03:59:49,344 - root - INFO - Test log message 498\n",
            "INFO:root:Test log message 499\n",
            "2025-05-14 03:59:49,345 - root - INFO - Test log message 499\n",
            "INFO:root:Test log message 500\n",
            "2025-05-14 03:59:49,349 - root - INFO - Test log message 500\n",
            "INFO:root:Test log message 501\n",
            "2025-05-14 03:59:49,350 - root - INFO - Test log message 501\n",
            "INFO:root:Test log message 502\n",
            "2025-05-14 03:59:49,350 - root - INFO - Test log message 502\n",
            "INFO:root:Test log message 503\n",
            "2025-05-14 03:59:49,351 - root - INFO - Test log message 503\n",
            "INFO:root:Test log message 504\n",
            "2025-05-14 03:59:49,352 - root - INFO - Test log message 504\n",
            "INFO:root:Test log message 505\n",
            "2025-05-14 03:59:49,353 - root - INFO - Test log message 505\n",
            "INFO:root:Test log message 506\n",
            "2025-05-14 03:59:49,354 - root - INFO - Test log message 506\n",
            "INFO:root:Test log message 507\n",
            "2025-05-14 03:59:49,354 - root - INFO - Test log message 507\n",
            "INFO:root:Test log message 508\n",
            "2025-05-14 03:59:49,356 - root - INFO - Test log message 508\n",
            "INFO:root:Test log message 509\n",
            "2025-05-14 03:59:49,357 - root - INFO - Test log message 509\n",
            "INFO:root:Test log message 510\n",
            "2025-05-14 03:59:49,360 - root - INFO - Test log message 510\n",
            "INFO:root:Test log message 511\n",
            "2025-05-14 03:59:49,361 - root - INFO - Test log message 511\n",
            "INFO:root:Test log message 512\n",
            "2025-05-14 03:59:49,361 - root - INFO - Test log message 512\n",
            "INFO:root:Test log message 513\n",
            "2025-05-14 03:59:49,362 - root - INFO - Test log message 513\n",
            "INFO:root:Test log message 514\n",
            "2025-05-14 03:59:49,366 - root - INFO - Test log message 514\n",
            "INFO:root:Test log message 515\n",
            "2025-05-14 03:59:49,367 - root - INFO - Test log message 515\n",
            "INFO:root:Test log message 516\n",
            "2025-05-14 03:59:49,368 - root - INFO - Test log message 516\n",
            "INFO:root:Test log message 517\n",
            "2025-05-14 03:59:49,369 - root - INFO - Test log message 517\n",
            "INFO:root:Test log message 518\n",
            "2025-05-14 03:59:49,370 - root - INFO - Test log message 518\n",
            "INFO:root:Test log message 519\n",
            "2025-05-14 03:59:49,371 - root - INFO - Test log message 519\n",
            "INFO:root:Test log message 520\n",
            "2025-05-14 03:59:49,371 - root - INFO - Test log message 520\n",
            "INFO:root:Test log message 521\n",
            "2025-05-14 03:59:49,372 - root - INFO - Test log message 521\n",
            "INFO:root:Test log message 522\n",
            "2025-05-14 03:59:49,373 - root - INFO - Test log message 522\n",
            "INFO:root:Test log message 523\n",
            "2025-05-14 03:59:49,374 - root - INFO - Test log message 523\n",
            "INFO:root:Test log message 524\n",
            "2025-05-14 03:59:49,377 - root - INFO - Test log message 524\n",
            "INFO:root:Test log message 525\n",
            "2025-05-14 03:59:49,377 - root - INFO - Test log message 525\n",
            "INFO:root:Test log message 526\n",
            "2025-05-14 03:59:49,378 - root - INFO - Test log message 526\n",
            "INFO:root:Test log message 527\n",
            "2025-05-14 03:59:49,379 - root - INFO - Test log message 527\n",
            "INFO:root:Test log message 528\n",
            "2025-05-14 03:59:49,380 - root - INFO - Test log message 528\n",
            "INFO:root:Test log message 529\n",
            "2025-05-14 03:59:49,382 - root - INFO - Test log message 529\n",
            "INFO:root:Test log message 530\n",
            "2025-05-14 03:59:49,382 - root - INFO - Test log message 530\n",
            "INFO:root:Test log message 531\n",
            "2025-05-14 03:59:49,383 - root - INFO - Test log message 531\n",
            "INFO:root:Test log message 532\n",
            "2025-05-14 03:59:49,384 - root - INFO - Test log message 532\n",
            "INFO:root:Test log message 533\n",
            "2025-05-14 03:59:49,385 - root - INFO - Test log message 533\n",
            "INFO:root:Test log message 534\n",
            "2025-05-14 03:59:49,385 - root - INFO - Test log message 534\n",
            "INFO:root:Test log message 535\n",
            "2025-05-14 03:59:49,386 - root - INFO - Test log message 535\n",
            "INFO:root:Test log message 536\n",
            "2025-05-14 03:59:49,390 - root - INFO - Test log message 536\n",
            "INFO:root:Test log message 537\n",
            "2025-05-14 03:59:49,391 - root - INFO - Test log message 537\n",
            "INFO:root:Test log message 538\n",
            "2025-05-14 03:59:49,392 - root - INFO - Test log message 538\n",
            "INFO:root:Test log message 539\n",
            "2025-05-14 03:59:49,393 - root - INFO - Test log message 539\n",
            "INFO:root:Test log message 540\n",
            "2025-05-14 03:59:49,394 - root - INFO - Test log message 540\n",
            "INFO:root:Test log message 541\n",
            "2025-05-14 03:59:49,394 - root - INFO - Test log message 541\n",
            "INFO:root:Test log message 542\n",
            "2025-05-14 03:59:49,395 - root - INFO - Test log message 542\n",
            "INFO:root:Test log message 543\n",
            "2025-05-14 03:59:49,396 - root - INFO - Test log message 543\n",
            "INFO:root:Test log message 544\n",
            "2025-05-14 03:59:49,397 - root - INFO - Test log message 544\n",
            "INFO:root:Test log message 545\n",
            "2025-05-14 03:59:49,398 - root - INFO - Test log message 545\n",
            "INFO:root:Test log message 546\n",
            "2025-05-14 03:59:49,401 - root - INFO - Test log message 546\n",
            "INFO:root:Test log message 547\n",
            "2025-05-14 03:59:49,403 - root - INFO - Test log message 547\n",
            "INFO:root:Test log message 548\n",
            "2025-05-14 03:59:49,404 - root - INFO - Test log message 548\n",
            "INFO:root:Test log message 549\n",
            "2025-05-14 03:59:49,404 - root - INFO - Test log message 549\n",
            "INFO:root:Test log message 550\n",
            "2025-05-14 03:59:49,405 - root - INFO - Test log message 550\n",
            "INFO:root:Test log message 551\n",
            "2025-05-14 03:59:49,406 - root - INFO - Test log message 551\n",
            "INFO:root:Test log message 552\n",
            "2025-05-14 03:59:49,407 - root - INFO - Test log message 552\n",
            "INFO:root:Test log message 553\n",
            "2025-05-14 03:59:49,408 - root - INFO - Test log message 553\n",
            "INFO:root:Test log message 554\n",
            "2025-05-14 03:59:49,409 - root - INFO - Test log message 554\n",
            "INFO:root:Test log message 555\n",
            "2025-05-14 03:59:49,409 - root - INFO - Test log message 555\n",
            "INFO:root:Test log message 556\n",
            "2025-05-14 03:59:49,411 - root - INFO - Test log message 556\n",
            "INFO:root:Test log message 557\n",
            "2025-05-14 03:59:49,411 - root - INFO - Test log message 557\n",
            "INFO:root:Test log message 558\n",
            "2025-05-14 03:59:49,412 - root - INFO - Test log message 558\n",
            "INFO:root:Test log message 559\n",
            "2025-05-14 03:59:49,413 - root - INFO - Test log message 559\n",
            "INFO:root:Test log message 560\n",
            "2025-05-14 03:59:49,414 - root - INFO - Test log message 560\n",
            "INFO:root:Test log message 561\n",
            "2025-05-14 03:59:49,415 - root - INFO - Test log message 561\n",
            "INFO:root:Test log message 562\n",
            "2025-05-14 03:59:49,416 - root - INFO - Test log message 562\n",
            "INFO:root:Test log message 563\n",
            "2025-05-14 03:59:49,417 - root - INFO - Test log message 563\n",
            "INFO:root:Test log message 564\n",
            "2025-05-14 03:59:49,418 - root - INFO - Test log message 564\n",
            "INFO:root:Test log message 565\n",
            "2025-05-14 03:59:49,418 - root - INFO - Test log message 565\n",
            "INFO:root:Test log message 566\n",
            "2025-05-14 03:59:49,419 - root - INFO - Test log message 566\n",
            "INFO:root:Test log message 567\n",
            "2025-05-14 03:59:49,420 - root - INFO - Test log message 567\n",
            "INFO:root:Test log message 568\n",
            "2025-05-14 03:59:49,421 - root - INFO - Test log message 568\n",
            "INFO:root:Test log message 569\n",
            "2025-05-14 03:59:49,422 - root - INFO - Test log message 569\n",
            "INFO:root:Test log message 570\n",
            "2025-05-14 03:59:49,424 - root - INFO - Test log message 570\n",
            "INFO:root:Test log message 571\n",
            "2025-05-14 03:59:49,425 - root - INFO - Test log message 571\n",
            "INFO:root:Test log message 572\n",
            "2025-05-14 03:59:49,426 - root - INFO - Test log message 572\n",
            "INFO:root:Test log message 573\n",
            "2025-05-14 03:59:49,426 - root - INFO - Test log message 573\n",
            "INFO:root:Test log message 574\n",
            "2025-05-14 03:59:49,427 - root - INFO - Test log message 574\n",
            "INFO:root:Test log message 575\n",
            "2025-05-14 03:59:49,428 - root - INFO - Test log message 575\n",
            "INFO:root:Test log message 576\n",
            "2025-05-14 03:59:49,428 - root - INFO - Test log message 576\n",
            "INFO:root:Test log message 577\n",
            "2025-05-14 03:59:49,429 - root - INFO - Test log message 577\n",
            "INFO:root:Test log message 578\n",
            "2025-05-14 03:59:49,430 - root - INFO - Test log message 578\n",
            "INFO:root:Test log message 579\n",
            "2025-05-14 03:59:49,431 - root - INFO - Test log message 579\n",
            "INFO:root:Test log message 580\n",
            "2025-05-14 03:59:49,432 - root - INFO - Test log message 580\n",
            "INFO:root:Test log message 581\n",
            "2025-05-14 03:59:49,433 - root - INFO - Test log message 581\n",
            "INFO:root:Test log message 582\n",
            "2025-05-14 03:59:49,433 - root - INFO - Test log message 582\n",
            "INFO:root:Test log message 583\n",
            "2025-05-14 03:59:49,435 - root - INFO - Test log message 583\n",
            "INFO:root:Test log message 584\n",
            "2025-05-14 03:59:49,436 - root - INFO - Test log message 584\n",
            "INFO:root:Test log message 585\n",
            "2025-05-14 03:59:49,437 - root - INFO - Test log message 585\n",
            "INFO:root:Test log message 586\n",
            "2025-05-14 03:59:49,438 - root - INFO - Test log message 586\n",
            "INFO:root:Test log message 587\n",
            "2025-05-14 03:59:49,438 - root - INFO - Test log message 587\n",
            "INFO:root:Test log message 588\n",
            "2025-05-14 03:59:49,439 - root - INFO - Test log message 588\n",
            "INFO:root:Test log message 589\n",
            "2025-05-14 03:59:49,440 - root - INFO - Test log message 589\n",
            "INFO:root:Test log message 590\n",
            "2025-05-14 03:59:49,441 - root - INFO - Test log message 590\n",
            "INFO:root:Test log message 591\n",
            "2025-05-14 03:59:49,441 - root - INFO - Test log message 591\n",
            "INFO:root:Test log message 592\n",
            "2025-05-14 03:59:49,442 - root - INFO - Test log message 592\n",
            "INFO:root:Test log message 593\n",
            "2025-05-14 03:59:49,443 - root - INFO - Test log message 593\n",
            "INFO:root:Test log message 594\n",
            "2025-05-14 03:59:49,445 - root - INFO - Test log message 594\n",
            "INFO:root:Test log message 595\n",
            "2025-05-14 03:59:49,446 - root - INFO - Test log message 595\n",
            "INFO:root:Test log message 596\n",
            "2025-05-14 03:59:49,447 - root - INFO - Test log message 596\n",
            "INFO:root:Test log message 597\n",
            "2025-05-14 03:59:49,447 - root - INFO - Test log message 597\n",
            "INFO:root:Test log message 598\n",
            "2025-05-14 03:59:49,448 - root - INFO - Test log message 598\n",
            "INFO:root:Test log message 599\n",
            "2025-05-14 03:59:49,449 - root - INFO - Test log message 599\n",
            "INFO:root:Test log message 600\n",
            "2025-05-14 03:59:49,449 - root - INFO - Test log message 600\n",
            "INFO:root:Test log message 601\n",
            "2025-05-14 03:59:49,450 - root - INFO - Test log message 601\n",
            "INFO:root:Test log message 602\n",
            "2025-05-14 03:59:49,451 - root - INFO - Test log message 602\n",
            "INFO:root:Test log message 603\n",
            "2025-05-14 03:59:49,452 - root - INFO - Test log message 603\n",
            "INFO:root:Test log message 604\n",
            "2025-05-14 03:59:49,453 - root - INFO - Test log message 604\n",
            "INFO:root:Test log message 605\n",
            "2025-05-14 03:59:49,453 - root - INFO - Test log message 605\n",
            "INFO:root:Test log message 606\n",
            "2025-05-14 03:59:49,454 - root - INFO - Test log message 606\n",
            "INFO:root:Test log message 607\n",
            "2025-05-14 03:59:49,455 - root - INFO - Test log message 607\n",
            "INFO:root:Test log message 608\n",
            "2025-05-14 03:59:49,455 - root - INFO - Test log message 608\n",
            "INFO:root:Test log message 609\n",
            "2025-05-14 03:59:49,456 - root - INFO - Test log message 609\n",
            "INFO:root:Test log message 610\n",
            "2025-05-14 03:59:49,457 - root - INFO - Test log message 610\n",
            "INFO:root:Test log message 611\n",
            "2025-05-14 03:59:49,457 - root - INFO - Test log message 611\n",
            "INFO:root:Test log message 612\n",
            "2025-05-14 03:59:49,458 - root - INFO - Test log message 612\n",
            "INFO:root:Test log message 613\n",
            "2025-05-14 03:59:49,459 - root - INFO - Test log message 613\n",
            "INFO:root:Test log message 614\n",
            "2025-05-14 03:59:49,460 - root - INFO - Test log message 614\n",
            "INFO:root:Test log message 615\n",
            "2025-05-14 03:59:49,460 - root - INFO - Test log message 615\n",
            "INFO:root:Test log message 616\n",
            "2025-05-14 03:59:49,461 - root - INFO - Test log message 616\n",
            "INFO:root:Test log message 617\n",
            "2025-05-14 03:59:49,462 - root - INFO - Test log message 617\n",
            "INFO:root:Test log message 618\n",
            "2025-05-14 03:59:49,462 - root - INFO - Test log message 618\n",
            "INFO:root:Test log message 619\n",
            "2025-05-14 03:59:49,463 - root - INFO - Test log message 619\n",
            "INFO:root:Test log message 620\n",
            "2025-05-14 03:59:49,464 - root - INFO - Test log message 620\n",
            "INFO:root:Test log message 621\n",
            "2025-05-14 03:59:49,465 - root - INFO - Test log message 621\n",
            "INFO:root:Test log message 622\n",
            "2025-05-14 03:59:49,465 - root - INFO - Test log message 622\n",
            "INFO:root:Test log message 623\n",
            "2025-05-14 03:59:49,466 - root - INFO - Test log message 623\n",
            "INFO:root:Test log message 624\n",
            "2025-05-14 03:59:49,467 - root - INFO - Test log message 624\n",
            "INFO:root:Test log message 625\n",
            "2025-05-14 03:59:49,467 - root - INFO - Test log message 625\n",
            "INFO:root:Test log message 626\n",
            "2025-05-14 03:59:49,468 - root - INFO - Test log message 626\n",
            "INFO:root:Test log message 627\n",
            "2025-05-14 03:59:49,468 - root - INFO - Test log message 627\n",
            "INFO:root:Test log message 628\n",
            "2025-05-14 03:59:49,469 - root - INFO - Test log message 628\n",
            "INFO:root:Test log message 629\n",
            "2025-05-14 03:59:49,470 - root - INFO - Test log message 629\n",
            "INFO:root:Test log message 630\n",
            "2025-05-14 03:59:49,470 - root - INFO - Test log message 630\n",
            "INFO:root:Test log message 631\n",
            "2025-05-14 03:59:49,471 - root - INFO - Test log message 631\n",
            "INFO:root:Test log message 632\n",
            "2025-05-14 03:59:49,472 - root - INFO - Test log message 632\n",
            "INFO:root:Test log message 633\n",
            "2025-05-14 03:59:49,477 - root - INFO - Test log message 633\n",
            "INFO:root:Test log message 634\n",
            "2025-05-14 03:59:49,477 - root - INFO - Test log message 634\n",
            "INFO:root:Test log message 635\n",
            "2025-05-14 03:59:49,478 - root - INFO - Test log message 635\n",
            "INFO:root:Test log message 636\n",
            "2025-05-14 03:59:49,479 - root - INFO - Test log message 636\n",
            "INFO:root:Test log message 637\n",
            "2025-05-14 03:59:49,479 - root - INFO - Test log message 637\n",
            "INFO:root:Test log message 638\n",
            "2025-05-14 03:59:49,480 - root - INFO - Test log message 638\n",
            "INFO:root:Test log message 639\n",
            "2025-05-14 03:59:49,481 - root - INFO - Test log message 639\n",
            "INFO:root:Test log message 640\n",
            "2025-05-14 03:59:49,482 - root - INFO - Test log message 640\n",
            "INFO:root:Test log message 641\n",
            "2025-05-14 03:59:49,482 - root - INFO - Test log message 641\n",
            "INFO:root:Test log message 642\n",
            "2025-05-14 03:59:49,483 - root - INFO - Test log message 642\n",
            "INFO:root:Test log message 643\n",
            "2025-05-14 03:59:49,484 - root - INFO - Test log message 643\n",
            "INFO:root:Test log message 644\n",
            "2025-05-14 03:59:49,485 - root - INFO - Test log message 644\n",
            "INFO:root:Test log message 645\n",
            "2025-05-14 03:59:49,488 - root - INFO - Test log message 645\n",
            "INFO:root:Test log message 646\n",
            "2025-05-14 03:59:49,489 - root - INFO - Test log message 646\n",
            "INFO:root:Test log message 647\n",
            "2025-05-14 03:59:49,490 - root - INFO - Test log message 647\n",
            "INFO:root:Test log message 648\n",
            "2025-05-14 03:59:49,491 - root - INFO - Test log message 648\n",
            "INFO:root:Test log message 649\n",
            "2025-05-14 03:59:49,491 - root - INFO - Test log message 649\n",
            "INFO:root:Test log message 650\n",
            "2025-05-14 03:59:49,492 - root - INFO - Test log message 650\n",
            "INFO:root:Test log message 651\n",
            "2025-05-14 03:59:49,493 - root - INFO - Test log message 651\n",
            "INFO:root:Test log message 652\n",
            "2025-05-14 03:59:49,494 - root - INFO - Test log message 652\n",
            "INFO:root:Test log message 653\n",
            "2025-05-14 03:59:49,495 - root - INFO - Test log message 653\n",
            "INFO:root:Test log message 654\n",
            "2025-05-14 03:59:49,495 - root - INFO - Test log message 654\n",
            "INFO:root:Test log message 655\n",
            "2025-05-14 03:59:49,496 - root - INFO - Test log message 655\n",
            "INFO:root:Test log message 656\n",
            "2025-05-14 03:59:49,497 - root - INFO - Test log message 656\n",
            "INFO:root:Test log message 657\n",
            "2025-05-14 03:59:49,498 - root - INFO - Test log message 657\n",
            "INFO:root:Test log message 658\n",
            "2025-05-14 03:59:49,498 - root - INFO - Test log message 658\n",
            "INFO:root:Test log message 659\n",
            "2025-05-14 03:59:49,499 - root - INFO - Test log message 659\n",
            "INFO:root:Test log message 660\n",
            "2025-05-14 03:59:49,501 - root - INFO - Test log message 660\n",
            "INFO:root:Test log message 661\n",
            "2025-05-14 03:59:49,502 - root - INFO - Test log message 661\n",
            "INFO:root:Test log message 662\n",
            "2025-05-14 03:59:49,503 - root - INFO - Test log message 662\n",
            "INFO:root:Test log message 663\n",
            "2025-05-14 03:59:49,504 - root - INFO - Test log message 663\n",
            "INFO:root:Test log message 664\n",
            "2025-05-14 03:59:49,504 - root - INFO - Test log message 664\n",
            "INFO:root:Test log message 665\n",
            "2025-05-14 03:59:49,505 - root - INFO - Test log message 665\n",
            "INFO:root:Test log message 666\n",
            "2025-05-14 03:59:49,506 - root - INFO - Test log message 666\n",
            "INFO:root:Test log message 667\n",
            "2025-05-14 03:59:49,506 - root - INFO - Test log message 667\n",
            "INFO:root:Test log message 668\n",
            "2025-05-14 03:59:49,507 - root - INFO - Test log message 668\n",
            "INFO:root:Test log message 669\n",
            "2025-05-14 03:59:49,508 - root - INFO - Test log message 669\n",
            "INFO:root:Test log message 670\n",
            "2025-05-14 03:59:49,509 - root - INFO - Test log message 670\n",
            "INFO:root:Test log message 671\n",
            "2025-05-14 03:59:49,509 - root - INFO - Test log message 671\n",
            "INFO:root:Test log message 672\n",
            "2025-05-14 03:59:49,510 - root - INFO - Test log message 672\n",
            "INFO:root:Test log message 673\n",
            "2025-05-14 03:59:49,511 - root - INFO - Test log message 673\n",
            "INFO:root:Test log message 674\n",
            "2025-05-14 03:59:49,512 - root - INFO - Test log message 674\n",
            "INFO:root:Test log message 675\n",
            "2025-05-14 03:59:49,512 - root - INFO - Test log message 675\n",
            "INFO:root:Test log message 676\n",
            "2025-05-14 03:59:49,515 - root - INFO - Test log message 676\n",
            "INFO:root:Test log message 677\n",
            "2025-05-14 03:59:49,515 - root - INFO - Test log message 677\n",
            "INFO:root:Test log message 678\n",
            "2025-05-14 03:59:49,517 - root - INFO - Test log message 678\n",
            "INFO:root:Test log message 679\n",
            "2025-05-14 03:59:49,517 - root - INFO - Test log message 679\n",
            "INFO:root:Test log message 680\n",
            "2025-05-14 03:59:49,520 - root - INFO - Test log message 680\n",
            "INFO:root:Test log message 681\n",
            "2025-05-14 03:59:49,520 - root - INFO - Test log message 681\n",
            "INFO:root:Test log message 682\n",
            "2025-05-14 03:59:49,521 - root - INFO - Test log message 682\n",
            "INFO:root:Test log message 683\n",
            "2025-05-14 03:59:49,525 - root - INFO - Test log message 683\n",
            "INFO:root:Test log message 684\n",
            "2025-05-14 03:59:49,531 - root - INFO - Test log message 684\n",
            "INFO:root:Test log message 685\n",
            "2025-05-14 03:59:49,533 - root - INFO - Test log message 685\n",
            "INFO:root:Test log message 686\n",
            "2025-05-14 03:59:49,534 - root - INFO - Test log message 686\n",
            "INFO:root:Test log message 687\n",
            "2025-05-14 03:59:49,535 - root - INFO - Test log message 687\n",
            "INFO:root:Test log message 688\n",
            "2025-05-14 03:59:49,536 - root - INFO - Test log message 688\n",
            "INFO:root:Test log message 689\n",
            "2025-05-14 03:59:49,537 - root - INFO - Test log message 689\n",
            "INFO:root:Test log message 690\n",
            "2025-05-14 03:59:49,538 - root - INFO - Test log message 690\n",
            "INFO:root:Test log message 691\n",
            "2025-05-14 03:59:49,543 - root - INFO - Test log message 691\n",
            "INFO:root:Test log message 692\n",
            "2025-05-14 03:59:49,544 - root - INFO - Test log message 692\n",
            "INFO:root:Test log message 693\n",
            "2025-05-14 03:59:49,558 - root - INFO - Test log message 693\n",
            "INFO:root:Test log message 694\n",
            "2025-05-14 03:59:49,561 - root - INFO - Test log message 694\n",
            "INFO:root:Test log message 695\n",
            "2025-05-14 03:59:49,562 - root - INFO - Test log message 695\n",
            "INFO:root:Test log message 696\n",
            "2025-05-14 03:59:49,563 - root - INFO - Test log message 696\n",
            "INFO:root:Test log message 697\n",
            "2025-05-14 03:59:49,569 - root - INFO - Test log message 697\n",
            "INFO:root:Test log message 698\n",
            "2025-05-14 03:59:49,573 - root - INFO - Test log message 698\n",
            "INFO:root:Test log message 699\n",
            "2025-05-14 03:59:49,577 - root - INFO - Test log message 699\n",
            "INFO:root:Test log message 700\n",
            "2025-05-14 03:59:49,595 - root - INFO - Test log message 700\n",
            "INFO:root:Test log message 701\n",
            "2025-05-14 03:59:49,596 - root - INFO - Test log message 701\n",
            "INFO:root:Test log message 702\n",
            "2025-05-14 03:59:49,597 - root - INFO - Test log message 702\n",
            "INFO:root:Test log message 703\n",
            "2025-05-14 03:59:49,598 - root - INFO - Test log message 703\n",
            "INFO:root:Test log message 704\n",
            "2025-05-14 03:59:49,601 - root - INFO - Test log message 704\n",
            "INFO:root:Test log message 705\n",
            "2025-05-14 03:59:49,602 - root - INFO - Test log message 705\n",
            "INFO:root:Test log message 706\n",
            "2025-05-14 03:59:49,604 - root - INFO - Test log message 706\n",
            "INFO:root:Test log message 707\n",
            "2025-05-14 03:59:49,608 - root - INFO - Test log message 707\n",
            "INFO:root:Test log message 708\n",
            "2025-05-14 03:59:49,615 - root - INFO - Test log message 708\n",
            "INFO:root:Test log message 709\n",
            "2025-05-14 03:59:49,616 - root - INFO - Test log message 709\n",
            "INFO:root:Test log message 710\n",
            "2025-05-14 03:59:49,617 - root - INFO - Test log message 710\n",
            "INFO:root:Test log message 711\n",
            "2025-05-14 03:59:49,621 - root - INFO - Test log message 711\n",
            "INFO:root:Test log message 712\n",
            "2025-05-14 03:59:49,622 - root - INFO - Test log message 712\n",
            "INFO:root:Test log message 713\n",
            "2025-05-14 03:59:49,629 - root - INFO - Test log message 713\n",
            "INFO:root:Test log message 714\n",
            "2025-05-14 03:59:49,630 - root - INFO - Test log message 714\n",
            "INFO:root:Test log message 715\n",
            "2025-05-14 03:59:49,635 - root - INFO - Test log message 715\n",
            "INFO:root:Test log message 716\n",
            "2025-05-14 03:59:49,640 - root - INFO - Test log message 716\n",
            "INFO:root:Test log message 717\n",
            "2025-05-14 03:59:49,642 - root - INFO - Test log message 717\n",
            "INFO:root:Test log message 718\n",
            "2025-05-14 03:59:49,648 - root - INFO - Test log message 718\n",
            "INFO:root:Test log message 719\n",
            "2025-05-14 03:59:49,649 - root - INFO - Test log message 719\n",
            "INFO:root:Test log message 720\n",
            "2025-05-14 03:59:49,686 - root - INFO - Test log message 720\n",
            "INFO:root:Test log message 721\n",
            "2025-05-14 03:59:49,689 - root - INFO - Test log message 721\n",
            "INFO:root:Test log message 722\n",
            "2025-05-14 03:59:49,690 - root - INFO - Test log message 722\n",
            "INFO:root:Test log message 723\n",
            "2025-05-14 03:59:49,696 - root - INFO - Test log message 723\n",
            "INFO:root:Test log message 724\n",
            "2025-05-14 03:59:49,697 - root - INFO - Test log message 724\n",
            "INFO:root:Test log message 725\n",
            "2025-05-14 03:59:49,698 - root - INFO - Test log message 725\n",
            "INFO:root:Test log message 726\n",
            "2025-05-14 03:59:49,723 - root - INFO - Test log message 726\n",
            "INFO:root:Test log message 727\n",
            "2025-05-14 03:59:49,727 - root - INFO - Test log message 727\n",
            "INFO:root:Test log message 728\n",
            "2025-05-14 03:59:49,728 - root - INFO - Test log message 728\n",
            "INFO:root:Test log message 729\n",
            "2025-05-14 03:59:49,730 - root - INFO - Test log message 729\n",
            "INFO:root:Test log message 730\n",
            "2025-05-14 03:59:49,730 - root - INFO - Test log message 730\n",
            "INFO:root:Test log message 731\n",
            "2025-05-14 03:59:49,732 - root - INFO - Test log message 731\n",
            "INFO:root:Test log message 732\n",
            "2025-05-14 03:59:49,732 - root - INFO - Test log message 732\n",
            "INFO:root:Test log message 733\n",
            "2025-05-14 03:59:49,734 - root - INFO - Test log message 733\n",
            "INFO:root:Test log message 734\n",
            "2025-05-14 03:59:49,734 - root - INFO - Test log message 734\n",
            "INFO:root:Test log message 735\n",
            "2025-05-14 03:59:49,736 - root - INFO - Test log message 735\n",
            "INFO:root:Test log message 736\n",
            "2025-05-14 03:59:49,741 - root - INFO - Test log message 736\n",
            "INFO:root:Test log message 737\n",
            "2025-05-14 03:59:49,756 - root - INFO - Test log message 737\n",
            "INFO:root:Test log message 738\n",
            "2025-05-14 03:59:49,760 - root - INFO - Test log message 738\n",
            "INFO:root:Test log message 739\n",
            "2025-05-14 03:59:49,765 - root - INFO - Test log message 739\n",
            "INFO:root:Test log message 740\n",
            "2025-05-14 03:59:49,775 - root - INFO - Test log message 740\n",
            "INFO:root:Test log message 741\n",
            "2025-05-14 03:59:49,779 - root - INFO - Test log message 741\n",
            "INFO:root:Test log message 742\n",
            "2025-05-14 03:59:49,780 - root - INFO - Test log message 742\n",
            "INFO:root:Test log message 743\n",
            "2025-05-14 03:59:49,796 - root - INFO - Test log message 743\n",
            "INFO:root:Test log message 744\n",
            "2025-05-14 03:59:49,800 - root - INFO - Test log message 744\n",
            "INFO:root:Test log message 745\n",
            "2025-05-14 03:59:49,801 - root - INFO - Test log message 745\n",
            "INFO:root:Test log message 746\n",
            "2025-05-14 03:59:49,802 - root - INFO - Test log message 746\n",
            "INFO:root:Test log message 747\n",
            "2025-05-14 03:59:49,803 - root - INFO - Test log message 747\n",
            "INFO:root:Test log message 748\n",
            "2025-05-14 03:59:49,804 - root - INFO - Test log message 748\n",
            "INFO:root:Test log message 749\n",
            "2025-05-14 03:59:49,814 - root - INFO - Test log message 749\n",
            "INFO:root:Test log message 750\n",
            "2025-05-14 03:59:49,820 - root - INFO - Test log message 750\n",
            "INFO:root:Test log message 751\n",
            "2025-05-14 03:59:49,821 - root - INFO - Test log message 751\n",
            "INFO:root:Test log message 752\n",
            "2025-05-14 03:59:49,822 - root - INFO - Test log message 752\n",
            "INFO:root:Test log message 753\n",
            "2025-05-14 03:59:49,824 - root - INFO - Test log message 753\n",
            "INFO:root:Test log message 754\n",
            "2025-05-14 03:59:49,827 - root - INFO - Test log message 754\n",
            "INFO:root:Test log message 755\n",
            "2025-05-14 03:59:49,828 - root - INFO - Test log message 755\n",
            "INFO:root:Test log message 756\n",
            "2025-05-14 03:59:49,830 - root - INFO - Test log message 756\n",
            "INFO:root:Test log message 757\n",
            "2025-05-14 03:59:49,830 - root - INFO - Test log message 757\n",
            "INFO:root:Test log message 758\n",
            "2025-05-14 03:59:49,831 - root - INFO - Test log message 758\n",
            "INFO:root:Test log message 759\n",
            "2025-05-14 03:59:49,836 - root - INFO - Test log message 759\n",
            "INFO:root:Test log message 760\n",
            "2025-05-14 03:59:49,837 - root - INFO - Test log message 760\n",
            "INFO:root:Test log message 761\n",
            "2025-05-14 03:59:49,849 - root - INFO - Test log message 761\n",
            "INFO:root:Test log message 762\n",
            "2025-05-14 03:59:49,853 - root - INFO - Test log message 762\n",
            "INFO:root:Test log message 763\n",
            "2025-05-14 03:59:49,855 - root - INFO - Test log message 763\n",
            "INFO:root:Test log message 764\n",
            "2025-05-14 03:59:49,860 - root - INFO - Test log message 764\n",
            "INFO:root:Test log message 765\n",
            "2025-05-14 03:59:49,862 - root - INFO - Test log message 765\n",
            "INFO:root:Test log message 766\n",
            "2025-05-14 03:59:49,863 - root - INFO - Test log message 766\n",
            "INFO:root:Test log message 767\n",
            "2025-05-14 03:59:49,871 - root - INFO - Test log message 767\n",
            "INFO:root:Test log message 768\n",
            "2025-05-14 03:59:49,872 - root - INFO - Test log message 768\n",
            "INFO:root:Test log message 769\n",
            "2025-05-14 03:59:49,881 - root - INFO - Test log message 769\n",
            "INFO:root:Test log message 770\n",
            "2025-05-14 03:59:49,883 - root - INFO - Test log message 770\n",
            "INFO:root:Test log message 771\n",
            "2025-05-14 03:59:49,885 - root - INFO - Test log message 771\n",
            "INFO:root:Test log message 772\n",
            "2025-05-14 03:59:49,887 - root - INFO - Test log message 772\n",
            "INFO:root:Test log message 773\n",
            "2025-05-14 03:59:49,905 - root - INFO - Test log message 773\n",
            "INFO:root:Test log message 774\n",
            "2025-05-14 03:59:49,909 - root - INFO - Test log message 774\n",
            "INFO:root:Test log message 775\n",
            "2025-05-14 03:59:49,913 - root - INFO - Test log message 775\n",
            "INFO:root:Test log message 776\n",
            "2025-05-14 03:59:49,915 - root - INFO - Test log message 776\n",
            "INFO:root:Test log message 777\n",
            "2025-05-14 03:59:49,917 - root - INFO - Test log message 777\n",
            "INFO:root:Test log message 778\n",
            "2025-05-14 03:59:49,923 - root - INFO - Test log message 778\n",
            "INFO:root:Test log message 779\n",
            "2025-05-14 03:59:49,925 - root - INFO - Test log message 779\n",
            "INFO:root:Test log message 780\n",
            "2025-05-14 03:59:49,926 - root - INFO - Test log message 780\n",
            "INFO:root:Test log message 781\n",
            "2025-05-14 03:59:49,928 - root - INFO - Test log message 781\n",
            "INFO:root:Test log message 782\n",
            "2025-05-14 03:59:49,929 - root - INFO - Test log message 782\n",
            "INFO:root:Test log message 783\n",
            "2025-05-14 03:59:49,930 - root - INFO - Test log message 783\n",
            "INFO:root:Test log message 784\n",
            "2025-05-14 03:59:49,932 - root - INFO - Test log message 784\n",
            "INFO:root:Test log message 785\n",
            "2025-05-14 03:59:49,935 - root - INFO - Test log message 785\n",
            "INFO:root:Test log message 786\n",
            "2025-05-14 03:59:49,936 - root - INFO - Test log message 786\n",
            "INFO:root:Test log message 787\n",
            "2025-05-14 03:59:49,938 - root - INFO - Test log message 787\n",
            "INFO:root:Test log message 788\n",
            "2025-05-14 03:59:49,939 - root - INFO - Test log message 788\n",
            "INFO:root:Test log message 789\n",
            "2025-05-14 03:59:49,942 - root - INFO - Test log message 789\n",
            "INFO:root:Test log message 790\n",
            "2025-05-14 03:59:49,943 - root - INFO - Test log message 790\n",
            "INFO:root:Test log message 791\n",
            "2025-05-14 03:59:49,944 - root - INFO - Test log message 791\n",
            "INFO:root:Test log message 792\n",
            "2025-05-14 03:59:49,945 - root - INFO - Test log message 792\n",
            "INFO:root:Test log message 793\n",
            "2025-05-14 03:59:49,947 - root - INFO - Test log message 793\n",
            "INFO:root:Test log message 794\n",
            "2025-05-14 03:59:49,948 - root - INFO - Test log message 794\n",
            "INFO:root:Test log message 795\n",
            "2025-05-14 03:59:49,951 - root - INFO - Test log message 795\n",
            "INFO:root:Test log message 796\n",
            "2025-05-14 03:59:49,953 - root - INFO - Test log message 796\n",
            "INFO:root:Test log message 797\n",
            "2025-05-14 03:59:49,954 - root - INFO - Test log message 797\n",
            "INFO:root:Test log message 798\n",
            "2025-05-14 03:59:49,955 - root - INFO - Test log message 798\n",
            "INFO:root:Test log message 799\n",
            "2025-05-14 03:59:49,956 - root - INFO - Test log message 799\n",
            "INFO:root:Test log message 800\n",
            "2025-05-14 03:59:49,958 - root - INFO - Test log message 800\n",
            "INFO:root:Test log message 801\n",
            "2025-05-14 03:59:49,961 - root - INFO - Test log message 801\n",
            "INFO:root:Test log message 802\n",
            "2025-05-14 03:59:49,962 - root - INFO - Test log message 802\n",
            "INFO:root:Test log message 803\n",
            "2025-05-14 03:59:49,963 - root - INFO - Test log message 803\n",
            "INFO:root:Test log message 804\n",
            "2025-05-14 03:59:49,964 - root - INFO - Test log message 804\n",
            "INFO:root:Test log message 805\n",
            "2025-05-14 03:59:49,966 - root - INFO - Test log message 805\n",
            "INFO:root:Test log message 806\n",
            "2025-05-14 03:59:49,969 - root - INFO - Test log message 806\n",
            "INFO:root:Test log message 807\n",
            "2025-05-14 03:59:49,971 - root - INFO - Test log message 807\n",
            "INFO:root:Test log message 808\n",
            "2025-05-14 03:59:49,972 - root - INFO - Test log message 808\n",
            "INFO:root:Test log message 809\n",
            "2025-05-14 03:59:49,973 - root - INFO - Test log message 809\n",
            "INFO:root:Test log message 810\n",
            "2025-05-14 03:59:49,976 - root - INFO - Test log message 810\n",
            "INFO:root:Test log message 811\n",
            "2025-05-14 03:59:49,978 - root - INFO - Test log message 811\n",
            "INFO:root:Test log message 812\n",
            "2025-05-14 03:59:49,978 - root - INFO - Test log message 812\n",
            "INFO:root:Test log message 813\n",
            "2025-05-14 03:59:49,979 - root - INFO - Test log message 813\n",
            "INFO:root:Test log message 814\n",
            "2025-05-14 03:59:49,982 - root - INFO - Test log message 814\n",
            "INFO:root:Test log message 815\n",
            "2025-05-14 03:59:49,983 - root - INFO - Test log message 815\n",
            "INFO:root:Test log message 816\n",
            "2025-05-14 03:59:49,985 - root - INFO - Test log message 816\n",
            "INFO:root:Test log message 817\n",
            "2025-05-14 03:59:49,986 - root - INFO - Test log message 817\n",
            "INFO:root:Test log message 818\n",
            "2025-05-14 03:59:49,987 - root - INFO - Test log message 818\n",
            "INFO:root:Test log message 819\n",
            "2025-05-14 03:59:49,988 - root - INFO - Test log message 819\n",
            "INFO:root:Test log message 820\n",
            "2025-05-14 03:59:49,990 - root - INFO - Test log message 820\n",
            "INFO:root:Test log message 821\n",
            "2025-05-14 03:59:49,991 - root - INFO - Test log message 821\n",
            "INFO:root:Test log message 822\n",
            "2025-05-14 03:59:49,992 - root - INFO - Test log message 822\n",
            "INFO:root:Test log message 823\n",
            "2025-05-14 03:59:49,994 - root - INFO - Test log message 823\n",
            "INFO:root:Test log message 824\n",
            "2025-05-14 03:59:49,996 - root - INFO - Test log message 824\n",
            "INFO:root:Test log message 825\n",
            "2025-05-14 03:59:49,997 - root - INFO - Test log message 825\n",
            "INFO:root:Test log message 826\n",
            "2025-05-14 03:59:49,998 - root - INFO - Test log message 826\n",
            "INFO:root:Test log message 827\n",
            "2025-05-14 03:59:50,000 - root - INFO - Test log message 827\n",
            "INFO:root:Test log message 828\n",
            "2025-05-14 03:59:50,003 - root - INFO - Test log message 828\n",
            "INFO:root:Test log message 829\n",
            "2025-05-14 03:59:50,004 - root - INFO - Test log message 829\n",
            "INFO:root:Test log message 830\n",
            "2025-05-14 03:59:50,005 - root - INFO - Test log message 830\n",
            "INFO:root:Test log message 831\n",
            "2025-05-14 03:59:50,006 - root - INFO - Test log message 831\n",
            "INFO:root:Test log message 832\n",
            "2025-05-14 03:59:50,008 - root - INFO - Test log message 832\n",
            "INFO:root:Test log message 833\n",
            "2025-05-14 03:59:50,011 - root - INFO - Test log message 833\n",
            "INFO:root:Test log message 834\n",
            "2025-05-14 03:59:50,012 - root - INFO - Test log message 834\n",
            "INFO:root:Test log message 835\n",
            "2025-05-14 03:59:50,014 - root - INFO - Test log message 835\n",
            "INFO:root:Test log message 836\n",
            "2025-05-14 03:59:50,015 - root - INFO - Test log message 836\n",
            "INFO:root:Test log message 837\n",
            "2025-05-14 03:59:50,017 - root - INFO - Test log message 837\n",
            "INFO:root:Test log message 838\n",
            "2025-05-14 03:59:50,018 - root - INFO - Test log message 838\n",
            "INFO:root:Test log message 839\n",
            "2025-05-14 03:59:50,019 - root - INFO - Test log message 839\n",
            "INFO:root:Test log message 840\n",
            "2025-05-14 03:59:50,020 - root - INFO - Test log message 840\n",
            "INFO:root:Test log message 841\n",
            "2025-05-14 03:59:50,022 - root - INFO - Test log message 841\n",
            "INFO:root:Test log message 842\n",
            "2025-05-14 03:59:50,023 - root - INFO - Test log message 842\n",
            "INFO:root:Test log message 843\n",
            "2025-05-14 03:59:50,024 - root - INFO - Test log message 843\n",
            "INFO:root:Test log message 844\n",
            "2025-05-14 03:59:50,025 - root - INFO - Test log message 844\n",
            "INFO:root:Test log message 845\n",
            "2025-05-14 03:59:50,026 - root - INFO - Test log message 845\n",
            "INFO:root:Test log message 846\n",
            "2025-05-14 03:59:50,027 - root - INFO - Test log message 846\n",
            "INFO:root:Test log message 847\n",
            "2025-05-14 03:59:50,029 - root - INFO - Test log message 847\n",
            "INFO:root:Test log message 848\n",
            "2025-05-14 03:59:50,030 - root - INFO - Test log message 848\n",
            "INFO:root:Test log message 849\n",
            "2025-05-14 03:59:50,032 - root - INFO - Test log message 849\n",
            "INFO:root:Test log message 850\n",
            "2025-05-14 03:59:50,033 - root - INFO - Test log message 850\n",
            "INFO:root:Test log message 851\n",
            "2025-05-14 03:59:50,035 - root - INFO - Test log message 851\n",
            "INFO:root:Test log message 852\n",
            "2025-05-14 03:59:50,038 - root - INFO - Test log message 852\n",
            "INFO:root:Test log message 853\n",
            "2025-05-14 03:59:50,040 - root - INFO - Test log message 853\n",
            "INFO:root:Test log message 854\n",
            "2025-05-14 03:59:50,041 - root - INFO - Test log message 854\n",
            "INFO:root:Test log message 855\n",
            "2025-05-14 03:59:50,043 - root - INFO - Test log message 855\n",
            "INFO:root:Test log message 856\n",
            "2025-05-14 03:59:50,044 - root - INFO - Test log message 856\n",
            "INFO:root:Test log message 857\n",
            "2025-05-14 03:59:50,045 - root - INFO - Test log message 857\n",
            "INFO:root:Test log message 858\n",
            "2025-05-14 03:59:50,047 - root - INFO - Test log message 858\n",
            "INFO:root:Test log message 859\n",
            "2025-05-14 03:59:50,049 - root - INFO - Test log message 859\n",
            "INFO:root:Test log message 860\n",
            "2025-05-14 03:59:50,050 - root - INFO - Test log message 860\n",
            "INFO:root:Test log message 861\n",
            "2025-05-14 03:59:50,052 - root - INFO - Test log message 861\n",
            "INFO:root:Test log message 862\n",
            "2025-05-14 03:59:50,053 - root - INFO - Test log message 862\n",
            "INFO:root:Test log message 863\n",
            "2025-05-14 03:59:50,054 - root - INFO - Test log message 863\n",
            "INFO:root:Test log message 864\n",
            "2025-05-14 03:59:50,056 - root - INFO - Test log message 864\n",
            "INFO:root:Test log message 865\n",
            "2025-05-14 03:59:50,058 - root - INFO - Test log message 865\n",
            "INFO:root:Test log message 866\n",
            "2025-05-14 03:59:50,059 - root - INFO - Test log message 866\n",
            "INFO:root:Test log message 867\n",
            "2025-05-14 03:59:50,060 - root - INFO - Test log message 867\n",
            "INFO:root:Test log message 868\n",
            "2025-05-14 03:59:50,061 - root - INFO - Test log message 868\n",
            "INFO:root:Test log message 869\n",
            "2025-05-14 03:59:50,062 - root - INFO - Test log message 869\n",
            "INFO:root:Test log message 870\n",
            "2025-05-14 03:59:50,065 - root - INFO - Test log message 870\n",
            "INFO:root:Test log message 871\n",
            "2025-05-14 03:59:50,066 - root - INFO - Test log message 871\n",
            "INFO:root:Test log message 872\n",
            "2025-05-14 03:59:50,067 - root - INFO - Test log message 872\n",
            "INFO:root:Test log message 873\n",
            "2025-05-14 03:59:50,069 - root - INFO - Test log message 873\n",
            "INFO:root:Test log message 874\n",
            "2025-05-14 03:59:50,070 - root - INFO - Test log message 874\n",
            "INFO:root:Test log message 875\n",
            "2025-05-14 03:59:50,071 - root - INFO - Test log message 875\n",
            "INFO:root:Test log message 876\n",
            "2025-05-14 03:59:50,072 - root - INFO - Test log message 876\n",
            "INFO:root:Test log message 877\n",
            "2025-05-14 03:59:50,074 - root - INFO - Test log message 877\n",
            "INFO:root:Test log message 878\n",
            "2025-05-14 03:59:50,075 - root - INFO - Test log message 878\n",
            "INFO:root:Test log message 879\n",
            "2025-05-14 03:59:50,077 - root - INFO - Test log message 879\n",
            "INFO:root:Test log message 880\n",
            "2025-05-14 03:59:50,078 - root - INFO - Test log message 880\n",
            "INFO:root:Test log message 881\n",
            "2025-05-14 03:59:50,079 - root - INFO - Test log message 881\n",
            "INFO:root:Test log message 882\n",
            "2025-05-14 03:59:50,081 - root - INFO - Test log message 882\n",
            "INFO:root:Test log message 883\n",
            "2025-05-14 03:59:50,082 - root - INFO - Test log message 883\n",
            "INFO:root:Test log message 884\n",
            "2025-05-14 03:59:50,083 - root - INFO - Test log message 884\n",
            "INFO:root:Test log message 885\n",
            "2025-05-14 03:59:50,085 - root - INFO - Test log message 885\n",
            "INFO:root:Test log message 886\n",
            "2025-05-14 03:59:50,087 - root - INFO - Test log message 886\n",
            "INFO:root:Test log message 887\n",
            "2025-05-14 03:59:50,088 - root - INFO - Test log message 887\n",
            "INFO:root:Test log message 888\n",
            "2025-05-14 03:59:50,091 - root - INFO - Test log message 888\n",
            "INFO:root:Test log message 889\n",
            "2025-05-14 03:59:50,093 - root - INFO - Test log message 889\n",
            "INFO:root:Test log message 890\n",
            "2025-05-14 03:59:50,094 - root - INFO - Test log message 890\n",
            "INFO:root:Test log message 891\n",
            "2025-05-14 03:59:50,095 - root - INFO - Test log message 891\n",
            "INFO:root:Test log message 892\n",
            "2025-05-14 03:59:50,096 - root - INFO - Test log message 892\n",
            "INFO:root:Test log message 893\n",
            "2025-05-14 03:59:50,098 - root - INFO - Test log message 893\n",
            "INFO:root:Test log message 894\n",
            "2025-05-14 03:59:50,099 - root - INFO - Test log message 894\n",
            "INFO:root:Test log message 895\n",
            "2025-05-14 03:59:50,100 - root - INFO - Test log message 895\n",
            "INFO:root:Test log message 896\n",
            "2025-05-14 03:59:50,101 - root - INFO - Test log message 896\n",
            "INFO:root:Test log message 897\n",
            "2025-05-14 03:59:50,102 - root - INFO - Test log message 897\n",
            "INFO:root:Test log message 898\n",
            "2025-05-14 03:59:50,103 - root - INFO - Test log message 898\n",
            "INFO:root:Test log message 899\n",
            "2025-05-14 03:59:50,104 - root - INFO - Test log message 899\n",
            "INFO:root:Test log message 900\n",
            "2025-05-14 03:59:50,104 - root - INFO - Test log message 900\n",
            "INFO:root:Test log message 901\n",
            "2025-05-14 03:59:50,105 - root - INFO - Test log message 901\n",
            "INFO:root:Test log message 902\n",
            "2025-05-14 03:59:50,109 - root - INFO - Test log message 902\n",
            "INFO:root:Test log message 903\n",
            "2025-05-14 03:59:50,110 - root - INFO - Test log message 903\n",
            "INFO:root:Test log message 904\n",
            "2025-05-14 03:59:50,111 - root - INFO - Test log message 904\n",
            "INFO:root:Test log message 905\n",
            "2025-05-14 03:59:50,112 - root - INFO - Test log message 905\n",
            "INFO:root:Test log message 906\n",
            "2025-05-14 03:59:50,114 - root - INFO - Test log message 906\n",
            "INFO:root:Test log message 907\n",
            "2025-05-14 03:59:50,115 - root - INFO - Test log message 907\n",
            "INFO:root:Test log message 908\n",
            "2025-05-14 03:59:50,116 - root - INFO - Test log message 908\n",
            "INFO:root:Test log message 909\n",
            "2025-05-14 03:59:50,117 - root - INFO - Test log message 909\n",
            "INFO:root:Test log message 910\n",
            "2025-05-14 03:59:50,119 - root - INFO - Test log message 910\n",
            "INFO:root:Test log message 911\n",
            "2025-05-14 03:59:50,120 - root - INFO - Test log message 911\n",
            "INFO:root:Test log message 912\n",
            "2025-05-14 03:59:50,122 - root - INFO - Test log message 912\n",
            "INFO:root:Test log message 913\n",
            "2025-05-14 03:59:50,124 - root - INFO - Test log message 913\n",
            "INFO:root:Test log message 914\n",
            "2025-05-14 03:59:50,125 - root - INFO - Test log message 914\n",
            "INFO:root:Test log message 915\n",
            "2025-05-14 03:59:50,127 - root - INFO - Test log message 915\n",
            "INFO:root:Test log message 916\n",
            "2025-05-14 03:59:50,128 - root - INFO - Test log message 916\n",
            "INFO:root:Test log message 917\n",
            "2025-05-14 03:59:50,130 - root - INFO - Test log message 917\n",
            "INFO:root:Test log message 918\n",
            "2025-05-14 03:59:50,131 - root - INFO - Test log message 918\n",
            "INFO:root:Test log message 919\n",
            "2025-05-14 03:59:50,132 - root - INFO - Test log message 919\n",
            "INFO:root:Test log message 920\n",
            "2025-05-14 03:59:50,134 - root - INFO - Test log message 920\n",
            "INFO:root:Test log message 921\n",
            "2025-05-14 03:59:50,136 - root - INFO - Test log message 921\n",
            "INFO:root:Test log message 922\n",
            "2025-05-14 03:59:50,137 - root - INFO - Test log message 922\n",
            "INFO:root:Test log message 923\n",
            "2025-05-14 03:59:50,139 - root - INFO - Test log message 923\n",
            "INFO:root:Test log message 924\n",
            "2025-05-14 03:59:50,142 - root - INFO - Test log message 924\n",
            "INFO:root:Test log message 925\n",
            "2025-05-14 03:59:50,143 - root - INFO - Test log message 925\n",
            "INFO:root:Test log message 926\n",
            "2025-05-14 03:59:50,144 - root - INFO - Test log message 926\n",
            "INFO:root:Test log message 927\n",
            "2025-05-14 03:59:50,145 - root - INFO - Test log message 927\n",
            "INFO:root:Test log message 928\n",
            "2025-05-14 03:59:50,146 - root - INFO - Test log message 928\n",
            "INFO:root:Test log message 929\n",
            "2025-05-14 03:59:50,147 - root - INFO - Test log message 929\n",
            "INFO:root:Test log message 930\n",
            "2025-05-14 03:59:50,148 - root - INFO - Test log message 930\n",
            "INFO:root:Test log message 931\n",
            "2025-05-14 03:59:50,150 - root - INFO - Test log message 931\n",
            "INFO:root:Test log message 932\n",
            "2025-05-14 03:59:50,152 - root - INFO - Test log message 932\n",
            "INFO:root:Test log message 933\n",
            "2025-05-14 03:59:50,154 - root - INFO - Test log message 933\n",
            "INFO:root:Test log message 934\n",
            "2025-05-14 03:59:50,158 - root - INFO - Test log message 934\n",
            "INFO:root:Test log message 935\n",
            "2025-05-14 03:59:50,159 - root - INFO - Test log message 935\n",
            "INFO:root:Test log message 936\n",
            "2025-05-14 03:59:50,163 - root - INFO - Test log message 936\n",
            "INFO:root:Test log message 937\n",
            "2025-05-14 03:59:50,165 - root - INFO - Test log message 937\n",
            "INFO:root:Test log message 938\n",
            "2025-05-14 03:59:50,166 - root - INFO - Test log message 938\n",
            "INFO:root:Test log message 939\n",
            "2025-05-14 03:59:50,167 - root - INFO - Test log message 939\n",
            "INFO:root:Test log message 940\n",
            "2025-05-14 03:59:50,169 - root - INFO - Test log message 940\n",
            "INFO:root:Test log message 941\n",
            "2025-05-14 03:59:50,171 - root - INFO - Test log message 941\n",
            "INFO:root:Test log message 942\n",
            "2025-05-14 03:59:50,172 - root - INFO - Test log message 942\n",
            "INFO:root:Test log message 943\n",
            "2025-05-14 03:59:50,174 - root - INFO - Test log message 943\n",
            "INFO:root:Test log message 944\n",
            "2025-05-14 03:59:50,176 - root - INFO - Test log message 944\n",
            "INFO:root:Test log message 945\n",
            "2025-05-14 03:59:50,177 - root - INFO - Test log message 945\n",
            "INFO:root:Test log message 946\n",
            "2025-05-14 03:59:50,178 - root - INFO - Test log message 946\n",
            "INFO:root:Test log message 947\n",
            "2025-05-14 03:59:50,181 - root - INFO - Test log message 947\n",
            "INFO:root:Test log message 948\n",
            "2025-05-14 03:59:50,183 - root - INFO - Test log message 948\n",
            "INFO:root:Test log message 949\n",
            "2025-05-14 03:59:50,184 - root - INFO - Test log message 949\n",
            "INFO:root:Test log message 950\n",
            "2025-05-14 03:59:50,185 - root - INFO - Test log message 950\n",
            "INFO:root:Test log message 951\n",
            "2025-05-14 03:59:50,186 - root - INFO - Test log message 951\n",
            "INFO:root:Test log message 952\n",
            "2025-05-14 03:59:50,187 - root - INFO - Test log message 952\n",
            "INFO:root:Test log message 953\n",
            "2025-05-14 03:59:50,189 - root - INFO - Test log message 953\n",
            "INFO:root:Test log message 954\n",
            "2025-05-14 03:59:50,190 - root - INFO - Test log message 954\n",
            "INFO:root:Test log message 955\n",
            "2025-05-14 03:59:50,194 - root - INFO - Test log message 955\n",
            "INFO:root:Test log message 956\n",
            "2025-05-14 03:59:50,196 - root - INFO - Test log message 956\n",
            "INFO:root:Test log message 957\n",
            "2025-05-14 03:59:50,197 - root - INFO - Test log message 957\n",
            "INFO:root:Test log message 958\n",
            "2025-05-14 03:59:50,199 - root - INFO - Test log message 958\n",
            "INFO:root:Test log message 959\n",
            "2025-05-14 03:59:50,202 - root - INFO - Test log message 959\n",
            "INFO:root:Test log message 960\n",
            "2025-05-14 03:59:50,205 - root - INFO - Test log message 960\n",
            "INFO:root:Test log message 961\n",
            "2025-05-14 03:59:50,206 - root - INFO - Test log message 961\n",
            "INFO:root:Test log message 962\n",
            "2025-05-14 03:59:50,207 - root - INFO - Test log message 962\n",
            "INFO:root:Test log message 963\n",
            "2025-05-14 03:59:50,207 - root - INFO - Test log message 963\n",
            "INFO:root:Test log message 964\n",
            "2025-05-14 03:59:50,210 - root - INFO - Test log message 964\n",
            "INFO:root:Test log message 965\n",
            "2025-05-14 03:59:50,212 - root - INFO - Test log message 965\n",
            "INFO:root:Test log message 966\n",
            "2025-05-14 03:59:50,213 - root - INFO - Test log message 966\n",
            "INFO:root:Test log message 967\n",
            "2025-05-14 03:59:50,215 - root - INFO - Test log message 967\n",
            "INFO:root:Test log message 968\n",
            "2025-05-14 03:59:50,217 - root - INFO - Test log message 968\n",
            "INFO:root:Test log message 969\n",
            "2025-05-14 03:59:50,218 - root - INFO - Test log message 969\n",
            "INFO:root:Test log message 970\n",
            "2025-05-14 03:59:50,219 - root - INFO - Test log message 970\n",
            "INFO:root:Test log message 971\n",
            "2025-05-14 03:59:50,220 - root - INFO - Test log message 971\n",
            "INFO:root:Test log message 972\n",
            "2025-05-14 03:59:50,222 - root - INFO - Test log message 972\n",
            "INFO:root:Test log message 973\n",
            "2025-05-14 03:59:50,226 - root - INFO - Test log message 973\n",
            "INFO:root:Test log message 974\n",
            "2025-05-14 03:59:50,228 - root - INFO - Test log message 974\n",
            "INFO:root:Test log message 975\n",
            "2025-05-14 03:59:50,230 - root - INFO - Test log message 975\n",
            "INFO:root:Test log message 976\n",
            "2025-05-14 03:59:50,231 - root - INFO - Test log message 976\n",
            "INFO:root:Test log message 977\n",
            "2025-05-14 03:59:50,233 - root - INFO - Test log message 977\n",
            "INFO:root:Test log message 978\n",
            "2025-05-14 03:59:50,234 - root - INFO - Test log message 978\n",
            "INFO:root:Test log message 979\n",
            "2025-05-14 03:59:50,238 - root - INFO - Test log message 979\n",
            "INFO:root:Test log message 980\n",
            "2025-05-14 03:59:50,240 - root - INFO - Test log message 980\n",
            "INFO:root:Test log message 981\n",
            "2025-05-14 03:59:50,241 - root - INFO - Test log message 981\n",
            "INFO:root:Test log message 982\n",
            "2025-05-14 03:59:50,242 - root - INFO - Test log message 982\n",
            "INFO:root:Test log message 983\n",
            "2025-05-14 03:59:50,243 - root - INFO - Test log message 983\n",
            "INFO:root:Test log message 984\n",
            "2025-05-14 03:59:50,246 - root - INFO - Test log message 984\n",
            "INFO:root:Test log message 985\n",
            "2025-05-14 03:59:50,247 - root - INFO - Test log message 985\n",
            "INFO:root:Test log message 986\n",
            "2025-05-14 03:59:50,249 - root - INFO - Test log message 986\n",
            "INFO:root:Test log message 987\n",
            "2025-05-14 03:59:50,250 - root - INFO - Test log message 987\n",
            "INFO:root:Test log message 988\n",
            "2025-05-14 03:59:50,251 - root - INFO - Test log message 988\n",
            "INFO:root:Test log message 989\n",
            "2025-05-14 03:59:50,253 - root - INFO - Test log message 989\n",
            "INFO:root:Test log message 990\n",
            "2025-05-14 03:59:50,255 - root - INFO - Test log message 990\n",
            "INFO:root:Test log message 991\n",
            "2025-05-14 03:59:50,257 - root - INFO - Test log message 991\n",
            "INFO:root:Test log message 992\n",
            "2025-05-14 03:59:50,258 - root - INFO - Test log message 992\n",
            "INFO:root:Test log message 993\n",
            "2025-05-14 03:59:50,260 - root - INFO - Test log message 993\n",
            "INFO:root:Test log message 994\n",
            "2025-05-14 03:59:50,262 - root - INFO - Test log message 994\n",
            "INFO:root:Test log message 995\n",
            "2025-05-14 03:59:50,263 - root - INFO - Test log message 995\n",
            "INFO:root:Test log message 996\n",
            "2025-05-14 03:59:50,264 - root - INFO - Test log message 996\n",
            "INFO:root:Test log message 997\n",
            "2025-05-14 03:59:50,265 - root - INFO - Test log message 997\n",
            "INFO:root:Test log message 998\n",
            "2025-05-14 03:59:50,268 - root - INFO - Test log message 998\n",
            "INFO:root:Test log message 999\n",
            "2025-05-14 03:59:50,270 - root - INFO - Test log message 999\n"
          ]
        }
      ]
    },
    {
      "cell_type": "markdown",
      "source": [
        "##19.Write a program that handles both IndexError and KeyError using a try-except block"
      ],
      "metadata": {
        "id": "UjI_RZKr8-BH"
      }
    },
    {
      "cell_type": "code",
      "source": [
        "try:\n",
        "    data = [1, 2, 3]\n",
        "    value = data[3]  # Possible IndexError\n",
        "\n",
        "    mapping = {'a': 1}\n",
        "    value = mapping['b']  # Possible KeyError\n",
        "\n",
        "except IndexError:\n",
        "    print(\"List index out of range\")\n",
        "except KeyError:\n",
        "    print(\"Dictionary key not found\")"
      ],
      "metadata": {
        "colab": {
          "base_uri": "https://localhost:8080/"
        },
        "id": "d6EF_RSa89dF",
        "outputId": "fefa8c00-6ca8-447f-8c3d-20a3451dbb56"
      },
      "execution_count": 21,
      "outputs": [
        {
          "output_type": "stream",
          "name": "stdout",
          "text": [
            "List index out of range\n"
          ]
        }
      ]
    },
    {
      "cell_type": "markdown",
      "source": [
        "##20.How would you open a file and read its contents using a context manager in Python?"
      ],
      "metadata": {
        "id": "dDSDDksZ9a_z"
      }
    },
    {
      "cell_type": "code",
      "source": [
        "try:\n",
        "    with open('file.txt') as file:\n",
        "        contents = file.read()\n",
        "except FileNotFoundError:\n",
        "    print(\"File not found\")\n",
        "except IOError:\n",
        "    print(\"Error reading file\")\n",
        "else:\n",
        "    print(contents)"
      ],
      "metadata": {
        "colab": {
          "base_uri": "https://localhost:8080/"
        },
        "id": "mh-cGEW47pos",
        "outputId": "3898331d-6cb4-4106-b22a-fdc136321bb6"
      },
      "execution_count": 22,
      "outputs": [
        {
          "output_type": "stream",
          "name": "stdout",
          "text": [
            "File not found\n"
          ]
        }
      ]
    },
    {
      "cell_type": "markdown",
      "source": [
        "##21.Write a Python program that reads a file and prints the number of occurrences of a specific word?"
      ],
      "metadata": {
        "id": "6rscKEl79qwo"
      }
    },
    {
      "cell_type": "code",
      "source": [
        "def count_word_occurrences(filename, target_word):\n",
        "    try:\n",
        "        with open(filename, 'r') as file:\n",
        "            content = file.read()\n",
        "            word_count = content.lower().split().count(target_word.lower())\n",
        "            print(f\"The word '{target_word}' appears {word_count} times in the file.\")\n",
        "    except FileNotFoundError:\n",
        "        print(f\"Error: File '{filename}' not found.\")\n",
        "    except Exception as e:\n",
        "        print(f\"An error occurred: {e}\")\n",
        "\n",
        "# Example usage\n",
        "if __name__ == \"__main__\":\n",
        "    filename = input(\"Enter the file path: \")\n",
        "    target_word = input(\"Enter the word to count: \")\n",
        "    count_word_occurrences(filename, target_word)"
      ],
      "metadata": {
        "colab": {
          "base_uri": "https://localhost:8080/"
        },
        "id": "6buIsCta9orJ",
        "outputId": "a8c01b20-3af0-45a1-b38a-fc103b3742db"
      },
      "execution_count": 23,
      "outputs": [
        {
          "output_type": "stream",
          "name": "stdout",
          "text": [
            "Enter the file path: pdf\n",
            "Enter the word to count: 7\n",
            "Error: File 'pdf' not found.\n"
          ]
        }
      ]
    },
    {
      "cell_type": "markdown",
      "source": [
        "##22.How can you check if a file is empty before attempting to read its contents"
      ],
      "metadata": {
        "id": "kH9QwUNF-RqE"
      }
    },
    {
      "cell_type": "code",
      "source": [
        "import os\n",
        "\n",
        "def is_file_empty(file_path):\n",
        "    return os.path.getsize(file_path) == 0\n",
        "\n",
        "# Usage\n",
        "if is_file_empty('myfile.txt'):\n",
        "    print(\"File is empty\")\n",
        "else:\n",
        "    with open('myfile.txt') as file:\n",
        "        content = file.read()"
      ],
      "metadata": {
        "colab": {
          "base_uri": "https://localhost:8080/",
          "height": 282
        },
        "id": "be5S0e11-vMf",
        "outputId": "563d1f93-fed8-4a91-b6a3-775e0bac61a5"
      },
      "execution_count": 25,
      "outputs": [
        {
          "output_type": "error",
          "ename": "FileNotFoundError",
          "evalue": "[Errno 2] No such file or directory: 'myfile.txt'",
          "traceback": [
            "\u001b[0;31m---------------------------------------------------------------------------\u001b[0m",
            "\u001b[0;31mFileNotFoundError\u001b[0m                         Traceback (most recent call last)",
            "\u001b[0;32m<ipython-input-25-f5b8079193fe>\u001b[0m in \u001b[0;36m<cell line: 0>\u001b[0;34m()\u001b[0m\n\u001b[1;32m      5\u001b[0m \u001b[0;34m\u001b[0m\u001b[0m\n\u001b[1;32m      6\u001b[0m \u001b[0;31m# Usage\u001b[0m\u001b[0;34m\u001b[0m\u001b[0;34m\u001b[0m\u001b[0m\n\u001b[0;32m----> 7\u001b[0;31m \u001b[0;32mif\u001b[0m \u001b[0mis_file_empty\u001b[0m\u001b[0;34m(\u001b[0m\u001b[0;34m'myfile.txt'\u001b[0m\u001b[0;34m)\u001b[0m\u001b[0;34m:\u001b[0m\u001b[0;34m\u001b[0m\u001b[0;34m\u001b[0m\u001b[0m\n\u001b[0m\u001b[1;32m      8\u001b[0m     \u001b[0mprint\u001b[0m\u001b[0;34m(\u001b[0m\u001b[0;34m\"File is empty\"\u001b[0m\u001b[0;34m)\u001b[0m\u001b[0;34m\u001b[0m\u001b[0;34m\u001b[0m\u001b[0m\n\u001b[1;32m      9\u001b[0m \u001b[0;32melse\u001b[0m\u001b[0;34m:\u001b[0m\u001b[0;34m\u001b[0m\u001b[0;34m\u001b[0m\u001b[0m\n",
            "\u001b[0;32m<ipython-input-25-f5b8079193fe>\u001b[0m in \u001b[0;36mis_file_empty\u001b[0;34m(file_path)\u001b[0m\n\u001b[1;32m      2\u001b[0m \u001b[0;34m\u001b[0m\u001b[0m\n\u001b[1;32m      3\u001b[0m \u001b[0;32mdef\u001b[0m \u001b[0mis_file_empty\u001b[0m\u001b[0;34m(\u001b[0m\u001b[0mfile_path\u001b[0m\u001b[0;34m)\u001b[0m\u001b[0;34m:\u001b[0m\u001b[0;34m\u001b[0m\u001b[0;34m\u001b[0m\u001b[0m\n\u001b[0;32m----> 4\u001b[0;31m     \u001b[0;32mreturn\u001b[0m \u001b[0mos\u001b[0m\u001b[0;34m.\u001b[0m\u001b[0mpath\u001b[0m\u001b[0;34m.\u001b[0m\u001b[0mgetsize\u001b[0m\u001b[0;34m(\u001b[0m\u001b[0mfile_path\u001b[0m\u001b[0;34m)\u001b[0m \u001b[0;34m==\u001b[0m \u001b[0;36m0\u001b[0m\u001b[0;34m\u001b[0m\u001b[0;34m\u001b[0m\u001b[0m\n\u001b[0m\u001b[1;32m      5\u001b[0m \u001b[0;34m\u001b[0m\u001b[0m\n\u001b[1;32m      6\u001b[0m \u001b[0;31m# Usage\u001b[0m\u001b[0;34m\u001b[0m\u001b[0;34m\u001b[0m\u001b[0m\n",
            "\u001b[0;32m/usr/lib/python3.11/genericpath.py\u001b[0m in \u001b[0;36mgetsize\u001b[0;34m(filename)\u001b[0m\n",
            "\u001b[0;31mFileNotFoundError\u001b[0m: [Errno 2] No such file or directory: 'myfile.txt'"
          ]
        }
      ]
    },
    {
      "cell_type": "markdown",
      "source": [
        "##23.Write a Python program that writes to a log file when an error occurs during file handling."
      ],
      "metadata": {
        "id": "qdzDemLk-8DT"
      }
    },
    {
      "cell_type": "code",
      "source": [
        "import logging\n",
        "from datetime import datetime\n",
        "\n",
        "def setup_logging():\n",
        "    \"\"\"Configure logging to file with timestamp\"\"\"\n",
        "    logging.basicConfig(\n",
        "        filename='file_errors.log',\n",
        "        level=logging.ERROR,\n",
        "        format='%(asctime)s - %(levelname)s - %(message)s',\n",
        "        datefmt='%Y-%m-%d %H:%M:%S'\n",
        "    )\n",
        "\n",
        "def read_file_safely(filename):\n",
        "    \"\"\"Attempt to read a file with error logging\"\"\"\n",
        "    try:\n",
        "        with open(filename, 'r') as file:\n",
        "            content = file.read()\n",
        "            print(f\"Successfully read {filename}\")\n",
        "            return content\n",
        "    except FileNotFoundError:\n",
        "        logging.error(f\"File not found: {filename}\")\n",
        "    except PermissionError:\n",
        "        logging.error(f\"Permission denied for: {filename}\")\n",
        "    except UnicodeDecodeError:\n",
        "        logging.error(f\"Encoding error in: {filename}\")\n",
        "    except Exception as e:\n",
        "        logging.error(f\"Unexpected error with {filename}: {str(e)}\")\n",
        "    return None\n",
        "\n",
        "def write_file_safely(filename, content):\n",
        "    \"\"\"Attempt to write to a file with error logging\"\"\"\n",
        "    try:\n",
        "        with open(filename, 'w') as file:\n",
        "            file.write(content)\n",
        "            print(f\"Successfully wrote to {filename}\")\n",
        "            return True\n",
        "    except PermissionError:\n",
        "        logging.error(f\"Write permission denied for: {filename}\")\n",
        "    except IOError as e:\n",
        "        logging.error(f\"I/O error writing to {filename}: {str(e)}\")\n",
        "    except Exception as e:\n",
        "        logging.error(f\"Unexpected error writing to {filename}: {str(e)}\")\n",
        "    return False\n",
        "\n",
        "if __name__ == \"__main__\":\n",
        "    setup_logging()\n",
        "\n",
        "    # Test file operations\n",
        "    read_file_safely(\"nonexistent.txt\")  # Will log error\n",
        "    write_file_safely(\"/protected/file.txt\", \"test\")  # Will likely log error\n",
        "\n",
        "    # Successful operation\n",
        "    write_file_safely(\"test.txt\", \"Sample content\")\n",
        "    read_file_safely(\"test.txt\")"
      ],
      "metadata": {
        "colab": {
          "base_uri": "https://localhost:8080/"
        },
        "id": "A9Cd1kyy-7uY",
        "outputId": "b06bbf14-a505-4c06-93ee-231a3cdcafc3"
      },
      "execution_count": 26,
      "outputs": [
        {
          "output_type": "stream",
          "name": "stderr",
          "text": [
            "ERROR:root:File not found: nonexistent.txt\n",
            "2025-05-14 04:12:42,094 - root - ERROR - File not found: nonexistent.txt\n",
            "ERROR:root:I/O error writing to /protected/file.txt: [Errno 2] No such file or directory: '/protected/file.txt'\n",
            "2025-05-14 04:12:42,096 - root - ERROR - I/O error writing to /protected/file.txt: [Errno 2] No such file or directory: '/protected/file.txt'\n"
          ]
        },
        {
          "output_type": "stream",
          "name": "stdout",
          "text": [
            "Successfully wrote to test.txt\n",
            "Successfully read test.txt\n"
          ]
        }
      ]
    },
    {
      "cell_type": "code",
      "source": [],
      "metadata": {
        "id": "kRv4vmDo-3Cd"
      },
      "execution_count": null,
      "outputs": []
    }
  ]
}